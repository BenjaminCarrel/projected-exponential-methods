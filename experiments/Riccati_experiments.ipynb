{
 "cells": [
  {
   "cell_type": "markdown",
   "metadata": {},
   "source": [
    "# Riccati experiments\n",
    "\n",
    "Notebook for Riccati experiments.\n",
    "\n",
    "**Author:** [Benjamin Carrel](benjamin.carrel@unige.ch)"
   ]
  },
  {
   "cell_type": "markdown",
   "metadata": {},
   "source": [
    "## Compare the methods - Global error and performance"
   ]
  },
  {
   "cell_type": "markdown",
   "metadata": {},
   "source": [
    "### Setup the problem"
   ]
  },
  {
   "cell_type": "code",
   "execution_count": 2,
   "metadata": {},
   "outputs": [
    {
     "name": "stdout",
     "output_type": "stream",
     "text": [
      "Riccati ODE structure with 3 parameters.\n"
     ]
    }
   ],
   "source": [
    "# Imports\n",
    "import numpy as np\n",
    "import matplotlib.pyplot as plt\n",
    "from matrix_ode_toolbox.integrate import solve_matrix_ivp\n",
    "from matrix_ode_toolbox.dlra import solve_dlra\n",
    "from problems import make_riccati_ostermann\n",
    "from low_rank_toolbox import SVD, LowRankMatrix\n",
    "import scipy.sparse.linalg as spala\n",
    "import time\n",
    "\n",
    "# Problem parameters\n",
    "size = 200 # 200\n",
    "q = 9 # 9\n",
    "t_span = (0, 0.1) # (0, 0.1)\n",
    "make_ode = lambda size: make_riccati_ostermann(size, q)\n",
    "ode, X0 = make_ode(size)\n",
    "\n",
    "# Print the ode\n",
    "print(ode)\n",
    "\n",
    "# Preprocess the problem\n",
    "if not isinstance(X0, LowRankMatrix):\n",
    "    X0 = SVD.reduced_svd(X0)\n",
    "invA = spala.splu(ode.A).solve\n",
    "invB = spala.splu(ode.B).solve"
   ]
  },
  {
   "cell_type": "markdown",
   "metadata": {},
   "source": [
    "### Setup the solvers"
   ]
  },
  {
   "cell_type": "code",
   "execution_count": 6,
   "metadata": {},
   "outputs": [],
   "source": [
    "# DLRA parameters\n",
    "rank = 20 # 20\n",
    "Y0 = X0.truncate(rank)\n",
    "\n",
    "# Methods parameters - ALL PERK\n",
    "nb_steps = np.logspace(1, 4, 8, dtype=int) # np.logspace(1, 4, 8, dtype=int)\n",
    "stepsizes = t_span[1] / nb_steps\n",
    "dlra_solvers = ['PERK', 'PERK', 'low_rank_splitting', 'low_rank_splitting']\n",
    "krylov_kwargs = {'size': 1,\n",
    "                 'kind': 'extended',\n",
    "                 'is_symmetric': True,\n",
    "                 'invA': invA,\n",
    "                 'invB': invB}\n",
    "methods_kwargs = [{'order': 1, 'krylov_kwargs': krylov_kwargs},\n",
    "                  {'order': 2, 'krylov_kwargs': krylov_kwargs, 'strict_order_conditions': True},\n",
    "                  {'order': 1},\n",
    "                  {'order': 2}]\n",
    "\n",
    "## Pre-allocate some variables\n",
    "global_errors = np.zeros((len(nb_steps), len(dlra_solvers)))\n",
    "times = np.zeros((len(nb_steps), len(dlra_solvers)))"
   ]
  },
  {
   "cell_type": "markdown",
   "metadata": {},
   "source": [
    "### Run the solvers"
   ]
  },
  {
   "cell_type": "code",
   "execution_count": 7,
   "metadata": {},
   "outputs": [
    {
     "name": "stdout",
     "output_type": "stream",
     "text": [
      "*************************************************************************\n",
      "Solving with 10 steps. (1/6)\n",
      "----------------------------------------\n",
      "Scipy solver \n",
      "-- RK45 method \n",
      "-- 1 substep(s)\n"
     ]
    },
    {
     "name": "stderr",
     "output_type": "stream",
     "text": [
      "Solving matrix ODE: 100%|██████████| 10/10 [00:01<00:00,  7.72it/s]\n"
     ]
    },
    {
     "name": "stdout",
     "output_type": "stream",
     "text": [
      "----------------------------------------\n",
      "Projected exponential Runge-Kutta (PERK) \n",
      "-- 1 stage(s) \n",
      "-- Strict order conditions: True \n",
      "-- 1 substep(s) \n",
      "-- extended Krylov space and 1 iteration(s) \n",
      "-- Largest matrix shape: (4*rank, 4*rank)\n"
     ]
    },
    {
     "name": "stderr",
     "output_type": "stream",
     "text": [
      "Solving DLRA: 100%|██████████| 10/10 [00:00<00:00, 23.60it/s]\n"
     ]
    },
    {
     "name": "stdout",
     "output_type": "stream",
     "text": [
      "----------------------------------------\n",
      "Projected exponential Runge-Kutta (PERK) \n",
      "-- 2 stage(s) \n",
      "-- Strict order conditions: True \n",
      "-- 1 substep(s) \n",
      "-- extended Krylov space and 1 iteration(s) \n",
      "-- Largest matrix shape: (8*rank, 8*rank)\n"
     ]
    },
    {
     "name": "stderr",
     "output_type": "stream",
     "text": [
      "Solving DLRA: 100%|██████████| 10/10 [00:00<00:00, 11.40it/s]\n"
     ]
    },
    {
     "name": "stdout",
     "output_type": "stream",
     "text": [
      "----------------------------------------\n",
      "Low-rank splitting (Ostermann et al. 2019) \n",
      "-- Order 1 splitting (Lie-Trotter) \n",
      "-- 1 substep(s) \n",
      "-- Projector splitting (KSL) as low-rank solver\n"
     ]
    },
    {
     "name": "stderr",
     "output_type": "stream",
     "text": [
      "Solving DLRA: 100%|██████████| 10/10 [00:00<00:00, 33.07it/s]\n"
     ]
    },
    {
     "name": "stdout",
     "output_type": "stream",
     "text": [
      "----------------------------------------\n",
      "Low-rank splitting (Ostermann et al. 2019) \n",
      "-- Order 2 splitting (Strang) \n",
      "-- 1 substep(s) \n",
      "-- Projector splitting (KSL) as low-rank solver\n"
     ]
    },
    {
     "name": "stderr",
     "output_type": "stream",
     "text": [
      "Solving DLRA: 100%|██████████| 10/10 [00:00<00:00, 31.07it/s]\n"
     ]
    },
    {
     "name": "stdout",
     "output_type": "stream",
     "text": [
      "*************************************************************************\n",
      "Solving with 25 steps. (2/6)\n",
      "----------------------------------------\n",
      "Scipy solver \n",
      "-- RK45 method \n",
      "-- 1 substep(s)\n"
     ]
    },
    {
     "name": "stderr",
     "output_type": "stream",
     "text": [
      "Solving matrix ODE: 100%|██████████| 25/25 [00:01<00:00, 19.37it/s]\n"
     ]
    },
    {
     "name": "stdout",
     "output_type": "stream",
     "text": [
      "----------------------------------------\n",
      "Projected exponential Runge-Kutta (PERK) \n",
      "-- 1 stage(s) \n",
      "-- Strict order conditions: True \n",
      "-- 1 substep(s) \n",
      "-- extended Krylov space and 1 iteration(s) \n",
      "-- Largest matrix shape: (4*rank, 4*rank)\n"
     ]
    },
    {
     "name": "stderr",
     "output_type": "stream",
     "text": [
      "Solving DLRA: 100%|██████████| 25/25 [00:00<00:00, 42.38it/s]\n"
     ]
    },
    {
     "name": "stdout",
     "output_type": "stream",
     "text": [
      "----------------------------------------\n",
      "Projected exponential Runge-Kutta (PERK) \n",
      "-- 2 stage(s) \n",
      "-- Strict order conditions: True \n",
      "-- 1 substep(s) \n",
      "-- extended Krylov space and 1 iteration(s) \n",
      "-- Largest matrix shape: (8*rank, 8*rank)\n"
     ]
    },
    {
     "name": "stderr",
     "output_type": "stream",
     "text": [
      "Solving DLRA: 100%|██████████| 25/25 [00:01<00:00, 18.41it/s]\n"
     ]
    },
    {
     "name": "stdout",
     "output_type": "stream",
     "text": [
      "----------------------------------------\n",
      "Low-rank splitting (Ostermann et al. 2019) \n",
      "-- Order 1 splitting (Lie-Trotter) \n",
      "-- 1 substep(s) \n",
      "-- Projector splitting (KSL) as low-rank solver\n"
     ]
    },
    {
     "name": "stderr",
     "output_type": "stream",
     "text": [
      "Solving DLRA: 100%|██████████| 25/25 [00:00<00:00, 60.77it/s]\n"
     ]
    },
    {
     "name": "stdout",
     "output_type": "stream",
     "text": [
      "----------------------------------------\n",
      "Low-rank splitting (Ostermann et al. 2019) \n",
      "-- Order 2 splitting (Strang) \n",
      "-- 1 substep(s) \n",
      "-- Projector splitting (KSL) as low-rank solver\n"
     ]
    },
    {
     "name": "stderr",
     "output_type": "stream",
     "text": [
      "Solving DLRA: 100%|██████████| 25/25 [00:00<00:00, 49.06it/s]\n"
     ]
    },
    {
     "name": "stdout",
     "output_type": "stream",
     "text": [
      "*************************************************************************\n",
      "Solving with 63 steps. (3/6)\n",
      "----------------------------------------\n",
      "Scipy solver \n",
      "-- RK45 method \n",
      "-- 1 substep(s)\n"
     ]
    },
    {
     "name": "stderr",
     "output_type": "stream",
     "text": [
      "Solving matrix ODE: 100%|██████████| 63/63 [00:01<00:00, 42.56it/s]\n"
     ]
    },
    {
     "name": "stdout",
     "output_type": "stream",
     "text": [
      "----------------------------------------\n",
      "Projected exponential Runge-Kutta (PERK) \n",
      "-- 1 stage(s) \n",
      "-- Strict order conditions: True \n",
      "-- 1 substep(s) \n",
      "-- extended Krylov space and 1 iteration(s) \n",
      "-- Largest matrix shape: (4*rank, 4*rank)\n"
     ]
    },
    {
     "name": "stderr",
     "output_type": "stream",
     "text": [
      "Solving DLRA: 100%|██████████| 63/63 [00:01<00:00, 56.53it/s]\n"
     ]
    },
    {
     "name": "stdout",
     "output_type": "stream",
     "text": [
      "----------------------------------------\n",
      "Projected exponential Runge-Kutta (PERK) \n",
      "-- 2 stage(s) \n",
      "-- Strict order conditions: True \n",
      "-- 1 substep(s) \n",
      "-- extended Krylov space and 1 iteration(s) \n",
      "-- Largest matrix shape: (8*rank, 8*rank)\n"
     ]
    },
    {
     "name": "stderr",
     "output_type": "stream",
     "text": [
      "Solving DLRA: 100%|██████████| 63/63 [00:02<00:00, 26.20it/s]\n"
     ]
    },
    {
     "name": "stdout",
     "output_type": "stream",
     "text": [
      "----------------------------------------\n",
      "Low-rank splitting (Ostermann et al. 2019) \n",
      "-- Order 1 splitting (Lie-Trotter) \n",
      "-- 1 substep(s) \n",
      "-- Projector splitting (KSL) as low-rank solver\n"
     ]
    },
    {
     "name": "stderr",
     "output_type": "stream",
     "text": [
      "Solving DLRA: 100%|██████████| 63/63 [00:00<00:00, 89.14it/s]\n"
     ]
    },
    {
     "name": "stdout",
     "output_type": "stream",
     "text": [
      "----------------------------------------\n",
      "Low-rank splitting (Ostermann et al. 2019) \n",
      "-- Order 2 splitting (Strang) \n",
      "-- 1 substep(s) \n",
      "-- Projector splitting (KSL) as low-rank solver\n"
     ]
    },
    {
     "name": "stderr",
     "output_type": "stream",
     "text": [
      "Solving DLRA: 100%|██████████| 63/63 [00:00<00:00, 80.43it/s]\n"
     ]
    },
    {
     "name": "stdout",
     "output_type": "stream",
     "text": [
      "*************************************************************************\n",
      "Solving with 158 steps. (4/6)\n",
      "----------------------------------------\n",
      "Scipy solver \n",
      "-- RK45 method \n",
      "-- 1 substep(s)\n"
     ]
    },
    {
     "name": "stderr",
     "output_type": "stream",
     "text": [
      "Solving matrix ODE: 100%|██████████| 158/158 [00:01<00:00, 107.32it/s]\n"
     ]
    },
    {
     "name": "stdout",
     "output_type": "stream",
     "text": [
      "----------------------------------------\n",
      "Projected exponential Runge-Kutta (PERK) \n",
      "-- 1 stage(s) \n",
      "-- Strict order conditions: True \n",
      "-- 1 substep(s) \n",
      "-- extended Krylov space and 1 iteration(s) \n",
      "-- Largest matrix shape: (4*rank, 4*rank)\n"
     ]
    },
    {
     "name": "stderr",
     "output_type": "stream",
     "text": [
      "Solving DLRA: 100%|██████████| 158/158 [00:02<00:00, 67.00it/s]\n"
     ]
    },
    {
     "name": "stdout",
     "output_type": "stream",
     "text": [
      "----------------------------------------\n",
      "Projected exponential Runge-Kutta (PERK) \n",
      "-- 2 stage(s) \n",
      "-- Strict order conditions: True \n",
      "-- 1 substep(s) \n",
      "-- extended Krylov space and 1 iteration(s) \n",
      "-- Largest matrix shape: (8*rank, 8*rank)\n"
     ]
    },
    {
     "name": "stderr",
     "output_type": "stream",
     "text": [
      "Solving DLRA: 100%|██████████| 158/158 [00:05<00:00, 29.81it/s]\n"
     ]
    },
    {
     "name": "stdout",
     "output_type": "stream",
     "text": [
      "----------------------------------------\n",
      "Low-rank splitting (Ostermann et al. 2019) \n",
      "-- Order 1 splitting (Lie-Trotter) \n",
      "-- 1 substep(s) \n",
      "-- Projector splitting (KSL) as low-rank solver\n"
     ]
    },
    {
     "name": "stderr",
     "output_type": "stream",
     "text": [
      "Solving DLRA: 100%|██████████| 158/158 [00:01<00:00, 116.90it/s]\n"
     ]
    },
    {
     "name": "stdout",
     "output_type": "stream",
     "text": [
      "----------------------------------------\n",
      "Low-rank splitting (Ostermann et al. 2019) \n",
      "-- Order 2 splitting (Strang) \n",
      "-- 1 substep(s) \n",
      "-- Projector splitting (KSL) as low-rank solver\n"
     ]
    },
    {
     "name": "stderr",
     "output_type": "stream",
     "text": [
      "Solving DLRA: 100%|██████████| 158/158 [00:01<00:00, 95.15it/s]\n"
     ]
    },
    {
     "name": "stdout",
     "output_type": "stream",
     "text": [
      "*************************************************************************\n",
      "Solving with 398 steps. (5/6)\n",
      "----------------------------------------\n",
      "Scipy solver \n",
      "-- RK45 method \n",
      "-- 1 substep(s)\n"
     ]
    },
    {
     "name": "stderr",
     "output_type": "stream",
     "text": [
      "Solving matrix ODE: 100%|██████████| 398/398 [00:01<00:00, 226.36it/s]\n"
     ]
    },
    {
     "name": "stdout",
     "output_type": "stream",
     "text": [
      "----------------------------------------\n",
      "Projected exponential Runge-Kutta (PERK) \n",
      "-- 1 stage(s) \n",
      "-- Strict order conditions: True \n",
      "-- 1 substep(s) \n",
      "-- extended Krylov space and 1 iteration(s) \n",
      "-- Largest matrix shape: (4*rank, 4*rank)\n"
     ]
    },
    {
     "name": "stderr",
     "output_type": "stream",
     "text": [
      "Solving DLRA: 100%|██████████| 398/398 [00:05<00:00, 76.47it/s]\n"
     ]
    },
    {
     "name": "stdout",
     "output_type": "stream",
     "text": [
      "----------------------------------------\n",
      "Projected exponential Runge-Kutta (PERK) \n",
      "-- 2 stage(s) \n",
      "-- Strict order conditions: True \n",
      "-- 1 substep(s) \n",
      "-- extended Krylov space and 1 iteration(s) \n",
      "-- Largest matrix shape: (8*rank, 8*rank)\n"
     ]
    },
    {
     "name": "stderr",
     "output_type": "stream",
     "text": [
      "Solving DLRA: 100%|██████████| 398/398 [00:12<00:00, 32.60it/s]\n"
     ]
    },
    {
     "name": "stdout",
     "output_type": "stream",
     "text": [
      "----------------------------------------\n",
      "Low-rank splitting (Ostermann et al. 2019) \n",
      "-- Order 1 splitting (Lie-Trotter) \n",
      "-- 1 substep(s) \n",
      "-- Projector splitting (KSL) as low-rank solver\n"
     ]
    },
    {
     "name": "stderr",
     "output_type": "stream",
     "text": [
      "Solving DLRA: 100%|██████████| 398/398 [00:02<00:00, 133.21it/s]\n"
     ]
    },
    {
     "name": "stdout",
     "output_type": "stream",
     "text": [
      "----------------------------------------\n",
      "Low-rank splitting (Ostermann et al. 2019) \n",
      "-- Order 2 splitting (Strang) \n",
      "-- 1 substep(s) \n",
      "-- Projector splitting (KSL) as low-rank solver\n"
     ]
    },
    {
     "name": "stderr",
     "output_type": "stream",
     "text": [
      "Solving DLRA: 100%|██████████| 398/398 [00:03<00:00, 105.59it/s]\n"
     ]
    },
    {
     "name": "stdout",
     "output_type": "stream",
     "text": [
      "*************************************************************************\n",
      "Solving with 1000 steps. (6/6)\n",
      "----------------------------------------\n",
      "Scipy solver \n",
      "-- RK45 method \n",
      "-- 1 substep(s)\n"
     ]
    },
    {
     "name": "stderr",
     "output_type": "stream",
     "text": [
      "Solving matrix ODE: 100%|██████████| 1000/1000 [00:02<00:00, 494.13it/s]\n"
     ]
    },
    {
     "name": "stdout",
     "output_type": "stream",
     "text": [
      "----------------------------------------\n",
      "Projected exponential Runge-Kutta (PERK) \n",
      "-- 1 stage(s) \n",
      "-- Strict order conditions: True \n",
      "-- 1 substep(s) \n",
      "-- extended Krylov space and 1 iteration(s) \n",
      "-- Largest matrix shape: (4*rank, 4*rank)\n"
     ]
    },
    {
     "name": "stderr",
     "output_type": "stream",
     "text": [
      "Solving DLRA: 100%|██████████| 1000/1000 [00:12<00:00, 78.99it/s]\n"
     ]
    },
    {
     "name": "stdout",
     "output_type": "stream",
     "text": [
      "----------------------------------------\n",
      "Projected exponential Runge-Kutta (PERK) \n",
      "-- 2 stage(s) \n",
      "-- Strict order conditions: True \n",
      "-- 1 substep(s) \n",
      "-- extended Krylov space and 1 iteration(s) \n",
      "-- Largest matrix shape: (8*rank, 8*rank)\n"
     ]
    },
    {
     "name": "stderr",
     "output_type": "stream",
     "text": [
      "Solving DLRA: 100%|██████████| 1000/1000 [00:29<00:00, 33.40it/s]\n"
     ]
    },
    {
     "name": "stdout",
     "output_type": "stream",
     "text": [
      "----------------------------------------\n",
      "Low-rank splitting (Ostermann et al. 2019) \n",
      "-- Order 1 splitting (Lie-Trotter) \n",
      "-- 1 substep(s) \n",
      "-- Projector splitting (KSL) as low-rank solver\n"
     ]
    },
    {
     "name": "stderr",
     "output_type": "stream",
     "text": [
      "Solving DLRA: 100%|██████████| 1000/1000 [00:03<00:00, 311.66it/s]\n"
     ]
    },
    {
     "name": "stdout",
     "output_type": "stream",
     "text": [
      "----------------------------------------\n",
      "Low-rank splitting (Ostermann et al. 2019) \n",
      "-- Order 2 splitting (Strang) \n",
      "-- 1 substep(s) \n",
      "-- Projector splitting (KSL) as low-rank solver\n"
     ]
    },
    {
     "name": "stderr",
     "output_type": "stream",
     "text": [
      "Solving DLRA: 100%|██████████| 1000/1000 [00:05<00:00, 196.69it/s]\n"
     ]
    }
   ],
   "source": [
    "# Loop over the number of steps\n",
    "for i, nb in enumerate(nb_steps):\n",
    "    print('*************************************************************************')\n",
    "    print(f'Solving with {nb} steps. ({i+1}/{len(nb_steps)})')\n",
    "    t_eval = np.linspace(*t_span, nb+1)\n",
    "\n",
    "    # Compute the reference solution\n",
    "    X1 = solve_matrix_ivp(ode, t_span, X0, solver=\"automatic\", t_eval=t_eval, dense_output=True, monitor=True).X1\n",
    "    \n",
    "    # Loop over the methods\n",
    "    for j, method in enumerate(dlra_solvers):\n",
    "        # Compute the solution with the current method\n",
    "        t0 = time.time()\n",
    "        Y1 = solve_dlra(ode, t_span, Y0, dlra_solver=method, t_eval=t_eval, monitor=True, solver_kwargs=methods_kwargs[j]).X1\n",
    "        times[i, j] = time.time() - t0\n",
    "\n",
    "        # Compute the relative error\n",
    "        global_errors[i, j] = np.linalg.norm(Y1.todense() - X1, 'fro') / np.linalg.norm(X1, 'fro')\n",
    "\n",
    "# Approximate error\n",
    "approx_error = np.linalg.norm(X1 - SVD.truncated_svd(X1, rank).todense(), 'fro') / np.linalg.norm(X1, 'fro')"
   ]
  },
  {
   "cell_type": "markdown",
   "metadata": {},
   "source": [
    "### Plot the comparison with the low-rank splitting method"
   ]
  },
  {
   "cell_type": "code",
   "execution_count": 13,
   "metadata": {},
   "outputs": [
    {
     "data": {
      "image/png": "[encoded data removed]",
      "text/plain": [
       "<Figure size 640x480 with 1 Axes>"
      ]
     },
     "metadata": {},
     "output_type": "display_data"
    },
    {
     "data": {
      "image/png": "[encoded data removed]",
      "text/plain": [
       "<Figure size 640x480 with 1 Axes>"
      ]
     },
     "metadata": {},
     "output_type": "display_data"
    }
   ],
   "source": [
    "# Plot the errors\n",
    "fig1 = plt.figure()\n",
    "method_names = ['Proj. exponential Euler', 'Proj. exponential Runge', 'Low-rank splitting (Lie-Trotter)', 'Low-rank splitting (Strang)']\n",
    "styles = ['-o', '-x', '-s', '-+']\n",
    "plt.loglog(stepsizes, global_errors[:, 0], styles[0], label=method_names[0])\n",
    "plt.loglog(stepsizes, global_errors[:, 1], styles[1], label=method_names[1])\n",
    "plt.loglog(stepsizes, global_errors[:, 2], styles[2], label=method_names[2])\n",
    "plt.loglog(stepsizes, global_errors[:, 3], styles[3], label=method_names[3])\n",
    "plt.loglog(stepsizes, 1e-1*stepsizes, 'k') # , label=r'$O(h)$'\n",
    "plt.loglog(stepsizes, 1e-1*stepsizes**2, 'k') # , label=r'$O(h^2)$'\n",
    "plt.axhline(approx_error, linestyle='--', color='gray', label=f'Approx. error ($r={rank}$)')\n",
    "plt.legend(loc='upper left')\n",
    "plt.grid()\n",
    "plt.xlabel(\"Step size\")\n",
    "plt.ylabel(\"Relative error in Frobenius norm\")\n",
    "plt.ylim([1e-10, 1e2])\n",
    "plt.tight_layout()\n",
    "plt.show()\n",
    "\n",
    "\n",
    "# Plot the performance\n",
    "fig2 = plt.figure()\n",
    "plt.loglog(global_errors[:, 0], times[:, 0], styles[0], label=method_names[0])\n",
    "plt.loglog(global_errors[:, 1], times[:, 1], styles[1], label=method_names[1])\n",
    "plt.loglog(global_errors[:, 2], times[:, 2], styles[2], label=method_names[2])\n",
    "plt.loglog(global_errors[:, 3], times[:, 3], styles[3], label=method_names[3])\n",
    "plt.axvline(approx_error, linestyle='--', color='gray', label=f'Approx.error ($r={rank}$)')\n",
    "plt.legend(loc='upper left')\n",
    "plt.gca().invert_xaxis()\n",
    "plt.grid()\n",
    "plt.xlabel(\"Relative error in Frobenius norm\")\n",
    "plt.ylabel(\"Time of computation (s)\")\n",
    "plt.tight_layout()\n",
    "plt.show()"
   ]
  },
  {
   "cell_type": "markdown",
   "metadata": {},
   "source": [
    "## Krylov approximation error - Order one"
   ]
  },
  {
   "cell_type": "markdown",
   "metadata": {},
   "source": [
    "### Setup the problem"
   ]
  },
  {
   "cell_type": "code",
   "execution_count": 53,
   "metadata": {},
   "outputs": [
    {
     "name": "stdout",
     "output_type": "stream",
     "text": [
      "Riccati ODE structure with 3 parameters.\n"
     ]
    }
   ],
   "source": [
    "# Imports\n",
    "import numpy as np\n",
    "import scipy.linalg as la\n",
    "from problems import make_riccati_ostermann\n",
    "from low_rank_toolbox import SVD, LowRankMatrix\n",
    "import scipy.sparse.linalg as spala\n",
    "import matplotlib.pyplot as plt\n",
    "from krylov_toolbox import KrylovSpace, ExtendedKrylovSpace, RationalKrylovSpace\n",
    "\n",
    "\n",
    "# Problem parameters\n",
    "size = 200 # 200\n",
    "q = 9 # 9\n",
    "make_ode = lambda size: make_riccati_ostermann(size, q)\n",
    "ode, X0 = make_ode(size)\n",
    "\n",
    "# Krylov parameters\n",
    "t_span = (0, 0.01) # (0, 0.01)\n",
    "h = t_span[1] - t_span[0]\n",
    "rank = 2 # rank of initial value\n",
    "nb_krylov_iter = 10 # number of Krylov iterations (extended Krylov space will have size 2*nb_krylov_iter)\n",
    "\n",
    "# Print the ode\n",
    "print(ode)\n",
    "\n",
    "# Preprocess the problem\n",
    "if not isinstance(X0, LowRankMatrix):\n",
    "    X0 = SVD.reduced_svd(X0)\n",
    "invA = spala.splu(ode.A).solve\n",
    "invB = spala.splu(ode.B).solve\n",
    "\n",
    "# Closed-form solution\n",
    "def closed_form_solver(h, A, B, Y0, PGY0):\n",
    "    # Solve the reduced problem (closed form)\n",
    "    C = la.solve_sylvester(A, B, PGY0.todense())\n",
    "    Z = Y0 + C\n",
    "    Z = spala.expm_multiply(A, Z, start=0, stop=h, num=2, endpoint=True)[-1]\n",
    "    Z = spala.expm_multiply(B.T.conj(), Z.T.conj(), start=0, stop=h, num=2, endpoint=True)[-1].T.conj()\n",
    "    return Z - C"
   ]
  },
  {
   "cell_type": "markdown",
   "metadata": {},
   "source": [
    "### Full problem"
   ]
  },
  {
   "cell_type": "code",
   "execution_count": 54,
   "metadata": {},
   "outputs": [
    {
     "name": "stdout",
     "output_type": "stream",
     "text": [
      "Done!\n"
     ]
    }
   ],
   "source": [
    "# Full data\n",
    "A = ode.A\n",
    "Ad = ode.A.todense()\n",
    "B = ode.B\n",
    "Bd = ode.B.todense()\n",
    "Y0 = SVD.truncated_svd(X0, rank)\n",
    "PGY0 = Y0.project_onto_tangent_space(ode.non_linear_field(0, Y0))\n",
    "\n",
    "# Solve the full problem (closed form)\n",
    "C = la.solve_sylvester(Ad, Bd, PGY0.todense())\n",
    "Z = Y0 + C\n",
    "Z = spala.expm_multiply(A, Z, start=0, stop=h, num=2, endpoint=True)[-1]\n",
    "Z = spala.expm_multiply(B.T.conj(), Z.T.conj(), start=0, stop=h, num=2, endpoint=True)[-1].T.conj()\n",
    "Y1_full = Z - C\n",
    "\n",
    "print('Done!')"
   ]
  },
  {
   "cell_type": "markdown",
   "metadata": {},
   "source": [
    "### Reduced problem - Polynomial Krylov space"
   ]
  },
  {
   "cell_type": "code",
   "execution_count": 55,
   "metadata": {},
   "outputs": [
    {
     "name": "stdout",
     "output_type": "stream",
     "text": [
      "Iteration: k=0, size of space: 4, current error: 0.05222668022116764\n",
      "Iteration: k=1, size of space: 8, current error: 0.005305788541086759\n",
      "Iteration: k=2, size of space: 12, current error: 0.0029810204397282456\n",
      "Iteration: k=3, size of space: 16, current error: 0.0020957801740932374\n",
      "Iteration: k=4, size of space: 20, current error: 0.0020471014494259864\n",
      "Iteration: k=5, size of space: 24, current error: 0.0005176992781481626\n",
      "Iteration: k=6, size of space: 28, current error: 0.00019977888457732538\n",
      "Iteration: k=7, size of space: 32, current error: 0.00017913528607180085\n",
      "Iteration: k=8, size of space: 36, current error: 0.0001880881502343357\n",
      "Iteration: k=9, size of space: 40, current error: 0.0001797116110095256\n",
      "Done!\n"
     ]
    }
   ],
   "source": [
    "# Pre-allocate some variables\n",
    "krylov_error = np.zeros(nb_krylov_iter)\n",
    "krylov_space_size = np.zeros(nb_krylov_iter, dtype=int)\n",
    "\n",
    "# Initialization of the two spaces\n",
    "U = la.orth(np.column_stack([Y0.U, PGY0.U]))\n",
    "left_krylov_space = KrylovSpace(A, U)\n",
    "V = la.orth(np.column_stack([Y0.V, PGY0.V]))\n",
    "right_krylov_space = KrylovSpace(B, V)\n",
    "\n",
    "# Define the reduced problem ode\n",
    "Vk = left_krylov_space.Q\n",
    "Wk = right_krylov_space.Q\n",
    "A_reduced = Vk.T.dot(A.dot(Vk))\n",
    "B_reduced = Wk.T.dot(B.dot(Wk))\n",
    "Y0_reduced = Y0.dot(Wk).dot(Vk.T, side='left')\n",
    "PGY0_reduced = PGY0.dot(Wk).dot(Vk.T, side='left')\n",
    "\n",
    "## Compute the solution\n",
    "Zk = closed_form_solver(h, A_reduced, B_reduced, Y0_reduced, PGY0_reduced)\n",
    "Y1_reduced = Vk.dot(Zk.dot(Wk.T))\n",
    "\n",
    "# Compute the error and store the current size\n",
    "krylov_error[0] = la.norm(Y1_full - Y1_reduced) / la.norm(Y1_full)\n",
    "krylov_space_size[0] = left_krylov_space.Q.shape[1]\n",
    "print(\"Iteration: k=0, size of space: {}, current error: {}\".format(krylov_space_size[0], krylov_error[0]))\n",
    "\n",
    "# Loop over the iterations\n",
    "for i in np.arange(1, nb_krylov_iter):\n",
    "    # Augment the two basis\n",
    "    left_krylov_space.augment_basis()\n",
    "    right_krylov_space.augment_basis()\n",
    "\n",
    "    # Define the reduced problem ode\n",
    "    Vk = left_krylov_space.Q\n",
    "    Wk = right_krylov_space.Q\n",
    "    A_reduced = Vk.T.dot(A.dot(Vk))\n",
    "    B_reduced = Wk.T.dot(B.dot(Wk))\n",
    "    Y0_reduced = Y0.dot(Wk).dot(Vk.T, side='left')\n",
    "    PGY0_reduced = PGY0.dot(Wk).dot(Vk.T, side='left')\n",
    "    \n",
    "    # Compute the solution\n",
    "    Zk = closed_form_solver(h, A_reduced, B_reduced, Y0_reduced, PGY0_reduced)\n",
    "    Y1_reduced = Vk.dot(Zk.dot(Wk.T))\n",
    "\n",
    "    # Compute the error and store the current size\n",
    "    krylov_error[i] = la.norm(Y1_full - Y1_reduced) / la.norm(Y1_full)\n",
    "    krylov_space_size[i] = left_krylov_space.Q.shape[1]\n",
    "    print(\"Iteration: k={}, size of space: {}, current error: {}\".format(i, krylov_space_size[i], krylov_error[i]))\n",
    "\n",
    "print(\"Done!\")"
   ]
  },
  {
   "cell_type": "markdown",
   "metadata": {},
   "source": [
    "### Reduced problem - Extended Krylov space"
   ]
  },
  {
   "cell_type": "code",
   "execution_count": 56,
   "metadata": {},
   "outputs": [
    {
     "name": "stdout",
     "output_type": "stream",
     "text": [
      "Iteration: k=0, size of space: 8, current error: 0.0010409881197936018\n",
      "Iteration: k=1, size of space: 16, current error: 1.2435137194108806e-06\n",
      "Iteration: k=2, size of space: 24, current error: 5.1606527417835695e-09\n",
      "Iteration: k=3, size of space: 32, current error: 1.1276273579223173e-11\n",
      "Iteration: k=4, size of space: 40, current error: 1.1733357632394249e-12\n",
      "Done!\n"
     ]
    }
   ],
   "source": [
    "# Pre-allocate some variables\n",
    "nb_extended_krylov_iter = int(nb_krylov_iter/2)\n",
    "extended_krylov_error = np.zeros(nb_extended_krylov_iter)\n",
    "extended_krylov_space_size = np.zeros(nb_extended_krylov_iter, dtype=int)\n",
    "\n",
    "# Preprocess the inverses\n",
    "invA = spala.splu(ode.A).solve\n",
    "invB = spala.splu(ode.B).solve\n",
    "\n",
    "# Initialization of the two spaces\n",
    "U = la.orth(np.column_stack([Y0.U, PGY0.U]))\n",
    "left_extended_krylov_space = ExtendedKrylovSpace(A, U, invA=invA)\n",
    "V = la.orth(np.column_stack([Y0.V, PGY0.V]))\n",
    "right_extended_krylov_space = ExtendedKrylovSpace(B, V, invA=invB)\n",
    "\n",
    "# Define the reduced problem ode\n",
    "Vk = left_extended_krylov_space.Q\n",
    "Wk = right_extended_krylov_space.Q\n",
    "A_reduced = Vk.T.dot(A.dot(Vk))\n",
    "B_reduced = Wk.T.dot(B.dot(Wk))\n",
    "Y0_reduced = Y0.dot(Wk).dot(Vk.T, side='left')\n",
    "PGY0_reduced = PGY0.dot(Wk).dot(Vk.T, side='left')\n",
    "\n",
    "## Compute the solution\n",
    "Zk = closed_form_solver(h, A_reduced, B_reduced, Y0_reduced, PGY0_reduced)\n",
    "Y1_reduced = Vk.dot(Zk.dot(Wk.T))\n",
    "\n",
    "# Compute the error and store the current size\n",
    "extended_krylov_error[0] = la.norm(Y1_full - Y1_reduced) / la.norm(Y1_full)\n",
    "extended_krylov_space_size[0] = left_extended_krylov_space.Q.shape[1]\n",
    "print(\"Iteration: k={}, size of space: {}, current error: {}\".format(0, extended_krylov_space_size[0], extended_krylov_error[0]))\n",
    "\n",
    "# Loop over the iterations\n",
    "for i in np.arange(1, nb_extended_krylov_iter):\n",
    "    # Augment the two basis\n",
    "    left_extended_krylov_space.augment_basis()\n",
    "    right_extended_krylov_space.augment_basis()\n",
    "\n",
    "    # Define the reduced problem ode\n",
    "    Vk = left_extended_krylov_space.Q\n",
    "    Wk = right_extended_krylov_space.Q\n",
    "    A_reduced = Vk.T.dot(A.dot(Vk))\n",
    "    B_reduced = Wk.T.dot(B.dot(Wk))\n",
    "    Y0_reduced = Y0.dot(Wk).dot(Vk.T, side='left')\n",
    "    PGY0_reduced = PGY0.dot(Wk).dot(Vk.T, side='left')\n",
    "    \n",
    "    # Compute the solution\n",
    "    Zk = closed_form_solver(h, A_reduced, B_reduced, Y0_reduced, PGY0_reduced)\n",
    "    Y1_reduced = Vk.dot(Zk.dot(Wk.T))\n",
    "\n",
    "    # Compute the error and store the current size\n",
    "    extended_krylov_error[i] = la.norm(Y1_full - Y1_reduced) / la.norm(Y1_full)\n",
    "    extended_krylov_space_size[i] = left_extended_krylov_space.Q.shape[1]\n",
    "    print(\"Iteration: k={}, size of space: {}, current error: {}\".format(i, extended_krylov_space_size[i], extended_krylov_error[i]))\n",
    "\n",
    "print(\"Done!\")\n"
   ]
  },
  {
   "cell_type": "markdown",
   "metadata": {},
   "source": [
    "### Reduced problem - Rational Krylov space"
   ]
  },
  {
   "cell_type": "code",
   "execution_count": 57,
   "metadata": {},
   "outputs": [
    {
     "name": "stdout",
     "output_type": "stream",
     "text": [
      "Iteration: k=0, size of space: 4, current error: 0.05222668022116764\n",
      "Iteration: k=1, size of space: 8, current error: 0.000999725918265633\n",
      "Iteration: k=2, size of space: 12, current error: 2.511388581916455e-05\n",
      "Iteration: k=3, size of space: 16, current error: 4.733629735128881e-08\n",
      "Iteration: k=4, size of space: 20, current error: 1.1428592992814316e-10\n",
      "Iteration: k=5, size of space: 24, current error: 4.8948428066483965e-12\n",
      "Iteration: k=6, size of space: 28, current error: 1.268262994440878e-12\n",
      "Iteration: k=7, size of space: 32, current error: 1.2292086591907244e-12\n",
      "Iteration: k=8, size of space: 36, current error: 1.2029901579038727e-12\n",
      "Iteration: k=9, size of space: 40, current error: 1.2178787049016509e-12\n",
      "Done!\n"
     ]
    }
   ],
   "source": [
    "# Pre-allocate some variables\n",
    "rational_krylov_error = np.zeros(nb_krylov_iter)\n",
    "rational_krylov_space_size = np.zeros(nb_krylov_iter, dtype=int)\n",
    "\n",
    "# One repeated single pole: k/sqrt(2)\n",
    "poles = [nb_krylov_iter/np.sqrt(2) for _ in range(nb_krylov_iter)]\n",
    "\n",
    "# Initialization of the two spaces\n",
    "U = la.orth(np.column_stack([Y0.U, PGY0.U]))\n",
    "left_rational_krylov_space = RationalKrylovSpace(A, U, poles=poles)\n",
    "V = la.orth(np.column_stack([Y0.V, PGY0.V]))\n",
    "right_rational_krylov_space = RationalKrylovSpace(B, V, poles=poles)\n",
    "\n",
    "# Define the reduced problem ode\n",
    "Vk = left_rational_krylov_space.Q\n",
    "Wk = right_rational_krylov_space.Q\n",
    "A_reduced = Vk.T.dot(A.dot(Vk))\n",
    "B_reduced = Wk.T.dot(B.dot(Wk))\n",
    "Y0_reduced = Y0.dot(Wk).dot(Vk.T, side='left')\n",
    "PGY0_reduced = PGY0.dot(Wk).dot(Vk.T, side='left')\n",
    "\n",
    "## Compute the solution\n",
    "Zk = closed_form_solver(h, A_reduced, B_reduced, Y0_reduced, PGY0_reduced)\n",
    "Y1_reduced = Vk.dot(Zk.dot(Wk.T))\n",
    "\n",
    "# Compute the error and store the current size\n",
    "rational_krylov_error[0] = la.norm(Y1_full - Y1_reduced) / la.norm(Y1_full)\n",
    "rational_krylov_space_size[0] = left_rational_krylov_space.Q.shape[1]\n",
    "print(\"Iteration: k={}, size of space: {}, current error: {}\".format(0, rational_krylov_space_size[0], rational_krylov_error[0]))\n",
    "\n",
    "# Loop over the iterations\n",
    "for i in np.arange(1, nb_krylov_iter):\n",
    "    # Augment the two basis\n",
    "    left_rational_krylov_space.augment_basis()\n",
    "    right_rational_krylov_space.augment_basis()\n",
    "\n",
    "    # Define the reduced problem ode\n",
    "    Vk = left_rational_krylov_space.Q\n",
    "    Wk = right_rational_krylov_space.Q\n",
    "    A_reduced = Vk.T.dot(A.dot(Vk))\n",
    "    B_reduced = Wk.T.dot(B.dot(Wk))\n",
    "    Y0_reduced = Y0.dot(Wk).dot(Vk.T, side='left')\n",
    "    PGY0_reduced = PGY0.dot(Wk).dot(Vk.T, side='left')\n",
    "    \n",
    "    # Compute the solution\n",
    "    Zk = closed_form_solver(h, A_reduced, B_reduced, Y0_reduced, PGY0_reduced)\n",
    "    Y1_reduced = Vk.dot(Zk.dot(Wk.T))\n",
    "\n",
    "    # Compute the error and store the current size\n",
    "    rational_krylov_error[i] = la.norm(Y1_full - Y1_reduced) / la.norm(Y1_full)\n",
    "    rational_krylov_space_size[i] = left_rational_krylov_space.Q.shape[1]\n",
    "    print(\"Iteration: k={}, size of space: {}, current error: {}\".format(i, rational_krylov_space_size[i], rational_krylov_error[i]))\n",
    "\n",
    "print(\"Done!\")\n"
   ]
  },
  {
   "cell_type": "markdown",
   "metadata": {},
   "source": [
    "### A priori bound (Theorem 4.4)"
   ]
  },
  {
   "cell_type": "code",
   "execution_count": 58,
   "metadata": {},
   "outputs": [],
   "source": [
    "# Bound derived in the paper\n",
    "def bound(k, t, A, B, Y0, PGY0):\n",
    "    # Eigenvalues of A and B\n",
    "    eigA = spala.eigs(A, return_eigenvectors=False)\n",
    "    eigB = spala.eigs(B, return_eigenvectors=False)\n",
    "    # Deltas\n",
    "    deltaA = np.sqrt(np.max(np.abs(eigA)) / np.min(np.abs(eigA)))\n",
    "    deltaB = np.sqrt(np.max(np.abs(eigB)) / np.min(np.abs(eigB)))\n",
    "    delta = np.max([deltaA, deltaB])\n",
    "    # Mus\n",
    "    muA = np.max(eigA)\n",
    "    muB = np.max(eigB)\n",
    "    mu = np.max([muA, muB])\n",
    "    # Norms\n",
    "    norm_Y0 = Y0.norm()\n",
    "    norm_PGY0 = PGY0.norm()\n",
    "    # Bound\n",
    "    bd = 2 * np.exp(-k * np.pi**2 / (4*np.log(2/delta))) * (np.exp(t * mu) * norm_Y0 + (np.exp(t * mu) - 1)/mu * norm_PGY0)\n",
    "    return bd\n",
    "\n",
    "bound = np.real(bound(np.arange(nb_krylov_iter), t_span[1], A, B, Y0, PGY0))"
   ]
  },
  {
   "cell_type": "markdown",
   "metadata": {},
   "source": [
    "### Plot the results"
   ]
  },
  {
   "cell_type": "code",
   "execution_count": 59,
   "metadata": {},
   "outputs": [
    {
     "data": {
      "image/png": "[encoded data removed]",
      "text/plain": [
       "<Figure size 640x480 with 1 Axes>"
      ]
     },
     "metadata": {},
     "output_type": "display_data"
    }
   ],
   "source": [
    "# Plot the results\n",
    "fig = plt.figure()\n",
    "plt.semilogy(krylov_space_size, krylov_error, 'o-', label=\"Polynomial Krylov\")\n",
    "plt.semilogy(extended_krylov_space_size, extended_krylov_error, 'o-', label=\"Extended Krylov\")\n",
    "plt.semilogy(rational_krylov_space_size, rational_krylov_error, 'o-', label=\"Rational Krylov\")\n",
    "plt.semilogy(rational_krylov_space_size, 100*bound, '--', label=\"Bound (Theorem 4.4)\")\n",
    "plt.axhline(1e-12, color='k', linestyle='-', label=\"Tolerance\")\n",
    "plt.xlabel(\"Size of the approximation space\")\n",
    "plt.ylabel(\"Relative error in Frobenius norm\")\n",
    "plt.ylim([1e-14, 1e2])\n",
    "plt.grid()\n",
    "plt.tight_layout()\n",
    "plt.legend(loc='upper right')\n",
    "plt.show()"
   ]
  },
  {
   "cell_type": "markdown",
   "metadata": {},
   "source": [
    "## Krylov approximation error - Order two"
   ]
  },
  {
   "cell_type": "markdown",
   "metadata": {},
   "source": [
    "### Setup the problem"
   ]
  },
  {
   "cell_type": "code",
   "execution_count": 60,
   "metadata": {},
   "outputs": [
    {
     "name": "stdout",
     "output_type": "stream",
     "text": [
      "Riccati ODE structure with 3 parameters.\n"
     ]
    }
   ],
   "source": [
    "# Imports\n",
    "import numpy as np\n",
    "import scipy.linalg as la\n",
    "from problems import make_riccati_ostermann\n",
    "from low_rank_toolbox import SVD, LowRankMatrix\n",
    "import scipy.sparse.linalg as spala\n",
    "import matplotlib.pyplot as plt\n",
    "from krylov_toolbox import KrylovSpace, ExtendedKrylovSpace, RationalKrylovSpace\n",
    "\n",
    "\n",
    "# Problem parameters\n",
    "size = 200 # 200\n",
    "q = 9 # 9\n",
    "make_ode = lambda size: make_riccati_ostermann(size, q)\n",
    "ode, X0 = make_ode(size)\n",
    "\n",
    "# Krylov parameters\n",
    "t_span = (0, 0.01) # (0, 0.01)\n",
    "h = t_span[1] - t_span[0]\n",
    "rank = 2 # rank of initial value\n",
    "nb_krylov_iter = 10 # number of Krylov iterations (extended Krylov space will have size 2*nb_krylov_iter)\n",
    "\n",
    "# Print the ode\n",
    "print(ode)\n",
    "\n",
    "# Preprocess the problem\n",
    "if not isinstance(X0, LowRankMatrix):\n",
    "    X0 = SVD.reduced_svd(X0)\n",
    "invA = spala.splu(ode.A).solve\n",
    "invB = spala.splu(ode.B).solve\n",
    "\n",
    "# Closed-form solution\n",
    "def closed_form_solver(h, A, B, Y0, PGY0, PGRK1_minus_PGY0):\n",
    "    D = la.solve_sylvester(A, B, PGRK1_minus_PGY0.todense())\n",
    "    D_hat = la.solve_sylvester(A*h, B*h, D)\n",
    "    C = la.solve_sylvester(A, B, PGY0.todense())\n",
    "    Z = Y0 + D_hat + C\n",
    "    Z = spala.expm_multiply(A, Z, start=0, stop=h, num=2, endpoint=True)[-1]\n",
    "    Z = spala.expm_multiply(B.T.conj(), Z.T.conj(), start=0, stop=h, num=2, endpoint=True)[-1].T.conj()\n",
    "    Y1_full = Z - C - D_hat - D\n",
    "    return Y1_full"
   ]
  },
  {
   "cell_type": "markdown",
   "metadata": {},
   "source": [
    "### Full problem"
   ]
  },
  {
   "cell_type": "code",
   "execution_count": 61,
   "metadata": {},
   "outputs": [],
   "source": [
    "# Data for order 1\n",
    "A, Ad = ode.A, ode.A.todense()\n",
    "B, Bd = ode.B, ode.B.todense()\n",
    "Y0 = SVD.truncated_svd(X0, rank)\n",
    "PGY0 = Y0.project_onto_tangent_space(ode.non_linear_field(0, Y0))\n",
    "\n",
    "# Solve the full problem (order 1)\n",
    "# full_ode = SylvesterOde(A, B, PGY0)\n",
    "# K1 = solve_matrix_ivp(full_ode, t_span, Y0, solver='closed_form', dense_output=True)\n",
    "C = la.solve_sylvester(Ad, Bd, PGY0.todense())\n",
    "Z = Y0 + C\n",
    "Z = spala.expm_multiply(A, Z, start=0, stop=h, num=2, endpoint=True)[-1]\n",
    "Z = spala.expm_multiply(B.T.conj(), Z.T.conj(), start=0, stop=h, num=2, endpoint=True)[-1].T.conj()\n",
    "K1 = Z - C\n",
    "\n",
    "# Data for order 2\n",
    "RK1 = SVD.truncated_svd(K1, rank)\n",
    "GRK1 = ode.non_stiff_field(h, RK1)\n",
    "PGRK1 = RK1.project_onto_tangent_space(GRK1)\n",
    "PGRK1_minus_PGY0 = PGRK1 - PGY0\n",
    "\n",
    "# Solve the full problem (order 2)\n",
    "D = la.solve_sylvester(Ad, Bd, PGRK1_minus_PGY0.todense())\n",
    "D_hat = la.solve_sylvester(Ad*h, Bd*h, D)\n",
    "C = la.solve_sylvester(Ad, Bd, PGY0.todense())\n",
    "Z = Y0 + D_hat + C\n",
    "Z = spala.expm_multiply(A, Z, start=0, stop=h, num=2, endpoint=True)[-1]\n",
    "Z = spala.expm_multiply(B.T.conj(), Z.T.conj(), start=0, stop=h, num=2, endpoint=True)[-1].T.conj()\n",
    "Y1_full = Z - C - D_hat - D"
   ]
  },
  {
   "cell_type": "markdown",
   "metadata": {},
   "source": [
    "### Reduced problem - Polynomial Krylov space"
   ]
  },
  {
   "cell_type": "code",
   "execution_count": 62,
   "metadata": {},
   "outputs": [
    {
     "name": "stdout",
     "output_type": "stream",
     "text": [
      "Iteration: k=0, size of space: 8, current error: 0.0004358201464905876\n",
      "Iteration: k=1, size of space: 16, current error: 4.323495212744709e-06\n",
      "Iteration: k=2, size of space: 24, current error: 8.278333236359063e-08\n",
      "Iteration: k=3, size of space: 32, current error: 7.875532663548698e-08\n",
      "Iteration: k=4, size of space: 40, current error: 1.4809547286944885e-07\n",
      "Iteration: k=5, size of space: 48, current error: 2.933079034056802e-07\n",
      "Iteration: k=6, size of space: 56, current error: 6.600796389660436e-07\n",
      "Iteration: k=7, size of space: 64, current error: 1.0629316637239696e-06\n",
      "Iteration: k=8, size of space: 72, current error: 1.6273968150547874e-06\n",
      "Iteration: k=9, size of space: 80, current error: 2.6301192791885125e-06\n",
      "Done!\n"
     ]
    }
   ],
   "source": [
    "# Pre-allocate some variables\n",
    "krylov_error = np.zeros(nb_krylov_iter)\n",
    "krylov_space_size = np.zeros(nb_krylov_iter, dtype=int)\n",
    "\n",
    "# Initialization of the two spaces\n",
    "U = la.orth(np.column_stack([Y0.U, PGY0.U, PGRK1_minus_PGY0.U]))\n",
    "left_krylov_space = KrylovSpace(A, U)\n",
    "V = la.orth(np.column_stack([Y0.V, PGY0.V, PGRK1_minus_PGY0.V]))\n",
    "right_krylov_space = KrylovSpace(B, V)\n",
    "\n",
    "# Extract the two basis\n",
    "Vk = left_krylov_space.Q\n",
    "Wk = right_krylov_space.Q\n",
    "\n",
    "# Reduced data\n",
    "A_reduced = Vk.T.dot(A.dot(Vk))\n",
    "B_reduced = Wk.T.dot(B.dot(Wk))\n",
    "Y0_reduced = Y0.dot(Wk).dot(Vk.T, side='left')\n",
    "PGY0_reduced = PGY0.dot(Wk).dot(Vk.T, side='left')\n",
    "PGRK1_minus_PGY0_reduced = PGRK1_minus_PGY0.dot(Wk).dot(Vk.T, side='left')\n",
    "\n",
    "# Solve the reduced problem\n",
    "Zk = closed_form_solver(h, A_reduced, B_reduced, Y0_reduced, PGY0_reduced, PGRK1_minus_PGY0_reduced)\n",
    "Y1_reduced = Vk.dot(Zk.dot(Wk.T))\n",
    "\n",
    "# Compute the error and store the current size\n",
    "krylov_error[0] = la.norm(Y1_full - Y1_reduced) / la.norm(Y1_full)\n",
    "krylov_space_size[0] = left_krylov_space.Q.shape[1]\n",
    "print(\"Iteration: k=0, size of space: {}, current error: {}\".format(krylov_space_size[0], krylov_error[0]))\n",
    "\n",
    "# Loop over the iterations\n",
    "for i in np.arange(1, nb_krylov_iter):\n",
    "    # Augment the two basis\n",
    "    left_krylov_space.augment_basis()\n",
    "    right_krylov_space.augment_basis()\n",
    "\n",
    "    # Define the reduced problem ode\n",
    "    Vk = left_krylov_space.Q\n",
    "    Wk = right_krylov_space.Q\n",
    "    \n",
    "    # Reduced data\n",
    "    A_reduced = Vk.T.dot(A.dot(Vk))\n",
    "    B_reduced = Wk.T.dot(B.dot(Wk))\n",
    "    Y0_reduced = Y0.dot(Wk).dot(Vk.T, side='left')\n",
    "    PGY0_reduced = PGY0.dot(Wk).dot(Vk.T, side='left')\n",
    "    PGRK1_minus_PGY0_reduced = PGRK1_minus_PGY0.dot(Wk).dot(Vk.T, side='left')\n",
    "\n",
    "    # Solve the reduced problem\n",
    "    Zk = closed_form_solver(h, A_reduced, B_reduced, Y0_reduced, PGY0_reduced, PGRK1_minus_PGY0_reduced)\n",
    "    Y1_reduced = Vk.dot(Zk.dot(Wk.T))\n",
    "\n",
    "\n",
    "    # Compute the error and store the current size\n",
    "    krylov_error[i] = la.norm(Y1_full - Y1_reduced) / la.norm(Y1_full)\n",
    "    krylov_space_size[i] = left_krylov_space.Q.shape[1]\n",
    "    print(\"Iteration: k={}, size of space: {}, current error: {}\".format(i, krylov_space_size[i], krylov_error[i]))\n",
    "\n",
    "print(\"Done!\")\n"
   ]
  },
  {
   "cell_type": "markdown",
   "metadata": {},
   "source": [
    "### Reduced problem - Extended Krylov space"
   ]
  },
  {
   "cell_type": "code",
   "execution_count": 63,
   "metadata": {},
   "outputs": [
    {
     "name": "stdout",
     "output_type": "stream",
     "text": [
      "Size of the Krylov space: 16\n",
      "Iteration: k=1, size of space: 32, current error: 1.2424340049674729e-12\n",
      "Iteration: k=2, size of space: 48, current error: 1.1951895379366918e-12\n",
      "Iteration: k=3, size of space: 64, current error: 1.4376246343785557e-12\n",
      "Iteration: k=4, size of space: 80, current error: 1.2926572932316049e-12\n",
      "Done!\n"
     ]
    }
   ],
   "source": [
    "# Pre-allocate some variables\n",
    "nb_extended_krylov_iter = int(nb_krylov_iter/2)\n",
    "extended_krylov_error = np.zeros(nb_extended_krylov_iter)\n",
    "extended_krylov_space_size = np.zeros(nb_extended_krylov_iter, dtype=int)\n",
    "\n",
    "# Preprocess the inverses\n",
    "invA = spala.splu(ode.A).solve\n",
    "invB = spala.splu(ode.B).solve\n",
    "\n",
    "# Initialization of the two spaces\n",
    "U = la.orth(np.column_stack([Y0.U, PGY0.U, PGRK1_minus_PGY0.U]))\n",
    "left_extended_krylov_space = ExtendedKrylovSpace(A, U, invA=invA)\n",
    "V = la.orth(np.column_stack([Y0.V, PGY0.V, PGRK1_minus_PGY0.V]))\n",
    "right_extended_krylov_space = ExtendedKrylovSpace(B, V, invA=invB)\n",
    "\n",
    "# Extract the two basis\n",
    "Vk = left_extended_krylov_space.Q\n",
    "Wk = right_extended_krylov_space.Q\n",
    "\n",
    "# Reduced data\n",
    "A_reduced = Vk.T.dot(A.dot(Vk))\n",
    "B_reduced = Wk.T.dot(B.dot(Wk))\n",
    "Y0_reduced = Y0.dot(Wk).dot(Vk.T, side='left')\n",
    "PGY0_reduced = PGY0.dot(Wk).dot(Vk.T, side='left')\n",
    "PGRK1_minus_PGY0_reduced = PGRK1_minus_PGY0.dot(Wk).dot(Vk.T, side='left')\n",
    "\n",
    "# Solve the reduced problem\n",
    "Zk = closed_form_solver(h, A_reduced, B_reduced, Y0_reduced, PGY0_reduced, PGRK1_minus_PGY0_reduced)\n",
    "Y1_reduced = Vk.dot(Zk.dot(Wk.T))\n",
    "\n",
    "# Compute the error and store the current size\n",
    "extended_krylov_error[0] = la.norm(Y1_full - Y1_reduced) / la.norm(Y1_full)\n",
    "extended_krylov_space_size[0] = left_extended_krylov_space.Q.shape[1]\n",
    "print(\"Size of the Krylov space: {}\".format(extended_krylov_space_size[0]))\n",
    "\n",
    "# Loop over the iterations\n",
    "for i in np.arange(1, nb_extended_krylov_iter):\n",
    "    # Augment the two basis\n",
    "    left_extended_krylov_space.augment_basis()\n",
    "    right_extended_krylov_space.augment_basis()\n",
    "\n",
    "    # Reduced data\n",
    "    Vk = left_extended_krylov_space.Q\n",
    "    Wk = right_extended_krylov_space.Q\n",
    "    A_reduced = Vk.T.dot(A.dot(Vk))\n",
    "    B_reduced = Wk.T.dot(B.dot(Wk))\n",
    "    Y0_reduced = Y0.dot(Wk).dot(Vk.T, side='left')\n",
    "    PGY0_reduced = PGY0.dot(Wk).dot(Vk.T, side='left')\n",
    "    PGRK1_minus_PGY0_reduced = PGRK1_minus_PGY0.dot(Wk).dot(Vk.T, side='left')\n",
    "\n",
    "    # Solve the reduced problem\n",
    "    Zk = closed_form_solver(h, A_reduced, B_reduced, Y0_reduced, PGY0_reduced, PGRK1_minus_PGY0_reduced)\n",
    "    Y1_reduced = Vk.dot(Zk.dot(Wk.T))\n",
    "\n",
    "    # Compute the error and store the current size\n",
    "    extended_krylov_error[i] = la.norm(Y1_full - Y1_reduced) / la.norm(Y1_full)\n",
    "    extended_krylov_space_size[i] = left_extended_krylov_space.Q.shape[1]\n",
    "    print(\"Iteration: k={}, size of space: {}, current error: {}\".format(i, extended_krylov_space_size[i], extended_krylov_error[i]))\n",
    "\n",
    "print(\"Done!\")\n"
   ]
  },
  {
   "cell_type": "markdown",
   "metadata": {},
   "source": [
    "### Reduced problem - Rational Krylov space"
   ]
  },
  {
   "cell_type": "code",
   "execution_count": 64,
   "metadata": {},
   "outputs": [
    {
     "name": "stdout",
     "output_type": "stream",
     "text": [
      "Size of the Krylov space: 8\n",
      "Iteration: k=1, size of space: 16, current error: 1.8233183643547158e-07\n",
      "Iteration: k=2, size of space: 24, current error: 3.692540814536703e-12\n",
      "Iteration: k=3, size of space: 32, current error: 1.1743058970472016e-12\n",
      "Iteration: k=4, size of space: 40, current error: 1.0246758667677661e-12\n",
      "Iteration: k=5, size of space: 48, current error: 1.553556683247812e-12\n",
      "Iteration: k=6, size of space: 56, current error: 1.3469003835667593e-12\n",
      "Iteration: k=7, size of space: 64, current error: 1.3907483320152266e-12\n",
      "Iteration: k=8, size of space: 72, current error: 9.736016939161138e-13\n",
      "Iteration: k=9, size of space: 80, current error: 1.4683900816481677e-12\n",
      "Done!\n"
     ]
    }
   ],
   "source": [
    "# Pre-allocate some variables\n",
    "rational_krylov_error = np.zeros(nb_krylov_iter)\n",
    "rational_krylov_space_size = np.zeros(nb_krylov_iter, dtype=int)\n",
    "\n",
    "# One repeated single pole: k/sqrt(2)\n",
    "poles = [nb_krylov_iter/np.sqrt(2) for _ in range(nb_krylov_iter)]\n",
    "\n",
    "# Initialization of the two spaces\n",
    "U = la.orth(np.column_stack([Y0.U, PGY0.U, PGRK1_minus_PGY0.U]))\n",
    "left_rational_krylov_space = RationalKrylovSpace(A, U, poles=poles)\n",
    "V = la.orth(np.column_stack([Y0.V, PGY0.V, PGRK1_minus_PGY0.V]))\n",
    "right_rational_krylov_space = RationalKrylovSpace(B, V, poles=poles)\n",
    "\n",
    "# Extract the two basis\n",
    "Vk = left_rational_krylov_space.Q\n",
    "Wk = right_rational_krylov_space.Q\n",
    "\n",
    "# Reduced data\n",
    "A_reduced = Vk.T.dot(A.dot(Vk))\n",
    "B_reduced = Wk.T.dot(B.dot(Wk))\n",
    "Y0_reduced = Y0.dot(Wk).dot(Vk.T, side='left')\n",
    "PGY0_reduced = PGY0.dot(Wk).dot(Vk.T, side='left')\n",
    "PGRK1_minus_PGY0_reduced = PGRK1_minus_PGY0.dot(Wk).dot(Vk.T, side='left')\n",
    "\n",
    "# Solve the reduced problem\n",
    "Zk = closed_form_solver(h, A_reduced, B_reduced, Y0_reduced, PGY0_reduced, PGRK1_minus_PGY0_reduced)\n",
    "Y1_reduced = Vk.dot(Zk.dot(Wk.T))\n",
    "\n",
    "# Compute the error and store the current size\n",
    "rational_krylov_error[0] = la.norm(Y1_full - Y1_reduced) / la.norm(Y1_full)\n",
    "rational_krylov_space_size[0] = left_rational_krylov_space.Q.shape[1]\n",
    "print(\"Size of the Krylov space: {}\".format(rational_krylov_space_size[0]))\n",
    "\n",
    "# Loop over the iterations\n",
    "for i in np.arange(1, nb_krylov_iter):\n",
    "    # Augment the two basis\n",
    "    left_rational_krylov_space.augment_basis()\n",
    "    right_rational_krylov_space.augment_basis()\n",
    "\n",
    "    # Reduced data\n",
    "    Vk = left_rational_krylov_space.Q\n",
    "    Wk = right_rational_krylov_space.Q\n",
    "    A_reduced = Vk.T.dot(A.dot(Vk))\n",
    "    B_reduced = Wk.T.dot(B.dot(Wk))\n",
    "    Y0_reduced = Y0.dot(Wk).dot(Vk.T, side='left')\n",
    "    PGY0_reduced = PGY0.dot(Wk).dot(Vk.T, side='left')\n",
    "    PGRK1_minus_PGY0_reduced = PGRK1_minus_PGY0.dot(Wk).dot(Vk.T, side='left')\n",
    "\n",
    "    # Solve the reduced problem\n",
    "    Zk = closed_form_solver(h, A_reduced, B_reduced, Y0_reduced, PGY0_reduced, PGRK1_minus_PGY0_reduced)\n",
    "    Y1_reduced = Vk.dot(Zk.dot(Wk.T))\n",
    "\n",
    "    # Compute the error and store the current size\n",
    "    rational_krylov_error[i] = la.norm(Y1_full - Y1_reduced) / la.norm(Y1_full)\n",
    "    rational_krylov_space_size[i] = left_rational_krylov_space.Q.shape[1]\n",
    "    print(\"Iteration: k={}, size of space: {}, current error: {}\".format(i, rational_krylov_space_size[i], rational_krylov_error[i]))\n",
    "\n",
    "print(\"Done!\")\n"
   ]
  },
  {
   "cell_type": "markdown",
   "metadata": {},
   "source": [
    "### A priori bound (Theorem 4.5)"
   ]
  },
  {
   "cell_type": "code",
   "execution_count": 65,
   "metadata": {},
   "outputs": [],
   "source": [
    "# Bound derived in the paper\n",
    "def bound(k, t, A, B, Y0, PGY0):\n",
    "    # Eigenvalues of A and B\n",
    "    eigA = spala.eigs(A, return_eigenvectors=False)\n",
    "    eigB = spala.eigs(B, return_eigenvectors=False)\n",
    "    # Deltas\n",
    "    deltaA = np.sqrt(np.max(np.abs(eigA)) / np.min(np.abs(eigA)))\n",
    "    deltaB = np.sqrt(np.max(np.abs(eigB)) / np.min(np.abs(eigB)))\n",
    "    delta = np.max([deltaA, deltaB])\n",
    "    # Mus\n",
    "    muA = np.max(eigA)\n",
    "    muB = np.max(eigB)\n",
    "    mu = np.max([muA, muB])\n",
    "    # Norms\n",
    "    norm_Y0 = Y0.norm()\n",
    "    norm_PGY0 = PGY0.norm()\n",
    "    norm_PGRK1_minus_PGY0 = PGRK1_minus_PGY0.norm()\n",
    "    # Bound\n",
    "    bd = 2 * np.exp(-k * np.pi**2 / (4*np.log(2/delta))) * (np.exp(t * mu) * norm_Y0 + (np.exp(t * mu) - 1)/mu * norm_PGY0 + (np.exp(t*mu) - 1 - t*mu)/(h*mu**2) * norm_PGRK1_minus_PGY0)\n",
    "    return bd\n",
    "\n",
    "bound = np.real(bound(np.arange(nb_krylov_iter), t_span[1], A, B, Y0, PGY0))"
   ]
  },
  {
   "cell_type": "markdown",
   "metadata": {},
   "source": [
    "### Plot the results"
   ]
  },
  {
   "cell_type": "code",
   "execution_count": 66,
   "metadata": {},
   "outputs": [
    {
     "data": {
      "image/png": "[encoded data removed]",
      "text/plain": [
       "<Figure size 640x480 with 1 Axes>"
      ]
     },
     "metadata": {},
     "output_type": "display_data"
    }
   ],
   "source": [
    "# Plot the results\n",
    "fig = plt.figure()\n",
    "plt.semilogy(krylov_space_size, krylov_error, 'o-', label=\"Polynomial Krylov\")\n",
    "plt.semilogy(extended_krylov_space_size, extended_krylov_error, 'o-', label=\"Extended Krylov\")\n",
    "plt.semilogy(rational_krylov_space_size, rational_krylov_error, 'o-', label=\"Rational Krylov\")\n",
    "plt.semilogy(rational_krylov_space_size, 100*bound, '--', label=\"Bound (Theorem 4.5)\")\n",
    "plt.axhline(1e-12, color='k', linestyle='-', label=\"Tolerance\")\n",
    "plt.xlabel(\"Size of the approximation space\")\n",
    "plt.ylabel(\"Relative error in Frobenius norm\")\n",
    "plt.ylim([1e-14, 1e2])\n",
    "plt.legend()\n",
    "plt.tight_layout()\n",
    "plt.grid()\n",
    "plt.show()"
   ]
  },
  {
   "cell_type": "code",
   "execution_count": null,
   "metadata": {},
   "outputs": [],
   "source": []
  }
 ],
 "metadata": {
  "kernelspec": {
   "display_name": "projected-exponential-methods",
   "language": "python",
   "name": "python3"
  },
  "language_info": {
   "codemirror_mode": {
    "name": "ipython",
    "version": 3
   },
   "file_extension": ".py",
   "mimetype": "text/x-python",
   "name": "python",
   "nbconvert_exporter": "python",
   "pygments_lexer": "ipython3",
   "version": "3.11.4"
  },
  "orig_nbformat": 4
 },
 "nbformat": 4,
 "nbformat_minor": 2
}
