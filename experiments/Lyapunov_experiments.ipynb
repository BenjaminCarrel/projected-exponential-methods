{
 "cells": [
  {
   "cell_type": "markdown",
   "metadata": {},
   "source": [
    "# Lyapunov experiments\n",
    "\n",
    "Notebook for Lyapunov experiments.\n",
    "\n",
    "**Author:** [Benjamin Carrel](benjamin.carrel@unige.ch)"
   ]
  },
  {
   "cell_type": "markdown",
   "metadata": {},
   "source": [
    "## Robust to stiffness - 1st example"
   ]
  },
  {
   "cell_type": "markdown",
   "metadata": {},
   "source": [
    "### Setup the problem"
   ]
  },
  {
   "cell_type": "code",
   "execution_count": null,
   "metadata": {},
   "outputs": [],
   "source": [
    "# Imports\n",
    "import numpy as np\n",
    "import numpy.linalg as la\n",
    "import scipy.sparse.linalg as spala\n",
    "import time\n",
    "import matplotlib.pyplot as plt\n",
    "from low_rank_toolbox import LowRankMatrix, SVD\n",
    "from problems import make_lyapunov_heat_square_dirichlet\n",
    "from matrix_ode_toolbox.integrate import solve_matrix_ivp\n",
    "from matrix_ode_toolbox.dlra import solve_dlra\n",
    "\n",
    "# Problem parameters\n",
    "size = 128\n",
    "t_span = (0, 1)\n",
    "make_ode = make_lyapunov_heat_square_dirichlet\n",
    "ode, X0 = make_ode(size)\n",
    "\n",
    "# Print the ode\n",
    "print(ode)"
   ]
  },
  {
   "cell_type": "markdown",
   "metadata": {},
   "source": [
    "### Setup the solvers"
   ]
  },
  {
   "cell_type": "code",
   "execution_count": null,
   "metadata": {},
   "outputs": [],
   "source": [
    "# The sizes\n",
    "sizes = [32, 64, 96, 128, 192, 256, 384, 512]\n",
    "\n",
    "# Other parameters\n",
    "nb_steps = 100\n",
    "ts = np.linspace(t_span[0], t_span[1], nb_steps+1)\n",
    "rank = 20\n",
    "\n",
    "# Define the methods (projector splitting comparison)\n",
    "dlra_solvers = ['KSL', 'unconventional', 'low_rank_splitting', 'PERK']\n",
    "krylov_kwargs = {'size': 1, 'kind': 'extended'} # this is overwritten later\n",
    "substep_kwargs = {'solver': 'explicit_runge_kutta', 'order': 4, 'nb_substeps': 1000}\n",
    "methods_kwargs = [{'order': 1, 'substep_kwargs': substep_kwargs},\n",
    "                {'substep_kwargs': substep_kwargs},\n",
    "                {'order': 1},\n",
    "                {'order': 1, 'krylov_kwargs': krylov_kwargs}]\n",
    "\n",
    "## PREALLOCATE THE ERRORS\n",
    "approx_errors = np.zeros(len(sizes))\n",
    "cond_numbers = np.zeros(len(sizes))\n",
    "errors = np.zeros((len(sizes), len(dlra_solvers)))\n",
    "times = np.zeros((len(sizes), len(dlra_solvers)))"
   ]
  },
  {
   "cell_type": "markdown",
   "metadata": {},
   "source": [
    "### Run the solvers"
   ]
  },
  {
   "cell_type": "code",
   "execution_count": null,
   "metadata": {},
   "outputs": [],
   "source": [
    "## LOOP OVER THE SIZES\n",
    "for i, n in enumerate(sizes):\n",
    "    ## MAKE THE ODE\n",
    "    print('*********************************************************************************')\n",
    "    print(\"Solving for n = {}\".format(n))\n",
    "    ode, X0 = make_ode(n)\n",
    "    X0 = SVD.reduced_svd(X0)\n",
    "    Y0 = SVD.truncated_svd(X0, rank)\n",
    "    cond_numbers[i] = la.cond(ode.A.todense())\n",
    "\n",
    "    ## COMPUTE REFERENCE SOLUTION\n",
    "    X1 = solve_matrix_ivp(ode, t_span, X0, solver=\"automatic\", t_eval=ts, monitor=True, dense_output=True).X1\n",
    "    approx_errors[i] = np.linalg.norm(X1 - SVD.truncated_svd(X1, rank).todense(), 'fro') / np.linalg.norm(X1, 'fro')\n",
    "\n",
    "    ## LOOP OVER THE METHODS\n",
    "    for j, method in enumerate(dlra_solvers):\n",
    "        # COMPUTE THE SOLUTION WITH THE CURRENT METHOD\n",
    "        try:\n",
    "            t0 = time.time()\n",
    "            Y1 = solve_dlra(ode, t_span, Y0, dlra_solver=method, t_eval=ts, monitor=True, solver_kwargs=methods_kwargs[j]).X1\n",
    "            times[i, j] = time.time() - t0\n",
    "\n",
    "            # COMPUTE THE RELATIVE ERROR\n",
    "            errors[i, j] = np.linalg.norm(Y1.todense() - X1, 'fro') / np.linalg.norm(X1, 'fro')\n",
    "        except:\n",
    "            # Some methods may not work for stiff problems\n",
    "            errors[i, j] = 1e10"
   ]
  },
  {
   "cell_type": "markdown",
   "metadata": {},
   "source": [
    "### Plot the results"
   ]
  },
  {
   "cell_type": "code",
   "execution_count": null,
   "metadata": {},
   "outputs": [],
   "source": [
    "# Plot the errors\n",
    "fig1 = plt.figure()\n",
    "method_names = ['Projector-splitting (Lie-Trotter)', 'Unconventional', 'Low-rank splitting (Lie-Trotter)', 'New method (order 1)']\n",
    "styles = ['-v', '-^', '-o', '-+']\n",
    "for j, method in enumerate(dlra_solvers):\n",
    "    plt.semilogy(sizes, errors[:, j], styles[j], label=method_names[j])\n",
    "plt.semilogy(sizes, approx_errors, '--', label=f'Approx. error ($r={rank}$)')\n",
    "# plt.semilogy(sizes, 1e-10*cond_numbers, '-k', label=r'Cond. number of A ($\\times 10^{-10}$)')\n",
    "plt.tight_layout()\n",
    "# x-axis in log scale power of 2\n",
    "plt.xticks(sizes, sizes)\n",
    "plt.legend()\n",
    "plt.grid()\n",
    "plt.ylim([1e-18, 1e0])\n",
    "plt.xlabel(\"Size (mesh refinement)\")\n",
    "plt.ylabel(\"Relative error in Frobenius norm\")\n",
    "plt.show()\n",
    "\n",
    "# # Plot the performance\n",
    "# fig2 = plt.figure()\n",
    "# for j, method in enumerate(dlra_solvers):\n",
    "#     plt.semilogy(sizes, times[:, j], styles[j], label=method_names[j])\n",
    "# plt.tight_layout()\n",
    "# plt.legend()\n",
    "# plt.xlabel(\"Size (mesh refinement)\")\n",
    "# plt.xticks(sizes, sizes)\n",
    "# plt.ylabel(\"Time of computation (s)\")\n",
    "# plt.grid()\n",
    "# plt.show()"
   ]
  },
  {
   "cell_type": "markdown",
   "metadata": {},
   "source": [
    "## Robust to stiffness - 2nd example"
   ]
  },
  {
   "cell_type": "markdown",
   "metadata": {},
   "source": [
    "### Setup the problem"
   ]
  },
  {
   "cell_type": "code",
   "execution_count": null,
   "metadata": {},
   "outputs": [],
   "source": [
    "# Imports\n",
    "import numpy as np\n",
    "import numpy.linalg as la\n",
    "import scipy.sparse.linalg as spala\n",
    "import time\n",
    "import matplotlib.pyplot as plt\n",
    "from low_rank_toolbox import LowRankMatrix, SVD\n",
    "from problems import make_lyapunov_heat_square_with_time_dependent_source\n",
    "from matrix_ode_toolbox.integrate import solve_matrix_ivp\n",
    "from matrix_ode_toolbox.dlra import solve_dlra\n",
    "\n",
    "# Problem parameters\n",
    "size = 128\n",
    "t_span = (0, 1)\n",
    "make_ode = make_lyapunov_heat_square_with_time_dependent_source\n",
    "ode, X0 = make_ode(size)\n",
    "\n",
    "# Print the ode\n",
    "print(ode)"
   ]
  },
  {
   "cell_type": "markdown",
   "metadata": {},
   "source": [
    "### Setup the solvers"
   ]
  },
  {
   "cell_type": "code",
   "execution_count": null,
   "metadata": {},
   "outputs": [],
   "source": [
    "# The sizes\n",
    "sizes = [32, 64, 96, 128, 160, 192]\n",
    "\n",
    "# Other parameters\n",
    "nb_steps = 1000\n",
    "ts = np.linspace(t_span[0], t_span[1], nb_steps+1)\n",
    "rank = 8\n",
    "\n",
    "# Define the methods (low-rank splitting comparison)\n",
    "dlra_solvers = ['PERK', 'PERK', 'low_rank_splitting', 'low_rank_splitting']\n",
    "krylov_kwargs = {'size': 1, 'kind': 'extended'}\n",
    "methods_kwargs = [{'order': 1, 'krylov_kwargs': krylov_kwargs},\n",
    "                  {'order': 2, 'krylov_kwargs': krylov_kwargs, 'strict_order_conditions': True},\n",
    "                  {'order': 1}, \n",
    "                  {'order': 2}]\n",
    "\n",
    "## PREALLOCATE THE ERRORS\n",
    "approx_errors = np.zeros(len(sizes))\n",
    "cond_numbers = np.zeros(len(sizes))\n",
    "errors = np.zeros((len(sizes), len(dlra_solvers)))\n",
    "times = np.zeros((len(sizes), len(dlra_solvers)))"
   ]
  },
  {
   "cell_type": "markdown",
   "metadata": {},
   "source": [
    "### Run the solvers"
   ]
  },
  {
   "cell_type": "code",
   "execution_count": null,
   "metadata": {},
   "outputs": [],
   "source": [
    "## LOOP OVER THE SIZES\n",
    "for i, n in enumerate(sizes):\n",
    "    ## MAKE THE ODE\n",
    "    print('*********************************************************************************')\n",
    "    print(\"Solving for n = {}\".format(n))\n",
    "    ode, X0 = make_ode(n)\n",
    "    X0 = SVD.reduced_svd(X0)\n",
    "    Y0 = SVD.truncated_svd(X0, rank)\n",
    "    cond_numbers[i] = la.cond(ode.A.todense())\n",
    "\n",
    "    ## COMPUTE REFERENCE SOLUTION\n",
    "    X1 = solve_matrix_ivp(ode, t_span, X0, solver=\"automatic\", t_eval=ts, monitor=True, dense_output=True).X1\n",
    "    approx_errors[i] = np.linalg.norm(X1 - SVD.truncated_svd(X1, rank).todense(), 'fro') / np.linalg.norm(X1, 'fro')\n",
    "\n",
    "    ## LOOP OVER THE METHODS\n",
    "    for j, method in enumerate(dlra_solvers):\n",
    "        # COMPUTE THE SOLUTION WITH THE CURRENT METHOD\n",
    "        try:\n",
    "            t0 = time.time()\n",
    "            Y1 = solve_dlra(ode, t_span, Y0, dlra_solver=method, t_eval=ts, monitor=True, solver_kwargs=methods_kwargs[j]).X1\n",
    "            times[i, j] = time.time() - t0\n",
    "\n",
    "            # COMPUTE THE RELATIVE ERROR\n",
    "            errors[i, j] = np.linalg.norm(Y1.todense() - X1, 'fro') / np.linalg.norm(X1, 'fro')\n",
    "        except:\n",
    "            # Some methods may not work for stiff problems\n",
    "            errors[i, j] = 1e10"
   ]
  },
  {
   "cell_type": "markdown",
   "metadata": {},
   "source": [
    "### Plot the results"
   ]
  },
  {
   "cell_type": "code",
   "execution_count": null,
   "metadata": {},
   "outputs": [],
   "source": [
    "# Plot the errors\n",
    "fig1 = plt.figure()\n",
    "method_names = ['Proj. exponential Euler', 'Proj. exponential Runge', 'Low-rank splitting (Lie-Trotter)', 'Low-rank splitting (Strang)']\n",
    "styles = ['-o', '-s', '-+', '-x']\n",
    "for j, method in enumerate(dlra_solvers):\n",
    "    plt.semilogy(sizes, errors[:, j], styles[j], label=method_names[j])\n",
    "plt.semilogy(sizes, approx_errors, '--', label=f'Approx. error ($r={rank}$)')\n",
    "# plt.semilogy(sizes, 1e-10*cond_numbers, '-k', label=r'Cond. number of A ($\\times 10^{-10}$)')\n",
    "plt.tight_layout()\n",
    "# x-axis in log scale power of 2\n",
    "plt.xticks(sizes, sizes)\n",
    "plt.legend()\n",
    "plt.grid()\n",
    "plt.ylim([1e-10, 1e0])\n",
    "plt.xlabel(\"Size (mesh refinement)\")\n",
    "plt.ylabel(\"Relative error in Frobenius norm\")\n",
    "plt.show()\n",
    "\n",
    "# Plot the performance\n",
    "fig2 = plt.figure()\n",
    "for j, method in enumerate(dlra_solvers):\n",
    "    plt.semilogy(sizes, times[:, j], styles[j], label=method_names[j])\n",
    "plt.tight_layout()\n",
    "plt.legend()\n",
    "plt.xlabel(\"Size (mesh refinement)\")\n",
    "plt.xticks(sizes, sizes)\n",
    "plt.ylabel(\"Time of computation (s)\")\n",
    "plt.grid()\n",
    "plt.show()"
   ]
  },
  {
   "cell_type": "markdown",
   "metadata": {},
   "source": [
    "## Compare the methods - Global error and performance"
   ]
  },
  {
   "cell_type": "markdown",
   "metadata": {},
   "source": [
    "### Setup the problem"
   ]
  },
  {
   "cell_type": "code",
   "execution_count": null,
   "metadata": {},
   "outputs": [],
   "source": [
    "# Imports\n",
    "import numpy as np\n",
    "import scipy.sparse.linalg as spala\n",
    "import time\n",
    "import matplotlib.pyplot as plt\n",
    "from low_rank_toolbox import LowRankMatrix, SVD\n",
    "from problems import make_lyapunov_heat_square_with_time_dependent_source\n",
    "from matrix_ode_toolbox.integrate import solve_matrix_ivp\n",
    "from matrix_ode_toolbox.dlra import solve_dlra\n",
    "\n",
    "# Problem parameters\n",
    "size = 128\n",
    "t_span = (0, 1)\n",
    "make_ode = make_lyapunov_heat_square_with_time_dependent_source\n",
    "ode, X0 = make_ode(size)\n",
    "\n",
    "# Print the ode\n",
    "print(ode)\n",
    "\n",
    "# Preprocess the problem\n",
    "if not isinstance(X0, LowRankMatrix):\n",
    "    X0 = SVD.reduced_svd(X0)\n",
    "invA = spala.splu(ode.A).solve\n",
    "invB = spala.splu(ode.B).solve"
   ]
  },
  {
   "cell_type": "markdown",
   "metadata": {},
   "source": [
    "### Setup the solvers"
   ]
  },
  {
   "cell_type": "code",
   "execution_count": null,
   "metadata": {},
   "outputs": [],
   "source": [
    "# DLRA parameters\n",
    "rank = 8\n",
    "Y0 = X0.truncate(rank)\n",
    "\n",
    "# Methods parameters - ALL PERK\n",
    "nb_steps = np.logspace(1, 4, 8, dtype=int)\n",
    "stepsizes = t_span[1] / nb_steps\n",
    "dlra_solvers = ['PERK', 'PERK', 'PERK']\n",
    "krylov_kwargs = {'size': 1,\n",
    "                 'kind': 'extended',\n",
    "                 'is_symmetric': True,\n",
    "                 'invA': invA,\n",
    "                 'invB': invB}\n",
    "methods_kwargs = [{'order': 1, 'krylov_kwargs': krylov_kwargs},\n",
    "                  {'order': 2, 'krylov_kwargs': krylov_kwargs, 'strict_order_conditions': True},\n",
    "                  {'order': 2, 'krylov_kwargs': krylov_kwargs, 'strict_order_conditions': False}]\n",
    "\n",
    "## Pre-allocate some variables\n",
    "global_errors = np.zeros((len(nb_steps), len(dlra_solvers)))\n",
    "times = np.zeros((len(nb_steps), len(dlra_solvers)))"
   ]
  },
  {
   "cell_type": "markdown",
   "metadata": {},
   "source": [
    "### Run the solvers"
   ]
  },
  {
   "cell_type": "code",
   "execution_count": null,
   "metadata": {},
   "outputs": [],
   "source": [
    "# Loop over the number of steps\n",
    "for i, nb in enumerate(nb_steps):\n",
    "    print('*************************************************************************')\n",
    "    print(f'Solving with {nb} steps. ({i+1}/{len(nb_steps)})')\n",
    "    t_eval = np.linspace(*t_span, nb+1)\n",
    "\n",
    "    # Compute the reference solution\n",
    "    X1 = solve_matrix_ivp(ode, t_span, X0, solver=\"automatic\", t_eval=t_eval, dense_output=True, monitor=True).X1\n",
    "    \n",
    "    # Loop over the methods\n",
    "    for j, method in enumerate(dlra_solvers):\n",
    "        # Compute the solution with the current method\n",
    "        t0 = time.time()\n",
    "        Y1 = solve_dlra(ode, t_span, Y0, dlra_solver=method, t_eval=t_eval, monitor=True, solver_kwargs=methods_kwargs[j]).X1\n",
    "        times[i, j] = time.time() - t0\n",
    "\n",
    "        # Compute the relative error\n",
    "        global_errors[i, j] = np.linalg.norm(Y1.todense() - X1, 'fro') / np.linalg.norm(X1, 'fro')\n",
    "\n",
    "# Approximate error\n",
    "approx_error = np.linalg.norm(X1 - SVD.truncated_svd(X1, rank).todense(), 'fro') / np.linalg.norm(X1, 'fro')"
   ]
  },
  {
   "cell_type": "markdown",
   "metadata": {},
   "source": [
    "### Plot the comparison between all three methods"
   ]
  },
  {
   "cell_type": "code",
   "execution_count": null,
   "metadata": {},
   "outputs": [],
   "source": [
    "# Plot the errors\n",
    "fig1 = plt.figure()\n",
    "method_names = ['Proj. exponential Euler',  'Proj. exponential Runge (strict)', 'Proj. exponential Runge (non strict)']\n",
    "styles = ['-o', '-x', '-p']\n",
    "plt.loglog(stepsizes, global_errors[:, 0], styles[0], label=method_names[0])\n",
    "plt.loglog(stepsizes, global_errors[:, 1], styles[1], label=method_names[1])\n",
    "plt.loglog(stepsizes, global_errors[:, 2], styles[2], label=method_names[2])\n",
    "plt.loglog(stepsizes, 4*stepsizes, 'k') # , label=r'$O(h)$'\n",
    "plt.loglog(stepsizes, 4*stepsizes**2, 'k') # , label=r'$O(h^2)$'\n",
    "plt.axhline(approx_error, linestyle='--', color='gray', label=f'Approx. error ($r={rank}$)')\n",
    "plt.legend(loc='upper left')\n",
    "plt.grid()\n",
    "plt.xlabel(\"Step size\")\n",
    "plt.ylabel(\"Relative error in Frobenius norm\")\n",
    "plt.ylim([1e-7, 1e3])\n",
    "plt.tight_layout()\n",
    "plt.show()\n",
    "\n",
    "# Plot the performance\n",
    "fig2 = plt.figure()\n",
    "plt.loglog(global_errors[:, 0], times[:, 0], styles[0], label=method_names[0])\n",
    "plt.loglog(global_errors[:, 1], times[:, 1], styles[1], label=method_names[1])\n",
    "plt.loglog(global_errors[:, 2], times[:, 2], styles[2], label=method_names[2])\n",
    "plt.axvline(approx_error, linestyle='--', color='gray', label=f'Approx.error ($r={rank}$)')\n",
    "plt.legend(loc='upper left')\n",
    "plt.gca().invert_xaxis()\n",
    "plt.grid()\n",
    "plt.xlabel(\"Relative error in Frobenius norm\")\n",
    "plt.ylabel(\"Time of computation (s)\")\n",
    "plt.tight_layout()\n",
    "plt.show()\n",
    "\n",
    "# # Print the slopes of the errors\n",
    "# for j, method in enumerate(dlra_solvers):\n",
    "#     print(f'{method_names[j]}: {np.polyfit(np.log(stepsizes), np.log(global_errors[:, j]), 1)[0]}')\n"
   ]
  },
  {
   "cell_type": "markdown",
   "metadata": {},
   "source": [
    "## Compare the ranks - Global error and performance"
   ]
  },
  {
   "cell_type": "markdown",
   "metadata": {},
   "source": [
    "### Setup the problem"
   ]
  },
  {
   "cell_type": "code",
   "execution_count": null,
   "metadata": {},
   "outputs": [],
   "source": [
    "# Imports\n",
    "import numpy as np\n",
    "import scipy.sparse.linalg as spala\n",
    "import time\n",
    "import matplotlib.pyplot as plt\n",
    "from low_rank_toolbox import LowRankMatrix, SVD\n",
    "from problems import make_lyapunov_heat_square_with_time_dependent_source\n",
    "from matrix_ode_toolbox.integrate import solve_matrix_ivp\n",
    "from matrix_ode_toolbox.dlra import solve_dlra\n",
    "\n",
    "# Problem parameters\n",
    "size = 128\n",
    "t_span = (0, 1)\n",
    "make_ode = make_lyapunov_heat_square_with_time_dependent_source\n",
    "ode, X0 = make_ode(size)\n",
    "\n",
    "# Print the ode\n",
    "print(ode)\n",
    "\n",
    "# Preprocess the problem\n",
    "if not isinstance(X0, LowRankMatrix):\n",
    "    X0 = SVD.reduced_svd(X0)\n",
    "invA = spala.splu(ode.A).solve\n",
    "invB = spala.splu(ode.B).solve"
   ]
  },
  {
   "cell_type": "markdown",
   "metadata": {},
   "source": [
    "### Setup the solver and other parameters"
   ]
  },
  {
   "cell_type": "code",
   "execution_count": null,
   "metadata": {},
   "outputs": [],
   "source": [
    "# Method parameters - PERK\n",
    "method = 'PERK'\n",
    "invA = spala.inv(ode.A).dot\n",
    "invB = spala.inv(ode.B).dot\n",
    "krylov_kwargs = {'size': 1, \n",
    "                 'kind': 'extended', \n",
    "                 'is_symmetric': True, \n",
    "                 'invA': invA, \n",
    "                 'invB': invB}\n",
    "method_kwargs = {'order': 2, \n",
    "                 'krylov_kwargs': krylov_kwargs, \n",
    "                 'strict_order_conditions': True}\n",
    "\n",
    "# Ranks to test\n",
    "ranks = [4, 7, 11, 16]\n",
    "\n",
    "# Number of steps\n",
    "list_nb_steps = np.logspace(1, 5, 10, dtype=int)\n",
    "\n",
    "# Preallocation\n",
    "global_errors = np.zeros((len(list_nb_steps), len(ranks)))\n",
    "approx_error = np.zeros((len(list_nb_steps), len(ranks)))\n",
    "times = np.zeros((len(list_nb_steps), len(ranks)))"
   ]
  },
  {
   "cell_type": "markdown",
   "metadata": {},
   "source": [
    "### Run the solver for different ranks"
   ]
  },
  {
   "cell_type": "code",
   "execution_count": null,
   "metadata": {},
   "outputs": [],
   "source": [
    "# Loop over the number of steps\n",
    "for i, nb in enumerate(list_nb_steps):\n",
    "    print('*************************************************************************')\n",
    "    print(f'Solving with {nb} steps. ({i+1}/{len(list_nb_steps)})')\n",
    "    t_eval = np.linspace(*t_span, nb+1)\n",
    "\n",
    "    # Compute the reference solution\n",
    "    X1 = solve_matrix_ivp(ode, t_span, X0, solver=\"automatic\", t_eval=t_eval, dense_output=True, monitor=True).X1\n",
    "\n",
    "    for rank in ranks:\n",
    "        print('$$$$$$$$$$$$$$$$$$$$$$$$$$$$$$$$$$$$$$$$$$$$$$$$$$')\n",
    "        print(f'Rank {rank}')\n",
    "        t_eval = np.linspace(*t_span, nb+1)\n",
    "\n",
    "        # Compute the best rank approximation\n",
    "        approx_error[i, ranks.index(rank)] = np.linalg.norm(X1 - SVD.truncated_svd(X1, rank).todense(), 'fro') / np.linalg.norm(X1, 'fro')\n",
    "\n",
    "        # Compute the solution with the DLRA method\n",
    "        Y0 = SVD.truncated_svd(X0, rank)\n",
    "        t0 = time.time()\n",
    "        Y1 = solve_dlra(ode, t_span, Y0, dlra_solver=method, t_eval=t_eval, monitor=True, solver_kwargs=method_kwargs).X1\n",
    "        times[i, ranks.index(rank)] = time.time() - t0\n",
    "\n",
    "        # Compute the relative error\n",
    "        global_errors[i, ranks.index(rank)] = np.linalg.norm(Y1.todense() - X1, 'fro') / np.linalg.norm(X1, 'fro')\n"
   ]
  },
  {
   "cell_type": "markdown",
   "metadata": {},
   "source": [
    "### Plot the results"
   ]
  },
  {
   "cell_type": "code",
   "execution_count": null,
   "metadata": {},
   "outputs": [],
   "source": [
    "# Plot the errors\n",
    "fig1 = plt.figure()\n",
    "stepsizes = t_span[1] / list_nb_steps\n",
    "# One color per rank\n",
    "names = [f'Rank {r}' for r in ranks]\n",
    "colors = ['tab:blue', 'tab:orange', 'tab:green', 'tab:purple', 'tab:brown'] # , 'tab:red', 'tab:purple', 'tab:brown', 'tab:pink', 'tab:gray', 'tab:olive', 'tab:cyan']\n",
    "styles = ['-o', '-s', '-p', '-D']\n",
    "for j, rank in enumerate(ranks):\n",
    "    plt.loglog(stepsizes, global_errors[:, j], styles[j], label=names[j], color=colors[j])\n",
    "    plt.loglog(stepsizes, approx_error[:, j], '--', color=colors[j])\n",
    "plt.loglog(stepsizes, stepsizes**2, color='k')\n",
    "plt.legend()\n",
    "plt.xlabel(\"Step size\")\n",
    "plt.ylabel(\"Relative error in Frobenius norm\")\n",
    "plt.ylim(1e-9, 1e-1)\n",
    "plt.grid()\n",
    "plt.tight_layout()\n",
    "plt.show()\n",
    "\n",
    "\n",
    "# Plot the performance\n",
    "fig2 = plt.figure()\n",
    "for j, rank in enumerate(ranks):\n",
    "    plt.loglog(global_errors[:, j], times[:, j], styles[j], label=names[j], color=colors[j])\n",
    "    plt.axvline(approx_error[0, j], linestyle='--', color=colors[j])\n",
    "plt.legend()\n",
    "plt.xlabel(\"Relative error in Frobenius norm\")\n",
    "plt.ylabel(\"Time of computation (s)\")\n",
    "plt.gca().invert_xaxis()\n",
    "plt.tight_layout()\n",
    "plt.grid()\n",
    "plt.show()"
   ]
  },
  {
   "cell_type": "markdown",
   "metadata": {},
   "source": [
    "## Rank-adaptive method"
   ]
  },
  {
   "cell_type": "markdown",
   "metadata": {},
   "source": [
    "### Setup the problem"
   ]
  },
  {
   "cell_type": "code",
   "execution_count": null,
   "metadata": {},
   "outputs": [],
   "source": [
    "# Imports\n",
    "import numpy as np\n",
    "import scipy.sparse.linalg as spala\n",
    "import time\n",
    "import matplotlib.pyplot as plt\n",
    "from low_rank_toolbox import LowRankMatrix, SVD\n",
    "from problems import make_lyapunov_heat_square_with_time_dependent_special\n",
    "from matrix_ode_toolbox.integrate import solve_matrix_ivp\n",
    "from matrix_ode_toolbox.dlra import solve_adaptive_dlra\n",
    "\n",
    "# Problem parameters\n",
    "size = 128 # 128\n",
    "t_span = (0, 1) # (0, 1)\n",
    "make_ode = make_lyapunov_heat_square_with_time_dependent_special\n",
    "ode, X0 = make_ode(size)\n",
    "\n",
    "# Print the ode\n",
    "print(ode)\n",
    "if not isinstance(X0, LowRankMatrix):\n",
    "    X0 = SVD.reduced_svd(X0)\n",
    "print('Dimensions: ', X0.shape)\n",
    "\n",
    "# Precompute reference solution\n",
    "nb_steps = 1000 # 1000\n",
    "ts = np.linspace(*t_span, nb_steps+1)\n",
    "ref_sol = solve_matrix_ivp(ode, t_span, X0, solver=\"automatic\", t_eval=ts, monitor=True)\n",
    "Xs_ref = ref_sol.todense()"
   ]
  },
  {
   "cell_type": "markdown",
   "metadata": {},
   "source": [
    "### Plot the singular values"
   ]
  },
  {
   "cell_type": "code",
   "execution_count": null,
   "metadata": {},
   "outputs": [],
   "source": [
    "# Selected time steps\n",
    "time_steps = [0, 30, 50, 70, 100]\n",
    "labels = [f'Singular values at t = {round(ts[index], 3)}' for index in time_steps]\n",
    "sing_vals = np.zeros(len(time_steps), dtype=object)\n",
    "\n",
    "# Compute the singular values\n",
    "for i, index in enumerate(time_steps):\n",
    "    if isinstance(Xs_ref[index], SVD):\n",
    "        Xs_ref[index] = Xs_ref[index].todense()\n",
    "    sing_vals[i] = np.linalg.svd(Xs_ref[index], compute_uv=False)\n",
    "\n",
    "# Plot the singular values at each time step\n",
    "for i, _ in enumerate(time_steps):\n",
    "    new_fig = plt.figure()\n",
    "    indexes = np.arange(1, len(sing_vals[0])+1)\n",
    "    plt.semilogy(indexes, sing_vals[i], 'o', label=labels[i])\n",
    "    # Machine precision\n",
    "    plt.axhline(np.finfo(float).eps, linestyle='--', color='gray', label='Machine precision')\n",
    "    plt.legend()\n",
    "    plt.grid()\n",
    "    plt.xlabel(\"Index\")\n",
    "    plt.xticks(np.linspace(1, len(sing_vals[0]), 9, dtype=int))\n",
    "    # plt.ylabel(\"Singular value\")\n",
    "    plt.tight_layout()\n",
    "    plt.ylim([1e-20, 1e1])\n",
    "    plt.show()\n"
   ]
  },
  {
   "cell_type": "markdown",
   "metadata": {},
   "source": [
    "### Setup the solver and other parameters"
   ]
  },
  {
   "cell_type": "code",
   "execution_count": null,
   "metadata": {},
   "outputs": [],
   "source": [
    "# Define the methods\n",
    "from scipy.sparse import linalg as spala\n",
    "invA = spala.inv(ode.A).dot\n",
    "dlra_solver = 'adaptive_PERK'\n",
    "krylov_kwargs = {'size': 1, 'kind': 'extended', 'invA': invA, 'invB': invA}\n",
    "method_kwargs = {'order': 2, 'krylov_kwargs': krylov_kwargs, 'strict_order_conditions': True}\n",
    "\n",
    "# Define the tolerances\n",
    "tolerances = [1e-5, 1e-8, 1e-11]\n",
    "\n",
    "# Initialize the error over time matrix\n",
    "nb_t_steps = len(ref_sol.Xs)\n",
    "dlra_solutions = np.zeros(len(tolerances), dtype=object)"
   ]
  },
  {
   "cell_type": "markdown",
   "metadata": {},
   "source": [
    "### Run the solver for different tolerances"
   ]
  },
  {
   "cell_type": "code",
   "execution_count": null,
   "metadata": {},
   "outputs": [],
   "source": [
    "# Loop over the tolerances\n",
    "for j, tol in enumerate(tolerances):\n",
    "    # Compute the solution with the current method\n",
    "    Y0 = X0.truncate(rtol = tol)\n",
    "    dlra_solutions[j] = solve_adaptive_dlra(ode, t_span, Y0, adaptive_dlra_solver=dlra_solver, solver_kwargs=method_kwargs, monitor=True, t_eval=ts, rtol=tol, atol=None)\n",
    "\n",
    "# Compute the error over time\n",
    "errors = np.zeros((nb_t_steps, len(tolerances)))\n",
    "for i in range(nb_t_steps):\n",
    "    for j, tol in enumerate(tolerances):\n",
    "        errors[i, j] = np.linalg.norm(Xs_ref[i] - dlra_solutions[j].Xs[i].todense(), 'fro') / np.linalg.norm(Xs_ref[i], 'fro')\n",
    "\n",
    "# Extract the rank over time\n",
    "ranks = np.zeros((nb_t_steps, len(tolerances)))\n",
    "for i in np.arange(0, nb_t_steps):\n",
    "    for j, tol in enumerate(tolerances):\n",
    "        ranks[i, j] = dlra_solutions[j].Xs[i].rank"
   ]
  },
  {
   "cell_type": "markdown",
   "metadata": {},
   "source": [
    "### Plot the results"
   ]
  },
  {
   "cell_type": "code",
   "execution_count": null,
   "metadata": {},
   "outputs": [],
   "source": [
    "# Plot the error over time\n",
    "fig1 = plt.figure()\n",
    "colors = ['tab:blue', 'tab:orange', 'tab:green']\n",
    "for i, tol in enumerate(tolerances):\n",
    "    plt.semilogy(ts, errors[:, i], label=f'Tolerance {tol}', color=colors[i])\n",
    "    plt.axhline(tol, linestyle='--', color=colors[i])\n",
    "plt.legend(loc='upper left')\n",
    "plt.xlabel(\"Time\")\n",
    "plt.ylabel(\"Relative error in Frobenius norm\")\n",
    "plt.ylim(1e-12, 1e-1)\n",
    "plt.grid()\n",
    "plt.tight_layout()\n",
    "plt.show()\n",
    "\n",
    "# Plot the rank over time\n",
    "fig2 = plt.figure()\n",
    "for i, tol in enumerate(tolerances):\n",
    "    plt.plot(ts, ranks[:, i], label=f'Tolerance {tol}', color=colors[i])\n",
    "plt.legend(loc = 'upper left')\n",
    "plt.ylim(0, 50)\n",
    "plt.grid()\n",
    "plt.xlabel(\"Time\")\n",
    "plt.ylabel(\"Rank\")\n",
    "plt.tight_layout()\n",
    "plt.show()"
   ]
  },
  {
   "cell_type": "markdown",
   "metadata": {},
   "source": []
  }
 ],
 "metadata": {
  "kernelspec": {
   "display_name": "projected-exponential-methods",
   "language": "python",
   "name": "python3"
  },
  "language_info": {
   "codemirror_mode": {
    "name": "ipython",
    "version": 3
   },
   "file_extension": ".py",
   "mimetype": "text/x-python",
   "name": "python",
   "nbconvert_exporter": "python",
   "pygments_lexer": "ipython3",
   "version": "3.11.4"
  },
  "orig_nbformat": 4
 },
 "nbformat": 4,
 "nbformat_minor": 2
}
