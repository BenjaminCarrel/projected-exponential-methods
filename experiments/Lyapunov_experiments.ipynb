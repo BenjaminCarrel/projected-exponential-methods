{
 "cells": [
  {
   "cell_type": "markdown",
   "metadata": {},
   "source": [
    "# Lyapunov experiments\n",
    "\n",
    "Notebook for Lyapunov experiments.\n",
    "\n",
    "**Author:** [Benjamin Carrel](benjamin.carrel@unige.ch)"
   ]
  },
  {
   "cell_type": "markdown",
   "metadata": {},
   "source": [
    "## Robust to stiffness - 1st example"
   ]
  },
  {
   "cell_type": "markdown",
   "metadata": {},
   "source": [
    "### Setup the problem"
   ]
  },
  {
   "cell_type": "code",
   "execution_count": null,
   "metadata": {},
   "outputs": [],
   "source": [
    "# Imports\n",
    "import numpy as np\n",
    "import numpy.linalg as la\n",
    "import scipy.sparse.linalg as spala\n",
    "import time\n",
    "import datetime\n",
    "from parameters import *\n",
    "from low_rank_toolbox import LowRankMatrix, SVD\n",
    "from problems import make_lyapunov_heat_square_dirichlet\n",
    "from matrix_ode_toolbox.integrate import solve_matrix_ivp\n",
    "from matrix_ode_toolbox.dlra import solve_dlra\n",
    "\n",
    "# Problem parameters\n",
    "size = 128\n",
    "t_span = (0, 1)\n",
    "make_ode = make_lyapunov_heat_square_dirichlet\n",
    "ode, X0 = make_ode(size)\n",
    "\n",
    "# Print the ode\n",
    "print(ode)"
   ]
  },
  {
   "cell_type": "markdown",
   "metadata": {},
   "source": [
    "### Setup the solvers"
   ]
  },
  {
   "cell_type": "code",
   "execution_count": null,
   "metadata": {},
   "outputs": [],
   "source": [
    "# The sizes\n",
    "sizes = [32, 64, 96, 128] #, 192, 256, 384, 512]\n",
    "\n",
    "# Other parameters\n",
    "nb_steps = 100\n",
    "ts = np.linspace(t_span[0], t_span[1], nb_steps+1)\n",
    "rank = 20\n",
    "\n",
    "# Define the methods (projector splitting comparison)\n",
    "dlra_solvers = ['KSL', 'unconventional', 'low_rank_splitting', 'PERK']\n",
    "krylov_kwargs = {'size': 1, 'kind': 'extended', 'is_symmetric': True} # this is overwritten later\n",
    "substep_kwargs = {'solver': 'explicit_runge_kutta', 'order': 4, 'nb_substeps': 1000}\n",
    "methods_kwargs = [{'order': 1, 'substep_kwargs': substep_kwargs},\n",
    "                {'substep_kwargs': substep_kwargs},\n",
    "                {'order': 1},\n",
    "                {'order': 1, 'krylov_kwargs': krylov_kwargs}]\n",
    "\n",
    "## PREALLOCATE THE ERRORS\n",
    "approx_errors = np.zeros(len(sizes))\n",
    "cond_numbers = np.zeros(len(sizes))\n",
    "errors = np.zeros((len(sizes), len(dlra_solvers)))\n",
    "times = np.zeros((len(sizes), len(dlra_solvers)))"
   ]
  },
  {
   "cell_type": "markdown",
   "metadata": {},
   "source": [
    "### Run the solvers"
   ]
  },
  {
   "cell_type": "code",
   "execution_count": null,
   "metadata": {},
   "outputs": [],
   "source": [
    "## LOOP OVER THE SIZES\n",
    "for i, n in enumerate(sizes):\n",
    "    ## MAKE THE ODE\n",
    "    print('*********************************************************************************')\n",
    "    print(\"Solving for n = {}\".format(n))\n",
    "    ode, X0 = make_ode(n)\n",
    "    X0 = SVD.reduced_svd(X0)\n",
    "    Y0 = SVD.truncated_svd(X0, rank)\n",
    "    cond_numbers[i] = la.cond(ode.A.todense())\n",
    "\n",
    "    ## COMPUTE REFERENCE SOLUTION\n",
    "    X1 = solve_matrix_ivp(ode, t_span, X0, solver=\"closed_form\", t_eval=ts, monitor=True, dense_output=True).X1\n",
    "    approx_errors[i] = np.linalg.norm(X1 - SVD.truncated_svd(X1, rank).todense(), 'fro') / np.linalg.norm(X1, 'fro')\n",
    "\n",
    "    ## LOOP OVER THE METHODS\n",
    "    for j, method in enumerate(dlra_solvers):\n",
    "        # COMPUTE THE SOLUTION WITH THE CURRENT METHOD\n",
    "        try:\n",
    "            t0 = time.time()\n",
    "            Y1 = solve_dlra(ode, t_span, Y0, dlra_solver=method, t_eval=ts, monitor=True, solver_kwargs=methods_kwargs[j]).X1\n",
    "            times[i, j] = time.time() - t0\n",
    "\n",
    "            # COMPUTE THE RELATIVE ERROR\n",
    "            errors[i, j] = np.linalg.norm(Y1.todense() - X1, 'fro') / np.linalg.norm(X1, 'fro')\n",
    "        except:\n",
    "            # Some methods may not work for stiff problems\n",
    "            errors[i, j] = 1e10"
   ]
  },
  {
   "cell_type": "markdown",
   "metadata": {},
   "source": [
    "### Plot the results"
   ]
  },
  {
   "cell_type": "code",
   "execution_count": null,
   "metadata": {},
   "outputs": [],
   "source": [
    "# Plot the errors\n",
    "fig1 = plt.figure()\n",
    "method_names = ['Projector-splitting (Lie-Trotter)', 'Unconventional', 'Low-rank splitting (Lie-Trotter)', 'New method (order 1)']\n",
    "styles = ['-v', '-^', '-o', '-+']\n",
    "for j, method in enumerate(dlra_solvers):\n",
    "    plt.semilogy(sizes, errors[:, j], styles[j], label=method_names[j])\n",
    "plt.semilogy(sizes, approx_errors, '--', label=f'Best approx. error ($r={rank}$)')\n",
    "# plt.semilogy(sizes, 1e-10*cond_numbers, '-k', label=r'Cond. number of A ($\\times 10^{-10}$)')\n",
    "plt.tight_layout()\n",
    "plt.xticks(sizes, sizes)\n",
    "plt.legend()\n",
    "plt.grid()\n",
    "plt.ylim([1e-18, 1e0])\n",
    "plt.xlabel(\"Size (mesh refinement)\")\n",
    "plt.ylabel(\"Relative error in Frobenius norm\")\n",
    "plt.show()\n",
    "\n",
    "if do_save:\n",
    "    timestamp = datetime.datetime.now().strftime(\"%Y%m%d%H%M%S\")\n",
    "    fig1.savefig(f'figures/lyapunov_stiffness_test1_error_{timestamp}.pdf')\n",
    "\n",
    "# # Plot the performance\n",
    "# fig2 = plt.figure()\n",
    "# for j, method in enumerate(dlra_solvers):\n",
    "#     plt.semilogy(sizes, times[:, j], styles[j], label=method_names[j])\n",
    "# plt.tight_layout()\n",
    "# plt.legend()\n",
    "# plt.xlabel(\"Size (mesh refinement)\")\n",
    "# plt.xticks(sizes, sizes)\n",
    "# plt.ylabel(\"Time of computation (s)\")\n",
    "# plt.grid()\n",
    "# plt.show()\n",
    "\n",
    "# if do_save:\n",
    "#     fig2.savefig('figures/lyapunov_stiffness_test1_time.pdf')"
   ]
  },
  {
   "cell_type": "markdown",
   "metadata": {},
   "source": [
    "## Robust to stiffness - 2nd example"
   ]
  },
  {
   "cell_type": "markdown",
   "metadata": {},
   "source": [
    "### Setup the problem"
   ]
  },
  {
   "cell_type": "code",
   "execution_count": null,
   "metadata": {},
   "outputs": [],
   "source": [
    "# Imports\n",
    "import numpy as np\n",
    "import numpy.linalg as la\n",
    "import scipy.sparse.linalg as spala\n",
    "import time\n",
    "import datetime\n",
    "from parameters import *\n",
    "from low_rank_toolbox import LowRankMatrix, SVD\n",
    "from problems import make_lyapunov_heat_square_with_time_dependent_source\n",
    "from matrix_ode_toolbox.integrate import solve_matrix_ivp\n",
    "from matrix_ode_toolbox.dlra import solve_dlra\n",
    "\n",
    "# Problem parameters\n",
    "size = 128\n",
    "t_span = (0, 1)\n",
    "make_ode = make_lyapunov_heat_square_with_time_dependent_source\n",
    "ode, X0 = make_ode(size)\n",
    "\n",
    "# Print the ode\n",
    "print(ode)"
   ]
  },
  {
   "cell_type": "markdown",
   "metadata": {},
   "source": [
    "### Setup the solvers"
   ]
  },
  {
   "cell_type": "code",
   "execution_count": null,
   "metadata": {},
   "outputs": [],
   "source": [
    "# The sizes\n",
    "sizes = [32, 64, 96, 128, 160, 192]\n",
    "\n",
    "# Other parameters\n",
    "nb_steps = 1000\n",
    "ts = np.linspace(t_span[0], t_span[1], nb_steps+1)\n",
    "rank = 8\n",
    "\n",
    "# Define the methods (low-rank splitting comparison)\n",
    "dlra_solvers = ['PERK', 'PERK', 'low_rank_splitting', 'low_rank_splitting']\n",
    "krylov_kwargs = {'size': 1, 'kind': 'extended', 'is_symmetric': True}\n",
    "methods_kwargs = [{'order': 1, 'krylov_kwargs': krylov_kwargs},\n",
    "                  {'order': 2, 'krylov_kwargs': krylov_kwargs, 'strict_order_conditions': True},\n",
    "                  {'order': 1}, \n",
    "                  {'order': 2}]\n",
    "\n",
    "## PREALLOCATE THE ERRORS\n",
    "approx_errors = np.zeros(len(sizes))\n",
    "cond_numbers = np.zeros(len(sizes))\n",
    "errors = np.zeros((len(sizes), len(dlra_solvers)))\n",
    "times = np.zeros((len(sizes), len(dlra_solvers)))"
   ]
  },
  {
   "cell_type": "markdown",
   "metadata": {},
   "source": [
    "### Run the solvers"
   ]
  },
  {
   "cell_type": "code",
   "execution_count": null,
   "metadata": {},
   "outputs": [],
   "source": [
    "## LOOP OVER THE SIZES\n",
    "for i, n in enumerate(sizes):\n",
    "    ## MAKE THE ODE\n",
    "    print('*********************************************************************************')\n",
    "    print(\"Solving for n = {}\".format(n))\n",
    "    ode, X0 = make_ode(n)\n",
    "    X0 = SVD.reduced_svd(X0)\n",
    "    Y0 = SVD.truncated_svd(X0, rank)\n",
    "    cond_numbers[i] = la.cond(ode.A.todense())\n",
    "\n",
    "    ## COMPUTE REFERENCE SOLUTION\n",
    "    X1 = solve_matrix_ivp(ode, t_span, X0, solver=\"automatic\", t_eval=ts, monitor=True, dense_output=True).X1\n",
    "    approx_errors[i] = np.linalg.norm(X1 - SVD.truncated_svd(X1, rank).todense(), 'fro') / np.linalg.norm(X1, 'fro')\n",
    "\n",
    "    ## LOOP OVER THE METHODS\n",
    "    for j, method in enumerate(dlra_solvers):\n",
    "        # COMPUTE THE SOLUTION WITH THE CURRENT METHOD\n",
    "        try:\n",
    "            t0 = time.time()\n",
    "            Y1 = solve_dlra(ode, t_span, Y0, dlra_solver=method, t_eval=ts, monitor=True, solver_kwargs=methods_kwargs[j]).X1\n",
    "            times[i, j] = time.time() - t0\n",
    "\n",
    "            # COMPUTE THE RELATIVE ERROR\n",
    "            errors[i, j] = np.linalg.norm(Y1.todense() - X1, 'fro') / np.linalg.norm(X1, 'fro')\n",
    "        except:\n",
    "            # Some methods may not work for stiff problems\n",
    "            errors[i, j] = 1e10"
   ]
  },
  {
   "cell_type": "markdown",
   "metadata": {},
   "source": [
    "### Plot the results"
   ]
  },
  {
   "cell_type": "code",
   "execution_count": null,
   "metadata": {},
   "outputs": [],
   "source": [
    "# Plot the errors\n",
    "fig1 = plt.figure()\n",
    "method_names = ['Proj. exponential Euler', 'Proj. exponential Runge', 'Low-rank splitting (Lie-Trotter)', 'Low-rank splitting (Strang)']\n",
    "styles = ['-o', '-s', '-+', '-x']\n",
    "for j, method in enumerate(dlra_solvers):\n",
    "    plt.semilogy(sizes, errors[:, j], styles[j], label=method_names[j])\n",
    "plt.semilogy(sizes, approx_errors, '--', label=f'Best approx. error ($r={rank}$)')\n",
    "# plt.semilogy(sizes, 1e-10*cond_numbers, '-k', label=r'Cond. number of A ($\\times 10^{-10}$)')\n",
    "plt.tight_layout()\n",
    "plt.xticks(sizes, sizes)\n",
    "plt.legend()\n",
    "plt.grid()\n",
    "plt.ylim([1e-10, 1e0])\n",
    "plt.xlabel(\"Size (mesh refinement)\")\n",
    "plt.ylabel(\"Relative error in Frobenius norm\")\n",
    "plt.show()\n",
    "\n",
    "if do_save:\n",
    "    timestamp = datetime.datetime.now().strftime(\"%Y%m%d%H%M%S\")\n",
    "    fig1.savefig(f'figures/lyapunov_stiffness_test2_error_{timestamp}.pdf')\n",
    "\n",
    "# Plot the performance\n",
    "fig2 = plt.figure()\n",
    "for j, method in enumerate(dlra_solvers):\n",
    "    plt.semilogy(sizes, times[:, j], styles[j], label=method_names[j])\n",
    "plt.tight_layout()\n",
    "plt.legend()\n",
    "plt.xlabel(\"Size (mesh refinement)\")\n",
    "plt.xticks(sizes, sizes)\n",
    "plt.ylabel(\"Time of computation (s)\")\n",
    "plt.grid()\n",
    "plt.show()\n",
    "\n",
    "if do_save:\n",
    "    timestamp = datetime.datetime.now().strftime(\"%Y%m%d%H%M%S\")\n",
    "    fig2.savefig(f'figures/lyapunov_stiffness_test2_time_{timestamp}.pdf')"
   ]
  },
  {
   "cell_type": "markdown",
   "metadata": {},
   "source": [
    "## Compare the methods - Global error and performance"
   ]
  },
  {
   "cell_type": "markdown",
   "metadata": {},
   "source": [
    "### Setup the problem"
   ]
  },
  {
   "cell_type": "code",
   "execution_count": null,
   "metadata": {},
   "outputs": [],
   "source": [
    "# Imports\n",
    "import numpy as np\n",
    "import scipy.sparse.linalg as spala\n",
    "import time\n",
    "import datetime\n",
    "from parameters import *\n",
    "from low_rank_toolbox import LowRankMatrix, SVD\n",
    "from problems import make_lyapunov_heat_square_with_time_dependent_source\n",
    "from matrix_ode_toolbox.integrate import solve_matrix_ivp\n",
    "from matrix_ode_toolbox.dlra import solve_dlra\n",
    "\n",
    "# Problem parameters\n",
    "size = 128 # 128\n",
    "t_span = (0, 1) # (0, 1)\n",
    "make_ode = make_lyapunov_heat_square_with_time_dependent_source\n",
    "ode, X0 = make_ode(size)\n",
    "\n",
    "# Print the ode\n",
    "print(ode)\n",
    "\n",
    "# Preprocess the problem\n",
    "if not isinstance(X0, LowRankMatrix):\n",
    "    X0 = SVD.reduced_svd(X0)\n",
    "invA = spala.splu(ode.A).solve\n",
    "invB = spala.splu(ode.B).solve"
   ]
  },
  {
   "cell_type": "markdown",
   "metadata": {},
   "source": [
    "### Setup the solvers"
   ]
  },
  {
   "cell_type": "code",
   "execution_count": null,
   "metadata": {},
   "outputs": [],
   "source": [
    "# DLRA parameters\n",
    "rank = 16\n",
    "Y0 = X0.truncate(rank)\n",
    "\n",
    "# Methods parameters - ALL PERK\n",
    "nb_steps = np.logspace(1, 3, 6, dtype=int)\n",
    "stepsizes = t_span[1] / nb_steps\n",
    "dlra_solvers = ['PERK', 'PERK', 'PERK']\n",
    "krylov_kwargs = {'size': 1,\n",
    "                 'kind': 'extended',\n",
    "                 'is_symmetric': True,\n",
    "                 'invA': invA,\n",
    "                 'invB': invB}\n",
    "methods_kwargs = [{'order': 1, 'krylov_kwargs': krylov_kwargs},\n",
    "                  {'order': 2, 'krylov_kwargs': krylov_kwargs, 'strict_order_conditions': True},\n",
    "                  {'order': 2, 'krylov_kwargs': krylov_kwargs, 'strict_order_conditions': False}]\n",
    "\n",
    "## Pre-allocate some variables\n",
    "global_errors = np.zeros((len(nb_steps), len(dlra_solvers)))\n",
    "times = np.zeros((len(nb_steps), len(dlra_solvers)))"
   ]
  },
  {
   "cell_type": "markdown",
   "metadata": {},
   "source": [
    "### Run the solvers"
   ]
  },
  {
   "cell_type": "code",
   "execution_count": null,
   "metadata": {},
   "outputs": [],
   "source": [
    "for i, nb in enumerate(nb_steps):\n",
    "    print('*************************************************************************')\n",
    "    print(f'Solving with {nb} steps. ({i+1}/{len(nb_steps)})')\n",
    "    t_eval = np.linspace(*t_span, nb+1)\n",
    "\n",
    "    # Compute the reference solution\n",
    "    X1 = solve_matrix_ivp(ode, t_span, X0, solver=\"automatic\", t_eval=t_eval, dense_output=True, monitor=True, scipy_method='RK45').X1\n",
    "    \n",
    "    # Loop over the methods\n",
    "    for j, method in enumerate(dlra_solvers):\n",
    "        # Compute the solution with the current method\n",
    "        t0 = time.time()\n",
    "        Y1 = solve_dlra(ode, t_span, Y0, dlra_solver=method, t_eval=t_eval, monitor=True, solver_kwargs=methods_kwargs[j]).X1\n",
    "        times[i, j] = time.time() - t0\n",
    "\n",
    "        # Compute the relative error\n",
    "        global_errors[i, j] = np.linalg.norm(Y1.todense() - X1, 'fro') / np.linalg.norm(X1, 'fro')\n",
    "\n",
    "# Approximate error\n",
    "approx_error = np.linalg.norm(X1 - SVD.truncated_svd(X1, rank).todense(), 'fro') / np.linalg.norm(X1, 'fro')\n"
   ]
  },
  {
   "cell_type": "markdown",
   "metadata": {},
   "source": [
    "### Plot the comparison between all three methods"
   ]
  },
  {
   "cell_type": "code",
   "execution_count": null,
   "metadata": {},
   "outputs": [],
   "source": [
    "# Plot the errors\n",
    "fig1 = plt.figure()\n",
    "method_names = ['Proj. exponential Euler',  'Proj. exponential Runge (strict)', 'Proj. exponential Runge (non strict)']\n",
    "styles = ['-o', '-x', '-p']\n",
    "plt.loglog(stepsizes, global_errors[:, 0], styles[0], label=method_names[0])\n",
    "plt.loglog(stepsizes, global_errors[:, 1], styles[1], label=method_names[1])\n",
    "plt.loglog(stepsizes, global_errors[:, 2], styles[2], label=method_names[2])\n",
    "plt.loglog(stepsizes, 4*stepsizes, 'k') # , label=r'$O(h)$'\n",
    "plt.loglog(stepsizes, 4*stepsizes**2, 'k') # , label=r'$O(h^2)$'\n",
    "plt.axhline(approx_error, linestyle='--', color='gray', label=f'Best approx. error ($r={rank}$)')\n",
    "plt.legend(loc='upper left')\n",
    "plt.grid()\n",
    "plt.xlabel(\"Step size\")\n",
    "plt.ylabel(\"Relative error in Frobenius norm\")\n",
    "plt.ylim([1e-9, 1e3])\n",
    "plt.show()\n",
    "\n",
    "\n",
    "\n",
    "if do_save == True:\n",
    "    timestamp = datetime.datetime.now().strftime(\"%Y%m%d%H%M%S\")\n",
    "    fig1.savefig(f'figures/lyapunov_three_methods_convergence_{timestamp}.pdf')\n",
    "\n",
    "# Plot the performance\n",
    "fig2 = plt.figure()\n",
    "plt.loglog(global_errors[:, 0], times[:, 0], styles[0], label=method_names[0])\n",
    "plt.loglog(global_errors[:, 1], times[:, 1], styles[1], label=method_names[1])\n",
    "plt.loglog(global_errors[:, 2], times[:, 2], styles[2], label=method_names[2])\n",
    "plt.axvline(approx_error, linestyle='--', color='gray', label=f'Best approx.error ($r={rank}$)')\n",
    "plt.legend(loc='upper left')\n",
    "plt.gca().invert_xaxis()\n",
    "plt.grid()\n",
    "plt.xlabel(\"Relative error in Frobenius norm\")\n",
    "plt.ylabel(\"Time of computation (s)\")\n",
    "plt.show()\n",
    "\n",
    "if do_save == True:\n",
    "    timestamp = datetime.datetime.now().strftime(\"%Y%m%d%H%M%S\")\n",
    "    fig2.savefig(f'figures/lyapunov_three_methods_performance_{timestamp}.pdf')\n",
    "\n",
    "\n",
    "# Do a table with convergence rates for the different methods by computing the ratio between two consecutive errors\n",
    "print('Step size & Proj. exp. Euler & Proj. exp. Runge (strict) & Proj. exp. Runge (non strict) \\\\\\\\')\n",
    "print('\\\\hline')\n",
    "# \n",
    "for i in range(len(stepsizes)):\n",
    "    if i == 0:\n",
    "        print(f'- & - & - & - \\\\\\\\')\n",
    "    else:\n",
    "        print(f'h={stepsizes[i]:.5f}' + f'& {np.log(global_errors[i-1, 0] / global_errors[i, 0]) / np.log(stepsizes[i-1] / stepsizes[i]):.3f} & {np.log(global_errors[i-1, 1] / global_errors[i, 1]) / np.log(stepsizes[i-1] / stepsizes[i]):.3f} & {np.log(global_errors[i-1, 2] / global_errors[i, 2]) / np.log(stepsizes[i-1] / stepsizes[i]):.3f} \\\\\\\\')\n",
    "\n",
    "\n"
   ]
  },
  {
   "cell_type": "markdown",
   "metadata": {},
   "source": [
    "## Compare the ranks - Global error and performance"
   ]
  },
  {
   "cell_type": "markdown",
   "metadata": {},
   "source": [
    "### Setup the problem"
   ]
  },
  {
   "cell_type": "code",
   "execution_count": null,
   "metadata": {},
   "outputs": [],
   "source": [
    "# Imports\n",
    "import numpy as np\n",
    "import scipy.sparse.linalg as spala\n",
    "import time\n",
    "import datetime\n",
    "from parameters import *\n",
    "from low_rank_toolbox import LowRankMatrix, SVD\n",
    "from problems import make_lyapunov_heat_square_with_time_dependent_source\n",
    "from matrix_ode_toolbox.integrate import solve_matrix_ivp\n",
    "from matrix_ode_toolbox.dlra import solve_dlra\n",
    "\n",
    "# Problem parameters\n",
    "size = 128\n",
    "t_span = (0, 1)\n",
    "make_ode = make_lyapunov_heat_square_with_time_dependent_source\n",
    "ode, X0 = make_ode(size)\n",
    "\n",
    "# Print the ode\n",
    "print(ode)\n",
    "\n",
    "# Preprocess the problem\n",
    "if not isinstance(X0, LowRankMatrix):\n",
    "    X0 = SVD.reduced_svd(X0)\n",
    "invA = spala.splu(ode.A).solve\n",
    "invB = spala.splu(ode.B).solve"
   ]
  },
  {
   "cell_type": "markdown",
   "metadata": {},
   "source": [
    "### Setup the solver and other parameters"
   ]
  },
  {
   "cell_type": "code",
   "execution_count": null,
   "metadata": {},
   "outputs": [],
   "source": [
    "# Method parameters - PERK\n",
    "method = 'PERK'\n",
    "invA = spala.inv(ode.A).dot\n",
    "invB = spala.inv(ode.B).dot\n",
    "krylov_kwargs = {'size': 1, \n",
    "                 'kind': 'extended', \n",
    "                 'is_symmetric': True, \n",
    "                 'invA': invA, \n",
    "                 'invB': invB}\n",
    "method_kwargs = {'order': 2, \n",
    "                 'krylov_kwargs': krylov_kwargs, \n",
    "                 'strict_order_conditions': True}\n",
    "\n",
    "# Ranks to test\n",
    "ranks = [4, 7, 11, 16]\n",
    "\n",
    "# Number of steps\n",
    "list_nb_steps = np.logspace(1, 5, 10, dtype=int)\n",
    "\n",
    "# Preallocation\n",
    "global_errors = np.zeros((len(list_nb_steps), len(ranks)))\n",
    "approx_error = np.zeros((len(list_nb_steps), len(ranks)))\n",
    "times = np.zeros((len(list_nb_steps), len(ranks)))"
   ]
  },
  {
   "cell_type": "markdown",
   "metadata": {},
   "source": [
    "### Run the solver for different ranks"
   ]
  },
  {
   "cell_type": "code",
   "execution_count": null,
   "metadata": {},
   "outputs": [],
   "source": [
    "# Loop over the number of steps\n",
    "for i, nb in enumerate(list_nb_steps):\n",
    "    print('*************************************************************************')\n",
    "    print(f'Solving with {nb} steps. ({i+1}/{len(list_nb_steps)})')\n",
    "    t_eval = np.linspace(*t_span, nb+1)\n",
    "\n",
    "    # Compute the reference solution\n",
    "    X1 = solve_matrix_ivp(ode, t_span, X0, solver=\"automatic\", t_eval=t_eval, dense_output=True, monitor=True).X1\n",
    "\n",
    "    for rank in ranks:\n",
    "        print('$$$$$$$$$$$$$$$$$$$$$$$$$$$$$$$$$$$$$$$$$$$$$$$$$$')\n",
    "        print(f'Rank {rank}')\n",
    "        t_eval = np.linspace(*t_span, nb+1)\n",
    "\n",
    "        # Compute the best rank approximation\n",
    "        approx_error[i, ranks.index(rank)] = np.linalg.norm(X1 - SVD.truncated_svd(X1, rank).todense(), 'fro') / np.linalg.norm(X1, 'fro')\n",
    "\n",
    "        # Compute the solution with the DLRA method\n",
    "        Y0 = SVD.truncated_svd(X0, rank)\n",
    "        t0 = time.time()\n",
    "        Y1 = solve_dlra(ode, t_span, Y0, dlra_solver=method, t_eval=t_eval, monitor=True, solver_kwargs=method_kwargs).X1\n",
    "        times[i, ranks.index(rank)] = time.time() - t0\n",
    "\n",
    "        # Compute the relative error\n",
    "        global_errors[i, ranks.index(rank)] = np.linalg.norm(Y1.todense() - X1, 'fro') / np.linalg.norm(X1, 'fro')\n"
   ]
  },
  {
   "cell_type": "markdown",
   "metadata": {},
   "source": [
    "### Plot the results"
   ]
  },
  {
   "cell_type": "code",
   "execution_count": null,
   "metadata": {},
   "outputs": [],
   "source": [
    "# Plot the errors\n",
    "fig1 = plt.figure()\n",
    "stepsizes = t_span[1] / list_nb_steps\n",
    "# One color per rank\n",
    "names = [f'Rank {r}' for r in ranks]\n",
    "colors = ['tab:blue', 'tab:orange', 'tab:green', 'tab:purple', 'tab:brown'] # , 'tab:red', 'tab:purple', 'tab:brown', 'tab:pink', 'tab:gray', 'tab:olive', 'tab:cyan']\n",
    "styles = ['-o', '-s', '-p', '-D']\n",
    "for j in range(len(ranks)):\n",
    "    plt.loglog(stepsizes, global_errors[:, j], styles[j], label=names[j], color=colors[j])\n",
    "    plt.loglog(stepsizes, approx_error[:, j], '--', color=colors[j])\n",
    "plt.loglog(stepsizes, stepsizes**2, color='k')\n",
    "plt.legend()\n",
    "plt.xlabel(\"Step size\")\n",
    "plt.ylabel(\"Relative error in Frobenius norm\")\n",
    "plt.ylim(1e-9, 1e-1)\n",
    "plt.grid()\n",
    "plt.tight_layout()\n",
    "plt.show()\n",
    "\n",
    "if do_save:\n",
    "    timestamp = datetime.datetime.now().strftime(\"%Y%m%d%H%M%S\")\n",
    "    fig1.savefig(f'figures/lyapunov_rank_test_error_{datetime}.pdf')\n",
    "\n",
    "\n",
    "# Plot the performance\n",
    "fig2 = plt.figure()\n",
    "for j in range(len(ranks)):\n",
    "    plt.loglog(global_errors[:, j], times[:, j], styles[j], label=names[j], color=colors[j])\n",
    "    plt.axvline(approx_error[0, j], linestyle='--', color=colors[j])\n",
    "plt.legend()\n",
    "plt.xlabel(\"Relative error in Frobenius norm\")\n",
    "plt.ylabel(\"Time of computation (s)\")\n",
    "plt.gca().invert_xaxis()\n",
    "plt.tight_layout()\n",
    "plt.grid()\n",
    "plt.show()\n",
    "\n",
    "if do_save:\n",
    "    timestamp = datetime.datetime.now().strftime(\"%Y%m%d%H%M%S\")\n",
    "    fig2.savefig(f'figures/lyapunov_rank_test_performance_{datetime}.pdf')"
   ]
  },
  {
   "cell_type": "markdown",
   "metadata": {},
   "source": [
    "## Compare the sizes - Global error and performance"
   ]
  },
  {
   "cell_type": "markdown",
   "metadata": {},
   "source": [
    "### Setup the problem"
   ]
  },
  {
   "cell_type": "code",
   "execution_count": null,
   "metadata": {},
   "outputs": [],
   "source": [
    "# Imports\n",
    "import numpy as np\n",
    "import scipy.sparse.linalg as spala\n",
    "import time\n",
    "import datetime\n",
    "from parameters import *\n",
    "from low_rank_toolbox import LowRankMatrix, SVD\n",
    "from problems import make_lyapunov_heat_square_with_time_dependent_source\n",
    "from matrix_ode_toolbox.integrate import solve_matrix_ivp\n",
    "from matrix_ode_toolbox.dlra import solve_dlra\n",
    "\n",
    "# Problem parameters\n",
    "t_span = (0, 1)\n",
    "make_ode = make_lyapunov_heat_square_with_time_dependent_source\n",
    "ode, X0 = make_ode()\n",
    "\n",
    "# Print the ode\n",
    "print(ode)"
   ]
  },
  {
   "cell_type": "markdown",
   "metadata": {},
   "source": [
    "### Setup the solver and other parameters"
   ]
  },
  {
   "cell_type": "code",
   "execution_count": null,
   "metadata": {},
   "outputs": [],
   "source": [
    "# Ranks to test\n",
    "sizes = [32, 64, 128, 164]\n",
    "\n",
    "# Number of steps\n",
    "list_nb_steps = np.logspace(1, 3, 4, dtype=int)\n",
    "\n",
    "# Preallocation\n",
    "global_errors_strict = np.zeros((len(list_nb_steps), len(sizes)))\n",
    "global_errors_non_strict = np.zeros((len(list_nb_steps), len(sizes)))\n",
    "approx_errors = np.zeros((len(list_nb_steps), len(sizes)))\n",
    "times_strict = np.zeros((len(list_nb_steps), len(sizes)))\n",
    "times_non_strict = np.zeros((len(list_nb_steps), len(sizes)))"
   ]
  },
  {
   "cell_type": "markdown",
   "metadata": {},
   "source": [
    "### Run the solver for different sizes"
   ]
  },
  {
   "cell_type": "code",
   "execution_count": null,
   "metadata": {},
   "outputs": [],
   "source": [
    "## LOOP OVER THE SIZES\n",
    "for i, n in enumerate(sizes):\n",
    "    ## MAKE THE ODE\n",
    "    print('*********************************************************************************')\n",
    "    print(\"Solving for n = {}\".format(n))\n",
    "    ode, X0 = make_ode(n)\n",
    "    rank = 16\n",
    "    X0 = SVD.reduced_svd(X0)\n",
    "    Y0 = SVD.truncated_svd(X0, rank)\n",
    "    # cond_numbers[i] = la.cond(ode.A.todense())\n",
    "\n",
    "    ## LOOP OVER THE NUMBER OF STEPS\n",
    "    for j, nb in enumerate(list_nb_steps):\n",
    "        print('----------------------------------------')\n",
    "        print(f'Solving with {nb} steps. ({j+1}/{len(list_nb_steps)})')\n",
    "        ## COMPUTE REFERENCE SOLUTION\n",
    "        ts = np.linspace(t_span[0], t_span[1], nb+1)\n",
    "        X1 = solve_matrix_ivp(ode, t_span, X0, solver=\"automatic\", t_eval=ts, monitor=True, dense_output=True).X1\n",
    "        approx_errors[j, i] = np.linalg.norm(X1 - SVD.truncated_svd(X1, rank).todense(), 'fro') / np.linalg.norm(X1, 'fro')\n",
    "\n",
    "        ## SOME PREPROCESSING\n",
    "        invA = spala.inv(ode.A).dot\n",
    "        invB = spala.inv(ode.B).dot\n",
    "        krylov_kwargs = {'size': 1, \n",
    "                        'kind': 'extended', \n",
    "                        'is_symmetric': True, \n",
    "                        'invA': invA, \n",
    "                        'invB': invB}\n",
    "        \n",
    "        ## STRICT ORDER CONDITIONS\n",
    "        method = 'PERK'\n",
    "        method_kwargs = {'order': 2,\n",
    "                        'krylov_kwargs': krylov_kwargs, \n",
    "                        'strict_order_conditions': True}\n",
    "        t0 = time.time()\n",
    "        Y1 = solve_dlra(ode, t_span, Y0, dlra_solver=method, t_eval=ts, monitor=True, solver_kwargs=method_kwargs).X1\n",
    "        times_strict[j, i] = time.time() - t0\n",
    "\n",
    "        global_errors_strict[j, i] = np.linalg.norm(Y1.todense() - X1, 'fro') / np.linalg.norm(X1, 'fro')\n",
    "        \n",
    "        ## NON-STRICT ORDER CONDITIONS\n",
    "        method = 'PERK'\n",
    "        method_kwargs = {'order': 2, \n",
    "                        'krylov_kwargs': krylov_kwargs, \n",
    "                        'strict_order_conditions': False}\n",
    "        t0 = time.time()\n",
    "        Y1 = solve_dlra(ode, t_span, Y0, dlra_solver=method, t_eval=ts, monitor=True, solver_kwargs=method_kwargs).X1\n",
    "        times_non_strict[j, i] = time.time() - t0\n",
    "\n",
    "        global_errors_non_strict[j, i] = np.linalg.norm(Y1.todense() - X1, 'fro') / np.linalg.norm(X1, 'fro')\n",
    "\n"
   ]
  },
  {
   "cell_type": "markdown",
   "metadata": {},
   "source": [
    "### Plot the results"
   ]
  },
  {
   "cell_type": "code",
   "execution_count": null,
   "metadata": {},
   "outputs": [],
   "source": [
    "# Plot the errors\n",
    "fig1 = plt.figure()\n",
    "stepsizes = t_span[1] / list_nb_steps\n",
    "# One color per size\n",
    "colors = ['tab:blue', 'tab:orange', 'tab:green', 'tab:purple', 'tab:brown'] # , 'tab:red', 'tab:purple', 'tab:brown', 'tab:pink', 'tab:gray', 'tab:olive', 'tab:cyan']\n",
    "names = [f'n={s}' for s in sizes]\n",
    "styles = ['-o', '-s', '-p', '-D']\n",
    "for j, size in enumerate(sizes):\n",
    "    plt.loglog(stepsizes, global_errors_strict[:, j], '-x', color=colors[j])\n",
    "    plt.loglog(stepsizes, global_errors_non_strict[:, j], '-p', color=colors[j])\n",
    "    plt.loglog(stepsizes, approx_errors[:, j], '--', color=colors[j], label=f'Size n={size}')\n",
    "plt.loglog(stepsizes, stepsizes**2, color='k')\n",
    "plt.legend()\n",
    "plt.xlabel(\"Step size\")\n",
    "plt.ylabel(\"Relative error in Frobenius norm\")\n",
    "plt.ylim(1e-15, 1e-1)\n",
    "plt.grid()\n",
    "plt.tight_layout()\n",
    "plt.show()\n",
    "\n",
    "if do_save:\n",
    "    timestamp = datetime.datetime.now().strftime(\"%Y%m%d%H%M%S\")\n",
    "    fig1.savefig(f'figures/lyapunov_size_test_error_{timestamp}.pdf')\n",
    "\n",
    "\n",
    "# Plot the performance\n",
    "fig2 = plt.figure()\n",
    "for j, size in enumerate(sizes):\n",
    "    plt.loglog(global_errors_strict[:, j], times_strict[:, j], '-x', color=colors[j])\n",
    "    plt.loglog(global_errors_non_strict[:, j], times_non_strict[:, j], '-p', color=colors[j])\n",
    "    plt.axvline(approx_errors[0, j], linestyle='--', color=colors[j], label=f'Size n={size}')\n",
    "plt.legend()\n",
    "plt.xlabel(\"Relative error in Frobenius norm\")\n",
    "plt.ylabel(\"Time of computation (s)\")\n",
    "plt.gca().invert_xaxis()\n",
    "plt.tight_layout()\n",
    "plt.grid()\n",
    "plt.show()\n",
    "\n",
    "if do_save:\n",
    "    timestamp = datetime.datetime.now().strftime(\"%Y%m%d%H%M%S\")\n",
    "    fig2.savefig(f'figures/lyapunov_size_test_performance_{timestamp}.pdf')"
   ]
  },
  {
   "cell_type": "markdown",
   "metadata": {},
   "source": [
    "## Rank-adaptive method"
   ]
  },
  {
   "cell_type": "markdown",
   "metadata": {},
   "source": [
    "### Setup the problem"
   ]
  },
  {
   "cell_type": "code",
   "execution_count": 1,
   "metadata": {},
   "outputs": [
    {
     "name": "stdout",
     "output_type": "stream",
     "text": [
      "Sylvester-like ODE structure with 3 parameters.\n",
      "Dimensions:  (128, 128)\n",
      "----------------------------------------\n",
      "Scipy solver \n",
      "-- RK45 method \n",
      "-- 1 substep(s)\n"
     ]
    },
    {
     "name": "stderr",
     "output_type": "stream",
     "text": [
      "Solving matrix ODE: 100%|██████████| 1000/1000 [03:36<00:00,  4.61it/s]\n"
     ]
    }
   ],
   "source": [
    "# Imports\n",
    "import numpy as np\n",
    "import datetime\n",
    "from parameters import *\n",
    "from low_rank_toolbox import LowRankMatrix, SVD\n",
    "from problems import make_lyapunov_heat_square_with_time_dependent_special\n",
    "from matrix_ode_toolbox.integrate import solve_matrix_ivp\n",
    "from matrix_ode_toolbox.dlra import solve_adaptive_dlra\n",
    "\n",
    "# Problem parameters\n",
    "size = 128 # 128\n",
    "t_span = (0, 1) # (0, 1)\n",
    "make_ode = make_lyapunov_heat_square_with_time_dependent_special\n",
    "ode, X0 = make_ode(size)\n",
    "\n",
    "# Print the ode\n",
    "print(ode)\n",
    "if not isinstance(X0, LowRankMatrix):\n",
    "    X0 = SVD.reduced_svd(X0)\n",
    "print('Dimensions: ', X0.shape)\n",
    "\n",
    "# Precompute reference solution\n",
    "nb_steps = 1000 # 1000\n",
    "ts = np.linspace(*t_span, nb_steps+1)\n",
    "ref_sol = solve_matrix_ivp(ode, t_span, X0, solver=\"automatic\", t_eval=ts, monitor=True)\n",
    "Xs_ref = ref_sol.todense()"
   ]
  },
  {
   "cell_type": "markdown",
   "metadata": {},
   "source": [
    "### Plot the singular values"
   ]
  },
  {
   "cell_type": "code",
   "execution_count": 2,
   "metadata": {},
   "outputs": [
    {
     "data": {
      "image/png": "[encoded data removed]",
      "text/plain": [
       "<Figure size 1000x750 with 1 Axes>"
      ]
     },
     "metadata": {},
     "output_type": "display_data"
    },
    {
     "data": {
      "image/png": "[encoded data removed]",
      "text/plain": [
       "<Figure size 1000x750 with 1 Axes>"
      ]
     },
     "metadata": {},
     "output_type": "display_data"
    },
    {
     "data": {
      "image/png": "[encoded data removed]",
      "text/plain": [
       "<Figure size 1000x750 with 1 Axes>"
      ]
     },
     "metadata": {},
     "output_type": "display_data"
    },
    {
     "data": {
      "image/png": "[encoded data removed]",
      "text/plain": [
       "<Figure size 1000x750 with 1 Axes>"
      ]
     },
     "metadata": {},
     "output_type": "display_data"
    },
    {
     "data": {
      "image/png": "[encoded data removed]",
      "text/plain": [
       "<Figure size 1000x750 with 1 Axes>"
      ]
     },
     "metadata": {},
     "output_type": "display_data"
    }
   ],
   "source": [
    "# Selected time steps\n",
    "time_steps = [0, 30, 50, 70, 100]\n",
    "labels = [f'Singular values at t = {round(ts[index], 3)}' for index in time_steps]\n",
    "sing_vals = np.zeros(len(time_steps), dtype=object)\n",
    "\n",
    "# Compute the singular values\n",
    "for i, index in enumerate(time_steps):\n",
    "    if isinstance(Xs_ref[index], SVD):\n",
    "        Xs_ref[index] = Xs_ref[index].todense()\n",
    "    sing_vals[i] = np.linalg.svd(Xs_ref[index], compute_uv=False)\n",
    "\n",
    "# Plot the singular values at each time step\n",
    "for i, _ in enumerate(time_steps):\n",
    "    new_fig = plt.figure()\n",
    "    indexes = np.arange(1, len(sing_vals[0])+1)\n",
    "    plt.semilogy(indexes, sing_vals[i], 'o', label=labels[i])\n",
    "    # Machine precision\n",
    "    plt.axhline(np.finfo(float).eps, linestyle='--', color='gray', label='Machine precision')\n",
    "    plt.legend()\n",
    "    plt.grid()\n",
    "    plt.xlabel(\"Index\")\n",
    "    plt.xticks(np.linspace(1, len(sing_vals[0]), 9, dtype=int))\n",
    "    # plt.ylabel(\"Singular value\")\n",
    "    plt.tight_layout()\n",
    "    plt.ylim([1e-20, 1e1])\n",
    "    plt.show()\n",
    "\n",
    "    if do_save:\n",
    "        timestamp = datetime.datetime.now().strftime(\"%Y%m%d%H%M%S\")\n",
    "        new_fig.savefig(f'figures/lyapunov_singular_values_t_{time_steps[i]}_{timestamp}.pdf')\n"
   ]
  },
  {
   "cell_type": "markdown",
   "metadata": {},
   "source": [
    "### Setup the solver and other parameters"
   ]
  },
  {
   "cell_type": "code",
   "execution_count": 3,
   "metadata": {},
   "outputs": [],
   "source": [
    "# Define the methods\n",
    "from scipy.sparse import linalg as spala\n",
    "invA = spala.inv(ode.A).dot\n",
    "dlra_solver = 'adaptive_PERK'\n",
    "krylov_kwargs = {'size': 1, 'kind': 'extended', 'invA': invA, 'invB': invA}\n",
    "method_kwargs = {'order': 2, 'krylov_kwargs': krylov_kwargs, 'strict_order_conditions': True}\n",
    "\n",
    "# Define the tolerances\n",
    "tolerances = [1e-5, 1e-8, 1e-11]\n",
    "\n",
    "# Initialize the error over time matrix\n",
    "nb_t_steps = len(ref_sol.Xs)\n",
    "dlra_solutions = np.zeros(len(tolerances), dtype=object)"
   ]
  },
  {
   "cell_type": "markdown",
   "metadata": {},
   "source": [
    "### Run the solver for different tolerances"
   ]
  },
  {
   "cell_type": "code",
   "execution_count": 4,
   "metadata": {},
   "outputs": [
    {
     "name": "stdout",
     "output_type": "stream",
     "text": [
      "----------------------------------------\n",
      "Adaptive PERK \n",
      "-- 1 substep(s) \n",
      "-- 2 stages \n",
      "-- Strict order conditions: True \n",
      "-- extended Krylov space and 1 iteration(s) \n",
      "-- Largest matrix shape: (8*rank, 8*rank) \n",
      "-- Relative tolerance = 1e-05 \n",
      "-- Absolute tolerance = None\n"
     ]
    },
    {
     "name": "stderr",
     "output_type": "stream",
     "text": [
      "Solving adaptive DLRA:   0%|          | 4/1000 [00:00<00:29, 33.86it/s]"
     ]
    },
    {
     "name": "stdout",
     "output_type": "stream",
     "text": [
      "Rank has changed from 6 to 7 at t = 0.001\n",
      "Rank has changed from 7 to 8 at t = 0.002\n"
     ]
    },
    {
     "name": "stderr",
     "output_type": "stream",
     "text": [
      "Solving adaptive DLRA:   2%|▏         | 16/1000 [00:00<00:27, 35.85it/s]"
     ]
    },
    {
     "name": "stdout",
     "output_type": "stream",
     "text": [
      "Rank has changed from 8 to 9 at t = 0.009000000000000001\n",
      "Rank has changed from 9 to 7 at t = 0.01\n",
      "Rank has changed from 7 to 8 at t = 0.011\n",
      "Rank has changed from 8 to 7 at t = 0.013000000000000001\n",
      "Rank has changed from 7 to 9 at t = 0.014\n",
      "Rank has changed from 9 to 8 at t = 0.016\n"
     ]
    },
    {
     "name": "stderr",
     "output_type": "stream",
     "text": [
      "Solving adaptive DLRA:   2%|▏         | 24/1000 [00:00<00:26, 36.57it/s]"
     ]
    },
    {
     "name": "stdout",
     "output_type": "stream",
     "text": [
      "Rank has changed from 8 to 9 at t = 0.018000000000000002\n",
      "Rank has changed from 9 to 8 at t = 0.019\n",
      "Rank has changed from 8 to 9 at t = 0.02\n",
      "Rank has changed from 9 to 8 at t = 0.022\n"
     ]
    },
    {
     "name": "stderr",
     "output_type": "stream",
     "text": [
      "Solving adaptive DLRA:   3%|▎         | 32/1000 [00:00<00:26, 36.33it/s]"
     ]
    },
    {
     "name": "stdout",
     "output_type": "stream",
     "text": [
      "Rank has changed from 8 to 9 at t = 0.026000000000000002\n",
      "Rank has changed from 9 to 8 at t = 0.028\n",
      "Rank has changed from 8 to 9 at t = 0.029\n",
      "Rank has changed from 9 to 8 at t = 0.03\n",
      "Rank has changed from 8 to 9 at t = 0.031\n",
      "Rank has changed from 9 to 8 at t = 0.032\n"
     ]
    },
    {
     "name": "stderr",
     "output_type": "stream",
     "text": [
      "Solving adaptive DLRA:   4%|▍         | 40/1000 [00:01<00:26, 36.63it/s]"
     ]
    },
    {
     "name": "stdout",
     "output_type": "stream",
     "text": [
      "Rank has changed from 8 to 9 at t = 0.034\n",
      "Rank has changed from 9 to 8 at t = 0.035\n",
      "Rank has changed from 8 to 7 at t = 0.036000000000000004\n",
      "Rank has changed from 7 to 8 at t = 0.038\n",
      "Rank has changed from 8 to 10 at t = 0.041\n"
     ]
    },
    {
     "name": "stderr",
     "output_type": "stream",
     "text": [
      "Solving adaptive DLRA:   5%|▍         | 48/1000 [00:01<00:26, 35.46it/s]"
     ]
    },
    {
     "name": "stdout",
     "output_type": "stream",
     "text": [
      "Rank has changed from 10 to 8 at t = 0.042\n",
      "Rank has changed from 8 to 9 at t = 0.044\n",
      "Rank has changed from 9 to 8 at t = 0.048\n",
      "Rank has changed from 8 to 7 at t = 0.049\n"
     ]
    },
    {
     "name": "stderr",
     "output_type": "stream",
     "text": [
      "Solving adaptive DLRA:   6%|▌         | 56/1000 [00:01<00:26, 35.93it/s]"
     ]
    },
    {
     "name": "stdout",
     "output_type": "stream",
     "text": [
      "Rank has changed from 7 to 9 at t = 0.05\n",
      "Rank has changed from 9 to 7 at t = 0.053\n",
      "Rank has changed from 7 to 8 at t = 0.054\n",
      "Rank has changed from 8 to 9 at t = 0.055\n",
      "Rank has changed from 9 to 8 at t = 0.056\n"
     ]
    },
    {
     "name": "stderr",
     "output_type": "stream",
     "text": [
      "Solving adaptive DLRA:   6%|▋         | 64/1000 [00:01<00:26, 35.49it/s]"
     ]
    },
    {
     "name": "stdout",
     "output_type": "stream",
     "text": [
      "Rank has changed from 8 to 10 at t = 0.059000000000000004\n",
      "Rank has changed from 10 to 9 at t = 0.06\n",
      "Rank has changed from 9 to 8 at t = 0.061\n",
      "Rank has changed from 8 to 9 at t = 0.063\n",
      "Rank has changed from 9 to 8 at t = 0.064\n",
      "Rank has changed from 8 to 9 at t = 0.065\n"
     ]
    },
    {
     "name": "stderr",
     "output_type": "stream",
     "text": [
      "Solving adaptive DLRA:   7%|▋         | 72/1000 [00:02<00:26, 35.05it/s]"
     ]
    },
    {
     "name": "stdout",
     "output_type": "stream",
     "text": [
      "Rank has changed from 9 to 8 at t = 0.067\n",
      "Rank has changed from 8 to 9 at t = 0.068\n",
      "Rank has changed from 9 to 8 at t = 0.069\n",
      "Rank has changed from 8 to 10 at t = 0.07\n",
      "Rank has changed from 10 to 9 at t = 0.07100000000000001\n",
      "Rank has changed from 9 to 8 at t = 0.07200000000000001\n"
     ]
    },
    {
     "name": "stderr",
     "output_type": "stream",
     "text": [
      "Solving adaptive DLRA:   8%|▊         | 80/1000 [00:02<00:25, 36.30it/s]"
     ]
    },
    {
     "name": "stdout",
     "output_type": "stream",
     "text": [
      "Rank has changed from 8 to 9 at t = 0.075\n",
      "Rank has changed from 9 to 8 at t = 0.076\n",
      "Rank has changed from 8 to 9 at t = 0.077\n",
      "Rank has changed from 9 to 8 at t = 0.078\n"
     ]
    },
    {
     "name": "stderr",
     "output_type": "stream",
     "text": [
      "Solving adaptive DLRA:   9%|▉         | 88/1000 [00:02<00:24, 37.10it/s]"
     ]
    },
    {
     "name": "stdout",
     "output_type": "stream",
     "text": [
      "Rank has changed from 8 to 9 at t = 0.083\n",
      "Rank has changed from 9 to 8 at t = 0.084\n",
      "Rank has changed from 8 to 9 at t = 0.085\n",
      "Rank has changed from 9 to 7 at t = 0.08600000000000001\n",
      "Rank has changed from 7 to 8 at t = 0.088\n",
      "Rank has changed from 8 to 9 at t = 0.089\n"
     ]
    },
    {
     "name": "stderr",
     "output_type": "stream",
     "text": [
      "Solving adaptive DLRA:  10%|▉         | 96/1000 [00:02<00:24, 36.79it/s]"
     ]
    },
    {
     "name": "stdout",
     "output_type": "stream",
     "text": [
      "Rank has changed from 9 to 8 at t = 0.091\n",
      "Rank has changed from 8 to 9 at t = 0.095\n",
      "Rank has changed from 9 to 8 at t = 0.097\n"
     ]
    },
    {
     "name": "stderr",
     "output_type": "stream",
     "text": [
      "Solving adaptive DLRA:  10%|█         | 104/1000 [00:02<00:24, 36.53it/s]"
     ]
    },
    {
     "name": "stdout",
     "output_type": "stream",
     "text": [
      "Rank has changed from 8 to 9 at t = 0.099\n",
      "Rank has changed from 9 to 8 at t = 0.1\n",
      "Rank has changed from 8 to 7 at t = 0.101\n",
      "Rank has changed from 7 to 9 at t = 0.10200000000000001\n",
      "Rank has changed from 9 to 7 at t = 0.10400000000000001\n",
      "Rank has changed from 7 to 8 at t = 0.105\n"
     ]
    },
    {
     "name": "stderr",
     "output_type": "stream",
     "text": [
      "Solving adaptive DLRA:  11%|█         | 112/1000 [00:03<00:23, 37.17it/s]"
     ]
    },
    {
     "name": "stdout",
     "output_type": "stream",
     "text": [
      "Rank has changed from 8 to 9 at t = 0.107\n",
      "Rank has changed from 9 to 7 at t = 0.108\n",
      "Rank has changed from 7 to 8 at t = 0.109\n",
      "Rank has changed from 8 to 9 at t = 0.113\n",
      "Rank has changed from 9 to 8 at t = 0.114\n"
     ]
    },
    {
     "name": "stderr",
     "output_type": "stream",
     "text": [
      "Solving adaptive DLRA:  12%|█▏        | 120/1000 [00:03<00:23, 36.97it/s]"
     ]
    },
    {
     "name": "stdout",
     "output_type": "stream",
     "text": [
      "Rank has changed from 8 to 9 at t = 0.115\n",
      "Rank has changed from 9 to 8 at t = 0.117\n",
      "Rank has changed from 8 to 9 at t = 0.12\n",
      "Rank has changed from 9 to 7 at t = 0.121\n",
      "Rank has changed from 7 to 9 at t = 0.122\n"
     ]
    },
    {
     "name": "stderr",
     "output_type": "stream",
     "text": [
      "Solving adaptive DLRA:  13%|█▎        | 128/1000 [00:03<00:23, 37.37it/s]"
     ]
    },
    {
     "name": "stdout",
     "output_type": "stream",
     "text": [
      "Rank has changed from 9 to 8 at t = 0.123\n",
      "Rank has changed from 8 to 7 at t = 0.125\n",
      "Rank has changed from 7 to 9 at t = 0.126\n",
      "Rank has changed from 9 to 7 at t = 0.129\n"
     ]
    },
    {
     "name": "stderr",
     "output_type": "stream",
     "text": [
      "Solving adaptive DLRA:  14%|█▎        | 136/1000 [00:03<00:22, 37.72it/s]"
     ]
    },
    {
     "name": "stdout",
     "output_type": "stream",
     "text": [
      "Rank has changed from 7 to 8 at t = 0.131\n",
      "Rank has changed from 8 to 10 at t = 0.132\n",
      "Rank has changed from 10 to 8 at t = 0.133\n",
      "Rank has changed from 8 to 9 at t = 0.136\n",
      "Rank has changed from 9 to 8 at t = 0.137\n"
     ]
    },
    {
     "name": "stderr",
     "output_type": "stream",
     "text": [
      "Solving adaptive DLRA:  14%|█▍        | 144/1000 [00:03<00:23, 36.55it/s]"
     ]
    },
    {
     "name": "stdout",
     "output_type": "stream",
     "text": [
      "Rank has changed from 8 to 10 at t = 0.139\n",
      "Rank has changed from 10 to 9 at t = 0.14\n",
      "Rank has changed from 9 to 8 at t = 0.14400000000000002\n"
     ]
    },
    {
     "name": "stderr",
     "output_type": "stream",
     "text": [
      "Solving adaptive DLRA:  16%|█▌        | 156/1000 [00:04<00:22, 37.44it/s]"
     ]
    },
    {
     "name": "stdout",
     "output_type": "stream",
     "text": [
      "Rank has changed from 8 to 9 at t = 0.151\n",
      "Rank has changed from 9 to 7 at t = 0.152\n",
      "Rank has changed from 7 to 8 at t = 0.153\n",
      "Rank has changed from 8 to 9 at t = 0.156\n",
      "Rank has changed from 9 to 8 at t = 0.157\n",
      "Rank has changed from 8 to 9 at t = 0.158\n"
     ]
    },
    {
     "name": "stderr",
     "output_type": "stream",
     "text": [
      "Solving adaptive DLRA:  16%|█▋        | 164/1000 [00:04<00:22, 36.74it/s]"
     ]
    },
    {
     "name": "stdout",
     "output_type": "stream",
     "text": [
      "Rank has changed from 9 to 8 at t = 0.16\n",
      "Rank has changed from 8 to 9 at t = 0.161\n",
      "Rank has changed from 9 to 8 at t = 0.162\n",
      "Rank has changed from 8 to 9 at t = 0.166\n",
      "Rank has changed from 9 to 8 at t = 0.167\n"
     ]
    },
    {
     "name": "stderr",
     "output_type": "stream",
     "text": [
      "Solving adaptive DLRA:  18%|█▊        | 176/1000 [00:04<00:22, 37.09it/s]"
     ]
    },
    {
     "name": "stdout",
     "output_type": "stream",
     "text": [
      "Rank has changed from 8 to 9 at t = 0.169\n",
      "Rank has changed from 9 to 8 at t = 0.17\n",
      "Rank has changed from 8 to 9 at t = 0.171\n",
      "Rank has changed from 9 to 8 at t = 0.17200000000000001\n",
      "Rank has changed from 8 to 9 at t = 0.17300000000000001\n",
      "Rank has changed from 9 to 8 at t = 0.17400000000000002\n",
      "Rank has changed from 8 to 9 at t = 0.17500000000000002\n"
     ]
    },
    {
     "name": "stderr",
     "output_type": "stream",
     "text": [
      "Solving adaptive DLRA:  18%|█▊        | 184/1000 [00:05<00:21, 37.53it/s]"
     ]
    },
    {
     "name": "stdout",
     "output_type": "stream",
     "text": [
      "Rank has changed from 9 to 8 at t = 0.178\n",
      "Rank has changed from 8 to 9 at t = 0.18\n",
      "Rank has changed from 9 to 7 at t = 0.181\n",
      "Rank has changed from 7 to 8 at t = 0.183\n",
      "Rank has changed from 8 to 9 at t = 0.184\n"
     ]
    },
    {
     "name": "stderr",
     "output_type": "stream",
     "text": [
      "Solving adaptive DLRA:  19%|█▉        | 192/1000 [00:05<00:22, 36.21it/s]"
     ]
    },
    {
     "name": "stdout",
     "output_type": "stream",
     "text": [
      "Rank has changed from 9 to 8 at t = 0.186\n",
      "Rank has changed from 8 to 9 at t = 0.188\n",
      "Rank has changed from 9 to 8 at t = 0.189\n",
      "Rank has changed from 8 to 9 at t = 0.191\n",
      "Rank has changed from 9 to 8 at t = 0.192\n"
     ]
    },
    {
     "name": "stderr",
     "output_type": "stream",
     "text": [
      "Solving adaptive DLRA:  20%|██        | 200/1000 [00:05<00:21, 36.86it/s]"
     ]
    },
    {
     "name": "stdout",
     "output_type": "stream",
     "text": [
      "Rank has changed from 8 to 9 at t = 0.195\n",
      "Rank has changed from 9 to 8 at t = 0.196\n",
      "Rank has changed from 8 to 7 at t = 0.197\n",
      "Rank has changed from 7 to 8 at t = 0.198\n",
      "Rank has changed from 8 to 9 at t = 0.2\n",
      "Rank has changed from 9 to 8 at t = 0.201\n",
      "Rank has changed from 8 to 10 at t = 0.202\n"
     ]
    },
    {
     "name": "stderr",
     "output_type": "stream",
     "text": [
      "Solving adaptive DLRA:  21%|██        | 208/1000 [00:05<00:23, 33.52it/s]"
     ]
    },
    {
     "name": "stdout",
     "output_type": "stream",
     "text": [
      "Rank has changed from 10 to 9 at t = 0.203\n",
      "Rank has changed from 9 to 10 at t = 0.20700000000000002\n",
      "Rank has changed from 10 to 9 at t = 0.20800000000000002\n",
      "Rank has changed from 9 to 8 at t = 0.209\n"
     ]
    },
    {
     "name": "stderr",
     "output_type": "stream",
     "text": [
      "Solving adaptive DLRA:  21%|██        | 212/1000 [00:05<00:26, 30.27it/s]"
     ]
    },
    {
     "name": "stdout",
     "output_type": "stream",
     "text": [
      "Rank has changed from 8 to 9 at t = 0.21\n",
      "Rank has changed from 9 to 8 at t = 0.213\n",
      "Rank has changed from 8 to 9 at t = 0.214\n"
     ]
    },
    {
     "name": "stderr",
     "output_type": "stream",
     "text": [
      "Solving adaptive DLRA:  22%|██▏       | 220/1000 [00:06<00:26, 30.00it/s]"
     ]
    },
    {
     "name": "stdout",
     "output_type": "stream",
     "text": [
      "Rank has changed from 9 to 8 at t = 0.215\n",
      "Rank has changed from 8 to 10 at t = 0.216\n",
      "Rank has changed from 10 to 9 at t = 0.217\n",
      "Rank has changed from 9 to 8 at t = 0.218\n",
      "Rank has changed from 8 to 9 at t = 0.219\n"
     ]
    },
    {
     "name": "stderr",
     "output_type": "stream",
     "text": [
      "Solving adaptive DLRA:  23%|██▎       | 228/1000 [00:06<00:25, 30.22it/s]"
     ]
    },
    {
     "name": "stdout",
     "output_type": "stream",
     "text": [
      "Rank has changed from 9 to 8 at t = 0.223\n",
      "Rank has changed from 8 to 9 at t = 0.224\n",
      "Rank has changed from 9 to 10 at t = 0.225\n",
      "Rank has changed from 10 to 9 at t = 0.226\n",
      "Rank has changed from 9 to 8 at t = 0.227\n",
      "Rank has changed from 8 to 10 at t = 0.228\n"
     ]
    },
    {
     "name": "stderr",
     "output_type": "stream",
     "text": [
      "Solving adaptive DLRA:  24%|██▎       | 235/1000 [00:06<00:27, 27.97it/s]"
     ]
    },
    {
     "name": "stdout",
     "output_type": "stream",
     "text": [
      "Rank has changed from 10 to 11 at t = 0.23\n",
      "Rank has changed from 11 to 9 at t = 0.231\n",
      "Rank has changed from 9 to 10 at t = 0.232\n",
      "Rank has changed from 10 to 9 at t = 0.234\n",
      "Rank has changed from 9 to 10 at t = 0.23500000000000001\n"
     ]
    },
    {
     "name": "stderr",
     "output_type": "stream",
     "text": [
      "Solving adaptive DLRA:  24%|██▍       | 241/1000 [00:06<00:28, 26.40it/s]"
     ]
    },
    {
     "name": "stdout",
     "output_type": "stream",
     "text": [
      "Rank has changed from 10 to 11 at t = 0.23700000000000002\n",
      "Rank has changed from 11 to 10 at t = 0.23800000000000002\n",
      "Rank has changed from 10 to 11 at t = 0.24\n",
      "Rank has changed from 11 to 10 at t = 0.241\n"
     ]
    },
    {
     "name": "stderr",
     "output_type": "stream",
     "text": [
      "Solving adaptive DLRA:  25%|██▍       | 247/1000 [00:07<00:28, 26.06it/s]"
     ]
    },
    {
     "name": "stdout",
     "output_type": "stream",
     "text": [
      "Rank has changed from 10 to 11 at t = 0.243\n",
      "Rank has changed from 11 to 10 at t = 0.244\n",
      "Rank has changed from 10 to 11 at t = 0.245\n",
      "Rank has changed from 11 to 10 at t = 0.246\n",
      "Rank has changed from 10 to 11 at t = 0.247\n"
     ]
    },
    {
     "name": "stderr",
     "output_type": "stream",
     "text": [
      "Solving adaptive DLRA:  25%|██▌       | 253/1000 [00:07<00:29, 25.26it/s]"
     ]
    },
    {
     "name": "stdout",
     "output_type": "stream",
     "text": [
      "Rank has changed from 11 to 10 at t = 0.248\n",
      "Rank has changed from 10 to 11 at t = 0.249\n",
      "Rank has changed from 11 to 10 at t = 0.25\n",
      "Rank has changed from 10 to 9 at t = 0.252\n",
      "Rank has changed from 9 to 10 at t = 0.253\n"
     ]
    },
    {
     "name": "stderr",
     "output_type": "stream",
     "text": [
      "Solving adaptive DLRA:  26%|██▌       | 259/1000 [00:07<00:29, 25.14it/s]"
     ]
    },
    {
     "name": "stdout",
     "output_type": "stream",
     "text": [
      "Rank has changed from 10 to 11 at t = 0.256\n",
      "Rank has changed from 11 to 10 at t = 0.257\n",
      "Rank has changed from 10 to 11 at t = 0.259\n",
      "Rank has changed from 11 to 9 at t = 0.26\n",
      "Rank has changed from 9 to 10 at t = 0.261\n"
     ]
    },
    {
     "name": "stderr",
     "output_type": "stream",
     "text": [
      "Solving adaptive DLRA:  27%|██▋       | 268/1000 [00:08<00:28, 25.78it/s]"
     ]
    },
    {
     "name": "stdout",
     "output_type": "stream",
     "text": [
      "Rank has changed from 10 to 9 at t = 0.263\n",
      "Rank has changed from 9 to 10 at t = 0.264\n",
      "Rank has changed from 10 to 9 at t = 0.266\n",
      "Rank has changed from 9 to 10 at t = 0.267\n"
     ]
    },
    {
     "name": "stderr",
     "output_type": "stream",
     "text": [
      "Solving adaptive DLRA:  27%|██▋       | 274/1000 [00:08<00:28, 25.11it/s]"
     ]
    },
    {
     "name": "stdout",
     "output_type": "stream",
     "text": [
      "Rank has changed from 10 to 11 at t = 0.27\n",
      "Rank has changed from 11 to 12 at t = 0.271\n",
      "Rank has changed from 12 to 10 at t = 0.272\n",
      "Rank has changed from 10 to 8 at t = 0.273\n",
      "Rank has changed from 8 to 10 at t = 0.274\n"
     ]
    },
    {
     "name": "stderr",
     "output_type": "stream",
     "text": [
      "Solving adaptive DLRA:  28%|██▊       | 280/1000 [00:08<00:28, 25.35it/s]"
     ]
    },
    {
     "name": "stdout",
     "output_type": "stream",
     "text": [
      "Rank has changed from 10 to 9 at t = 0.276\n",
      "Rank has changed from 9 to 10 at t = 0.277\n",
      "Rank has changed from 10 to 11 at t = 0.278\n",
      "Rank has changed from 11 to 10 at t = 0.279\n"
     ]
    },
    {
     "name": "stderr",
     "output_type": "stream",
     "text": [
      "Solving adaptive DLRA:  29%|██▊       | 286/1000 [00:08<00:28, 25.07it/s]"
     ]
    },
    {
     "name": "stdout",
     "output_type": "stream",
     "text": [
      "Rank has changed from 10 to 9 at t = 0.28200000000000003\n",
      "Rank has changed from 9 to 10 at t = 0.28300000000000003\n",
      "Rank has changed from 10 to 11 at t = 0.28500000000000003\n",
      "Rank has changed from 11 to 10 at t = 0.28600000000000003\n",
      "Rank has changed from 10 to 9 at t = 0.28700000000000003\n"
     ]
    },
    {
     "name": "stderr",
     "output_type": "stream",
     "text": [
      "Solving adaptive DLRA:  29%|██▉       | 292/1000 [00:08<00:27, 25.38it/s]"
     ]
    },
    {
     "name": "stdout",
     "output_type": "stream",
     "text": [
      "Rank has changed from 9 to 11 at t = 0.28800000000000003\n",
      "Rank has changed from 11 to 10 at t = 0.29\n",
      "Rank has changed from 10 to 11 at t = 0.292\n",
      "Rank has changed from 11 to 10 at t = 0.293\n"
     ]
    },
    {
     "name": "stderr",
     "output_type": "stream",
     "text": [
      "Solving adaptive DLRA:  30%|██▉       | 298/1000 [00:09<00:28, 24.46it/s]"
     ]
    },
    {
     "name": "stdout",
     "output_type": "stream",
     "text": [
      "Rank has changed from 10 to 11 at t = 0.294\n",
      "Rank has changed from 11 to 9 at t = 0.296\n",
      "Rank has changed from 9 to 10 at t = 0.297\n",
      "Rank has changed from 10 to 11 at t = 0.298\n"
     ]
    },
    {
     "name": "stderr",
     "output_type": "stream",
     "text": [
      "Solving adaptive DLRA:  30%|███       | 304/1000 [00:09<00:27, 24.92it/s]"
     ]
    },
    {
     "name": "stdout",
     "output_type": "stream",
     "text": [
      "Rank has changed from 11 to 9 at t = 0.299\n",
      "Rank has changed from 9 to 10 at t = 0.3\n",
      "Rank has changed from 10 to 11 at t = 0.301\n",
      "Rank has changed from 11 to 10 at t = 0.303\n"
     ]
    },
    {
     "name": "stderr",
     "output_type": "stream",
     "text": [
      "Solving adaptive DLRA:  31%|███       | 310/1000 [00:09<00:27, 25.30it/s]"
     ]
    },
    {
     "name": "stdout",
     "output_type": "stream",
     "text": [
      "Rank has changed from 10 to 9 at t = 0.307\n",
      "Rank has changed from 9 to 10 at t = 0.308\n",
      "Rank has changed from 10 to 9 at t = 0.309\n",
      "Rank has changed from 9 to 10 at t = 0.31\n",
      "Rank has changed from 10 to 11 at t = 0.311\n",
      "Rank has changed from 11 to 10 at t = 0.312\n"
     ]
    },
    {
     "name": "stderr",
     "output_type": "stream",
     "text": [
      "Solving adaptive DLRA:  32%|███▏      | 316/1000 [00:09<00:26, 25.53it/s]"
     ]
    },
    {
     "name": "stdout",
     "output_type": "stream",
     "text": [
      "Rank has changed from 10 to 11 at t = 0.313\n",
      "Rank has changed from 11 to 9 at t = 0.314\n",
      "Rank has changed from 9 to 10 at t = 0.315\n",
      "Rank has changed from 10 to 9 at t = 0.318\n"
     ]
    },
    {
     "name": "stderr",
     "output_type": "stream",
     "text": [
      "Solving adaptive DLRA:  32%|███▏      | 322/1000 [00:10<00:26, 25.56it/s]"
     ]
    },
    {
     "name": "stdout",
     "output_type": "stream",
     "text": [
      "Rank has changed from 9 to 10 at t = 0.319\n",
      "Rank has changed from 10 to 9 at t = 0.322\n",
      "Rank has changed from 9 to 11 at t = 0.323\n",
      "Rank has changed from 11 to 10 at t = 0.324\n"
     ]
    },
    {
     "name": "stderr",
     "output_type": "stream",
     "text": [
      "Solving adaptive DLRA:  33%|███▎      | 328/1000 [00:10<00:26, 25.07it/s]"
     ]
    },
    {
     "name": "stdout",
     "output_type": "stream",
     "text": [
      "Rank has changed from 10 to 11 at t = 0.326\n",
      "Rank has changed from 11 to 9 at t = 0.328\n",
      "Rank has changed from 9 to 11 at t = 0.329\n"
     ]
    },
    {
     "name": "stderr",
     "output_type": "stream",
     "text": [
      "Solving adaptive DLRA:  33%|███▎      | 334/1000 [00:10<00:26, 25.29it/s]"
     ]
    },
    {
     "name": "stdout",
     "output_type": "stream",
     "text": [
      "Rank has changed from 11 to 10 at t = 0.331\n",
      "Rank has changed from 10 to 9 at t = 0.332\n",
      "Rank has changed from 9 to 11 at t = 0.333\n",
      "Rank has changed from 11 to 9 at t = 0.334\n",
      "Rank has changed from 9 to 10 at t = 0.335\n"
     ]
    },
    {
     "name": "stderr",
     "output_type": "stream",
     "text": [
      "Solving adaptive DLRA:  34%|███▍      | 343/1000 [00:10<00:25, 25.96it/s]"
     ]
    },
    {
     "name": "stdout",
     "output_type": "stream",
     "text": [
      "Rank has changed from 10 to 9 at t = 0.338\n",
      "Rank has changed from 9 to 10 at t = 0.339\n",
      "Rank has changed from 10 to 11 at t = 0.34\n",
      "Rank has changed from 11 to 10 at t = 0.341\n",
      "Rank has changed from 10 to 9 at t = 0.343\n"
     ]
    },
    {
     "name": "stderr",
     "output_type": "stream",
     "text": [
      "Solving adaptive DLRA:  35%|███▍      | 346/1000 [00:11<00:25, 25.55it/s]"
     ]
    },
    {
     "name": "stdout",
     "output_type": "stream",
     "text": [
      "Rank has changed from 9 to 10 at t = 0.34400000000000003\n",
      "Rank has changed from 10 to 11 at t = 0.34600000000000003\n",
      "Rank has changed from 11 to 10 at t = 0.34800000000000003\n"
     ]
    },
    {
     "name": "stderr",
     "output_type": "stream",
     "text": [
      "Solving adaptive DLRA:  36%|███▌      | 355/1000 [00:11<00:25, 25.51it/s]"
     ]
    },
    {
     "name": "stdout",
     "output_type": "stream",
     "text": [
      "Rank has changed from 10 to 11 at t = 0.35100000000000003\n",
      "Rank has changed from 11 to 10 at t = 0.352\n",
      "Rank has changed from 10 to 9 at t = 0.353\n",
      "Rank has changed from 9 to 10 at t = 0.355\n",
      "Rank has changed from 10 to 11 at t = 0.356\n"
     ]
    },
    {
     "name": "stderr",
     "output_type": "stream",
     "text": [
      "Solving adaptive DLRA:  36%|███▌      | 361/1000 [00:11<00:24, 25.65it/s]"
     ]
    },
    {
     "name": "stdout",
     "output_type": "stream",
     "text": [
      "Rank has changed from 11 to 9 at t = 0.357\n",
      "Rank has changed from 9 to 10 at t = 0.358\n",
      "Rank has changed from 10 to 8 at t = 0.359\n",
      "Rank has changed from 8 to 10 at t = 0.36\n",
      "Rank has changed from 10 to 9 at t = 0.361\n",
      "Rank has changed from 9 to 10 at t = 0.362\n"
     ]
    },
    {
     "name": "stderr",
     "output_type": "stream",
     "text": [
      "Solving adaptive DLRA:  37%|███▋      | 367/1000 [00:11<00:24, 25.58it/s]"
     ]
    },
    {
     "name": "stdout",
     "output_type": "stream",
     "text": [
      "Rank has changed from 10 to 11 at t = 0.363\n",
      "Rank has changed from 11 to 9 at t = 0.365\n",
      "Rank has changed from 9 to 10 at t = 0.366\n",
      "Rank has changed from 10 to 11 at t = 0.367\n",
      "Rank has changed from 11 to 10 at t = 0.368\n"
     ]
    },
    {
     "name": "stderr",
     "output_type": "stream",
     "text": [
      "Solving adaptive DLRA:  38%|███▊      | 379/1000 [00:12<00:23, 26.05it/s]"
     ]
    },
    {
     "name": "stdout",
     "output_type": "stream",
     "text": [
      "Rank has changed from 10 to 11 at t = 0.375\n",
      "Rank has changed from 11 to 9 at t = 0.377\n",
      "Rank has changed from 9 to 11 at t = 0.379\n",
      "Rank has changed from 11 to 10 at t = 0.38\n"
     ]
    },
    {
     "name": "stderr",
     "output_type": "stream",
     "text": [
      "Solving adaptive DLRA:  38%|███▊      | 385/1000 [00:12<00:23, 25.73it/s]"
     ]
    },
    {
     "name": "stdout",
     "output_type": "stream",
     "text": [
      "Rank has changed from 10 to 11 at t = 0.382\n",
      "Rank has changed from 11 to 10 at t = 0.383\n",
      "Rank has changed from 10 to 11 at t = 0.387\n"
     ]
    },
    {
     "name": "stderr",
     "output_type": "stream",
     "text": [
      "Solving adaptive DLRA:  39%|███▉      | 391/1000 [00:12<00:23, 25.66it/s]"
     ]
    },
    {
     "name": "stdout",
     "output_type": "stream",
     "text": [
      "Rank has changed from 11 to 10 at t = 0.388\n",
      "Rank has changed from 10 to 9 at t = 0.389\n",
      "Rank has changed from 9 to 10 at t = 0.39\n",
      "Rank has changed from 10 to 9 at t = 0.391\n",
      "Rank has changed from 9 to 10 at t = 0.392\n"
     ]
    },
    {
     "name": "stderr",
     "output_type": "stream",
     "text": [
      "Solving adaptive DLRA:  40%|████      | 400/1000 [00:13<00:23, 25.86it/s]"
     ]
    },
    {
     "name": "stdout",
     "output_type": "stream",
     "text": [
      "Rank has changed from 10 to 9 at t = 0.395\n",
      "Rank has changed from 9 to 10 at t = 0.397\n",
      "Rank has changed from 10 to 11 at t = 0.4\n"
     ]
    },
    {
     "name": "stderr",
     "output_type": "stream",
     "text": [
      "Solving adaptive DLRA:  41%|████      | 406/1000 [00:13<00:23, 24.95it/s]"
     ]
    },
    {
     "name": "stdout",
     "output_type": "stream",
     "text": [
      "Rank has changed from 11 to 10 at t = 0.401\n",
      "Rank has changed from 10 to 11 at t = 0.403\n",
      "Rank has changed from 11 to 10 at t = 0.405\n",
      "Rank has changed from 10 to 11 at t = 0.406\n"
     ]
    },
    {
     "name": "stderr",
     "output_type": "stream",
     "text": [
      "Solving adaptive DLRA:  42%|████▏     | 415/1000 [00:13<00:23, 25.10it/s]"
     ]
    },
    {
     "name": "stdout",
     "output_type": "stream",
     "text": [
      "Rank has changed from 11 to 10 at t = 0.41200000000000003\n",
      "Rank has changed from 10 to 11 at t = 0.41300000000000003\n",
      "Rank has changed from 11 to 10 at t = 0.41500000000000004\n",
      "Rank has changed from 10 to 11 at t = 0.41600000000000004\n",
      "Rank has changed from 11 to 10 at t = 0.417\n"
     ]
    },
    {
     "name": "stderr",
     "output_type": "stream",
     "text": [
      "Solving adaptive DLRA:  42%|████▏     | 424/1000 [00:14<00:22, 25.70it/s]"
     ]
    },
    {
     "name": "stdout",
     "output_type": "stream",
     "text": [
      "Rank has changed from 10 to 9 at t = 0.419\n",
      "Rank has changed from 9 to 10 at t = 0.42\n",
      "Rank has changed from 10 to 11 at t = 0.421\n",
      "Rank has changed from 11 to 12 at t = 0.423\n",
      "Rank has changed from 12 to 11 at t = 0.424\n"
     ]
    },
    {
     "name": "stderr",
     "output_type": "stream",
     "text": [
      "Solving adaptive DLRA:  43%|████▎     | 430/1000 [00:14<00:21, 26.39it/s]"
     ]
    },
    {
     "name": "stdout",
     "output_type": "stream",
     "text": [
      "Rank has changed from 11 to 10 at t = 0.425\n",
      "Rank has changed from 10 to 11 at t = 0.426\n",
      "Rank has changed from 11 to 10 at t = 0.428\n"
     ]
    },
    {
     "name": "stderr",
     "output_type": "stream",
     "text": [
      "Solving adaptive DLRA:  44%|████▎     | 436/1000 [00:14<00:21, 26.63it/s]"
     ]
    },
    {
     "name": "stdout",
     "output_type": "stream",
     "text": [
      "Rank has changed from 10 to 11 at t = 0.433\n",
      "Rank has changed from 11 to 10 at t = 0.434\n",
      "Rank has changed from 10 to 11 at t = 0.437\n"
     ]
    },
    {
     "name": "stderr",
     "output_type": "stream",
     "text": [
      "Solving adaptive DLRA:  44%|████▍     | 445/1000 [00:14<00:21, 25.95it/s]"
     ]
    },
    {
     "name": "stdout",
     "output_type": "stream",
     "text": [
      "Rank has changed from 11 to 10 at t = 0.44\n",
      "Rank has changed from 10 to 11 at t = 0.443\n",
      "Rank has changed from 11 to 10 at t = 0.445\n"
     ]
    },
    {
     "name": "stderr",
     "output_type": "stream",
     "text": [
      "Solving adaptive DLRA:  45%|████▌     | 451/1000 [00:15<00:21, 25.89it/s]"
     ]
    },
    {
     "name": "stdout",
     "output_type": "stream",
     "text": [
      "Rank has changed from 10 to 11 at t = 0.447\n",
      "Rank has changed from 11 to 10 at t = 0.449\n",
      "Rank has changed from 10 to 12 at t = 0.452\n"
     ]
    },
    {
     "name": "stderr",
     "output_type": "stream",
     "text": [
      "Solving adaptive DLRA:  46%|████▌     | 457/1000 [00:15<00:20, 26.11it/s]"
     ]
    },
    {
     "name": "stdout",
     "output_type": "stream",
     "text": [
      "Rank has changed from 12 to 11 at t = 0.453\n",
      "Rank has changed from 11 to 10 at t = 0.454\n"
     ]
    },
    {
     "name": "stderr",
     "output_type": "stream",
     "text": [
      "Solving adaptive DLRA:  47%|████▋     | 469/1000 [00:15<00:19, 27.02it/s]"
     ]
    },
    {
     "name": "stdout",
     "output_type": "stream",
     "text": [
      "Rank has changed from 10 to 11 at t = 0.465\n",
      "Rank has changed from 11 to 10 at t = 0.466\n",
      "Rank has changed from 10 to 11 at t = 0.468\n",
      "Rank has changed from 11 to 10 at t = 0.46900000000000003\n",
      "Rank has changed from 10 to 9 at t = 0.47000000000000003\n"
     ]
    },
    {
     "name": "stderr",
     "output_type": "stream",
     "text": [
      "Solving adaptive DLRA:  48%|████▊     | 475/1000 [00:16<00:19, 26.86it/s]"
     ]
    },
    {
     "name": "stdout",
     "output_type": "stream",
     "text": [
      "Rank has changed from 9 to 10 at t = 0.47100000000000003\n",
      "Rank has changed from 10 to 11 at t = 0.47200000000000003\n",
      "Rank has changed from 11 to 9 at t = 0.47300000000000003\n",
      "Rank has changed from 9 to 11 at t = 0.47400000000000003\n",
      "Rank has changed from 11 to 10 at t = 0.47500000000000003\n"
     ]
    },
    {
     "name": "stderr",
     "output_type": "stream",
     "text": [
      "Solving adaptive DLRA:  48%|████▊     | 484/1000 [00:16<00:18, 27.27it/s]"
     ]
    },
    {
     "name": "stdout",
     "output_type": "stream",
     "text": [
      "Rank has changed from 10 to 11 at t = 0.47900000000000004\n",
      "Rank has changed from 11 to 9 at t = 0.481\n",
      "Rank has changed from 9 to 10 at t = 0.482\n",
      "Rank has changed from 10 to 11 at t = 0.484\n"
     ]
    },
    {
     "name": "stderr",
     "output_type": "stream",
     "text": [
      "Solving adaptive DLRA:  49%|████▉     | 490/1000 [00:16<00:19, 26.65it/s]"
     ]
    },
    {
     "name": "stdout",
     "output_type": "stream",
     "text": [
      "Rank has changed from 11 to 10 at t = 0.485\n",
      "Rank has changed from 10 to 11 at t = 0.486\n",
      "Rank has changed from 11 to 9 at t = 0.488\n",
      "Rank has changed from 9 to 10 at t = 0.489\n",
      "Rank has changed from 10 to 9 at t = 0.49\n"
     ]
    },
    {
     "name": "stderr",
     "output_type": "stream",
     "text": [
      "Solving adaptive DLRA:  50%|████▉     | 496/1000 [00:16<00:18, 26.98it/s]"
     ]
    },
    {
     "name": "stdout",
     "output_type": "stream",
     "text": [
      "Rank has changed from 9 to 11 at t = 0.491\n",
      "Rank has changed from 11 to 10 at t = 0.492\n",
      "Rank has changed from 10 to 11 at t = 0.493\n",
      "Rank has changed from 11 to 10 at t = 0.494\n",
      "Rank has changed from 10 to 11 at t = 0.496\n"
     ]
    },
    {
     "name": "stderr",
     "output_type": "stream",
     "text": [
      "Solving adaptive DLRA:  50%|█████     | 502/1000 [00:17<00:18, 26.52it/s]"
     ]
    },
    {
     "name": "stdout",
     "output_type": "stream",
     "text": [
      "Rank has changed from 11 to 10 at t = 0.497\n",
      "Rank has changed from 10 to 11 at t = 0.498\n",
      "Rank has changed from 11 to 10 at t = 0.499\n",
      "Rank has changed from 10 to 11 at t = 0.5\n",
      "Rank has changed from 11 to 10 at t = 0.501\n"
     ]
    },
    {
     "name": "stderr",
     "output_type": "stream",
     "text": [
      "Solving adaptive DLRA:  51%|█████     | 508/1000 [00:17<00:18, 26.31it/s]"
     ]
    },
    {
     "name": "stdout",
     "output_type": "stream",
     "text": [
      "Rank has changed from 10 to 11 at t = 0.503\n",
      "Rank has changed from 11 to 10 at t = 0.504\n",
      "Rank has changed from 10 to 11 at t = 0.505\n",
      "Rank has changed from 11 to 10 at t = 0.506\n",
      "Rank has changed from 10 to 11 at t = 0.507\n",
      "Rank has changed from 11 to 10 at t = 0.508\n"
     ]
    },
    {
     "name": "stderr",
     "output_type": "stream",
     "text": [
      "Solving adaptive DLRA:  52%|█████▏    | 517/1000 [00:17<00:18, 25.98it/s]"
     ]
    },
    {
     "name": "stdout",
     "output_type": "stream",
     "text": [
      "Rank has changed from 10 to 12 at t = 0.514\n",
      "Rank has changed from 12 to 9 at t = 0.515\n",
      "Rank has changed from 9 to 11 at t = 0.516\n",
      "Rank has changed from 11 to 10 at t = 0.517\n",
      "Rank has changed from 10 to 9 at t = 0.518\n",
      "Rank has changed from 9 to 10 at t = 0.519\n"
     ]
    },
    {
     "name": "stderr",
     "output_type": "stream",
     "text": [
      "Solving adaptive DLRA:  52%|█████▏    | 523/1000 [00:17<00:18, 26.36it/s]"
     ]
    },
    {
     "name": "stdout",
     "output_type": "stream",
     "text": [
      "Rank has changed from 10 to 11 at t = 0.52\n",
      "Rank has changed from 11 to 10 at t = 0.521\n",
      "Rank has changed from 10 to 11 at t = 0.522\n",
      "Rank has changed from 11 to 10 at t = 0.523\n",
      "Rank has changed from 10 to 11 at t = 0.524\n"
     ]
    },
    {
     "name": "stderr",
     "output_type": "stream",
     "text": [
      "Solving adaptive DLRA:  53%|█████▎    | 532/1000 [00:18<00:17, 26.45it/s]"
     ]
    },
    {
     "name": "stdout",
     "output_type": "stream",
     "text": [
      "Rank has changed from 11 to 10 at t = 0.527\n",
      "Rank has changed from 10 to 9 at t = 0.528\n",
      "Rank has changed from 9 to 11 at t = 0.529\n",
      "Rank has changed from 11 to 10 at t = 0.53\n",
      "Rank has changed from 10 to 9 at t = 0.532\n"
     ]
    },
    {
     "name": "stderr",
     "output_type": "stream",
     "text": [
      "Solving adaptive DLRA:  54%|█████▍    | 538/1000 [00:18<00:17, 26.59it/s]"
     ]
    },
    {
     "name": "stdout",
     "output_type": "stream",
     "text": [
      "Rank has changed from 9 to 10 at t = 0.533\n",
      "Rank has changed from 10 to 11 at t = 0.536\n",
      "Rank has changed from 11 to 10 at t = 0.537\n"
     ]
    },
    {
     "name": "stderr",
     "output_type": "stream",
     "text": [
      "Solving adaptive DLRA:  54%|█████▍    | 544/1000 [00:18<00:16, 27.34it/s]"
     ]
    },
    {
     "name": "stdout",
     "output_type": "stream",
     "text": [
      "Rank has changed from 10 to 8 at t = 0.54\n",
      "Rank has changed from 8 to 10 at t = 0.541\n",
      "Rank has changed from 10 to 11 at t = 0.542\n",
      "Rank has changed from 11 to 9 at t = 0.543\n",
      "Rank has changed from 9 to 10 at t = 0.544\n"
     ]
    },
    {
     "name": "stderr",
     "output_type": "stream",
     "text": [
      "Solving adaptive DLRA:  55%|█████▌    | 553/1000 [00:18<00:16, 27.64it/s]"
     ]
    },
    {
     "name": "stdout",
     "output_type": "stream",
     "text": [
      "Rank has changed from 10 to 11 at t = 0.549\n",
      "Rank has changed from 11 to 10 at t = 0.55\n",
      "Rank has changed from 10 to 11 at t = 0.554\n"
     ]
    },
    {
     "name": "stderr",
     "output_type": "stream",
     "text": [
      "Solving adaptive DLRA:  56%|█████▌    | 559/1000 [00:19<00:15, 27.92it/s]"
     ]
    },
    {
     "name": "stdout",
     "output_type": "stream",
     "text": [
      "Rank has changed from 11 to 10 at t = 0.556\n",
      "Rank has changed from 10 to 9 at t = 0.558\n",
      "Rank has changed from 9 to 11 at t = 0.559\n",
      "Rank has changed from 11 to 10 at t = 0.56\n",
      "Rank has changed from 10 to 9 at t = 0.561\n"
     ]
    },
    {
     "name": "stderr",
     "output_type": "stream",
     "text": [
      "Solving adaptive DLRA:  57%|█████▋    | 568/1000 [00:19<00:15, 28.49it/s]"
     ]
    },
    {
     "name": "stdout",
     "output_type": "stream",
     "text": [
      "Rank has changed from 9 to 10 at t = 0.5640000000000001\n",
      "Rank has changed from 10 to 9 at t = 0.5650000000000001\n",
      "Rank has changed from 9 to 10 at t = 0.5670000000000001\n",
      "Rank has changed from 10 to 8 at t = 0.5680000000000001\n",
      "Rank has changed from 8 to 9 at t = 0.5690000000000001\n"
     ]
    },
    {
     "name": "stderr",
     "output_type": "stream",
     "text": [
      "Solving adaptive DLRA:  57%|█████▊    | 575/1000 [00:19<00:14, 29.00it/s]"
     ]
    },
    {
     "name": "stdout",
     "output_type": "stream",
     "text": [
      "Rank has changed from 9 to 10 at t = 0.5710000000000001\n",
      "Rank has changed from 10 to 9 at t = 0.5720000000000001\n",
      "Rank has changed from 9 to 10 at t = 0.5760000000000001\n",
      "Rank has changed from 10 to 9 at t = 0.577\n"
     ]
    },
    {
     "name": "stderr",
     "output_type": "stream",
     "text": [
      "Solving adaptive DLRA:  58%|█████▊    | 583/1000 [00:20<00:13, 29.85it/s]"
     ]
    },
    {
     "name": "stdout",
     "output_type": "stream",
     "text": [
      "Rank has changed from 9 to 10 at t = 0.578\n",
      "Rank has changed from 10 to 9 at t = 0.579\n",
      "Rank has changed from 9 to 10 at t = 0.581\n",
      "Rank has changed from 10 to 9 at t = 0.582\n",
      "Rank has changed from 9 to 10 at t = 0.584\n"
     ]
    },
    {
     "name": "stderr",
     "output_type": "stream",
     "text": [
      "Solving adaptive DLRA:  59%|█████▉    | 591/1000 [00:20<00:13, 30.15it/s]"
     ]
    },
    {
     "name": "stdout",
     "output_type": "stream",
     "text": [
      "Rank has changed from 10 to 9 at t = 0.585\n",
      "Rank has changed from 9 to 8 at t = 0.591\n"
     ]
    },
    {
     "name": "stderr",
     "output_type": "stream",
     "text": [
      "Solving adaptive DLRA:  60%|█████▉    | 595/1000 [00:20<00:13, 30.47it/s]"
     ]
    },
    {
     "name": "stdout",
     "output_type": "stream",
     "text": [
      "Rank has changed from 8 to 10 at t = 0.592\n",
      "Rank has changed from 10 to 9 at t = 0.593\n",
      "Rank has changed from 9 to 8 at t = 0.595\n",
      "Rank has changed from 8 to 9 at t = 0.596\n",
      "Rank has changed from 9 to 8 at t = 0.597\n"
     ]
    },
    {
     "name": "stderr",
     "output_type": "stream",
     "text": [
      "Solving adaptive DLRA:  60%|██████    | 603/1000 [00:20<00:12, 31.26it/s]"
     ]
    },
    {
     "name": "stdout",
     "output_type": "stream",
     "text": [
      "Rank has changed from 8 to 9 at t = 0.599\n",
      "Rank has changed from 9 to 10 at t = 0.602\n",
      "Rank has changed from 10 to 9 at t = 0.604\n"
     ]
    },
    {
     "name": "stderr",
     "output_type": "stream",
     "text": [
      "Solving adaptive DLRA:  61%|██████    | 610/1000 [00:20<00:13, 28.65it/s]"
     ]
    },
    {
     "name": "stdout",
     "output_type": "stream",
     "text": [
      "Rank has changed from 9 to 11 at t = 0.605\n",
      "Rank has changed from 11 to 10 at t = 0.606\n",
      "Rank has changed from 10 to 9 at t = 0.609\n",
      "Rank has changed from 9 to 10 at t = 0.61\n"
     ]
    },
    {
     "name": "stderr",
     "output_type": "stream",
     "text": [
      "Solving adaptive DLRA:  62%|██████▏   | 619/1000 [00:21<00:14, 27.01it/s]"
     ]
    },
    {
     "name": "stdout",
     "output_type": "stream",
     "text": [
      "Rank has changed from 10 to 9 at t = 0.616\n",
      "Rank has changed from 9 to 10 at t = 0.617\n",
      "Rank has changed from 10 to 9 at t = 0.618\n",
      "Rank has changed from 9 to 10 at t = 0.619\n",
      "Rank has changed from 10 to 11 at t = 0.62\n",
      "Rank has changed from 11 to 10 at t = 0.621\n"
     ]
    },
    {
     "name": "stderr",
     "output_type": "stream",
     "text": [
      "Solving adaptive DLRA:  62%|██████▎   | 625/1000 [00:21<00:14, 25.65it/s]"
     ]
    },
    {
     "name": "stdout",
     "output_type": "stream",
     "text": [
      "Rank has changed from 10 to 9 at t = 0.622\n",
      "Rank has changed from 9 to 10 at t = 0.623\n"
     ]
    },
    {
     "name": "stderr",
     "output_type": "stream",
     "text": [
      "Solving adaptive DLRA:  63%|██████▎   | 631/1000 [00:21<00:14, 25.09it/s]"
     ]
    },
    {
     "name": "stdout",
     "output_type": "stream",
     "text": [
      "Rank has changed from 10 to 11 at t = 0.627\n",
      "Rank has changed from 11 to 10 at t = 0.628\n",
      "Rank has changed from 10 to 11 at t = 0.629\n",
      "Rank has changed from 11 to 10 at t = 0.63\n",
      "Rank has changed from 10 to 11 at t = 0.631\n"
     ]
    },
    {
     "name": "stderr",
     "output_type": "stream",
     "text": [
      "Solving adaptive DLRA:  64%|██████▎   | 637/1000 [00:22<00:14, 24.94it/s]"
     ]
    },
    {
     "name": "stdout",
     "output_type": "stream",
     "text": [
      "Rank has changed from 11 to 10 at t = 0.632\n",
      "Rank has changed from 10 to 9 at t = 0.633\n",
      "Rank has changed from 9 to 11 at t = 0.634\n",
      "Rank has changed from 11 to 10 at t = 0.637\n"
     ]
    },
    {
     "name": "stderr",
     "output_type": "stream",
     "text": [
      "Solving adaptive DLRA:  64%|██████▍   | 643/1000 [00:22<00:14, 25.09it/s]"
     ]
    },
    {
     "name": "stdout",
     "output_type": "stream",
     "text": [
      "Rank has changed from 10 to 9 at t = 0.64\n",
      "Rank has changed from 9 to 10 at t = 0.641\n",
      "Rank has changed from 10 to 11 at t = 0.645\n"
     ]
    },
    {
     "name": "stderr",
     "output_type": "stream",
     "text": [
      "Solving adaptive DLRA:  65%|██████▍   | 649/1000 [00:22<00:14, 24.96it/s]"
     ]
    },
    {
     "name": "stdout",
     "output_type": "stream",
     "text": [
      "Rank has changed from 11 to 12 at t = 0.646\n",
      "Rank has changed from 12 to 10 at t = 0.647\n",
      "Rank has changed from 10 to 12 at t = 0.649\n",
      "Rank has changed from 12 to 10 at t = 0.65\n"
     ]
    },
    {
     "name": "stderr",
     "output_type": "stream",
     "text": [
      "Solving adaptive DLRA:  66%|██████▌   | 658/1000 [00:22<00:13, 25.47it/s]"
     ]
    },
    {
     "name": "stdout",
     "output_type": "stream",
     "text": [
      "Rank has changed from 10 to 9 at t = 0.653\n",
      "Rank has changed from 9 to 10 at t = 0.654\n",
      "Rank has changed from 10 to 9 at t = 0.656\n",
      "Rank has changed from 9 to 10 at t = 0.657\n"
     ]
    },
    {
     "name": "stderr",
     "output_type": "stream",
     "text": [
      "Solving adaptive DLRA:  66%|██████▋   | 664/1000 [00:23<00:13, 25.51it/s]"
     ]
    },
    {
     "name": "stdout",
     "output_type": "stream",
     "text": [
      "Rank has changed from 10 to 9 at t = 0.66\n",
      "Rank has changed from 9 to 10 at t = 0.661\n",
      "Rank has changed from 10 to 9 at t = 0.662\n",
      "Rank has changed from 9 to 10 at t = 0.663\n",
      "Rank has changed from 10 to 11 at t = 0.664\n",
      "Rank has changed from 11 to 10 at t = 0.665\n"
     ]
    },
    {
     "name": "stderr",
     "output_type": "stream",
     "text": [
      "Solving adaptive DLRA:  67%|██████▋   | 673/1000 [00:23<00:13, 24.93it/s]"
     ]
    },
    {
     "name": "stdout",
     "output_type": "stream",
     "text": [
      "Rank has changed from 10 to 11 at t = 0.668\n",
      "Rank has changed from 11 to 10 at t = 0.669\n",
      "Rank has changed from 10 to 11 at t = 0.671\n",
      "Rank has changed from 11 to 9 at t = 0.672\n"
     ]
    },
    {
     "name": "stderr",
     "output_type": "stream",
     "text": [
      "Solving adaptive DLRA:  68%|██████▊   | 676/1000 [00:23<00:12, 25.01it/s]"
     ]
    },
    {
     "name": "stdout",
     "output_type": "stream",
     "text": [
      "Rank has changed from 9 to 11 at t = 0.674\n",
      "Rank has changed from 11 to 9 at t = 0.675\n",
      "Rank has changed from 9 to 11 at t = 0.676\n"
     ]
    },
    {
     "name": "stderr",
     "output_type": "stream",
     "text": [
      "Solving adaptive DLRA:  68%|██████▊   | 682/1000 [00:23<00:12, 25.42it/s]"
     ]
    },
    {
     "name": "stdout",
     "output_type": "stream",
     "text": [
      "Rank has changed from 11 to 10 at t = 0.679\n"
     ]
    },
    {
     "name": "stderr",
     "output_type": "stream",
     "text": [
      "Solving adaptive DLRA:  69%|██████▉   | 691/1000 [00:24<00:11, 25.77it/s]"
     ]
    },
    {
     "name": "stdout",
     "output_type": "stream",
     "text": [
      "Rank has changed from 10 to 11 at t = 0.686\n",
      "Rank has changed from 11 to 10 at t = 0.687\n",
      "Rank has changed from 10 to 9 at t = 0.6890000000000001\n",
      "Rank has changed from 9 to 10 at t = 0.6910000000000001\n"
     ]
    },
    {
     "name": "stderr",
     "output_type": "stream",
     "text": [
      "Solving adaptive DLRA:  70%|██████▉   | 697/1000 [00:24<00:11, 25.45it/s]"
     ]
    },
    {
     "name": "stdout",
     "output_type": "stream",
     "text": [
      "Rank has changed from 10 to 9 at t = 0.6930000000000001\n",
      "Rank has changed from 9 to 10 at t = 0.6960000000000001\n"
     ]
    },
    {
     "name": "stderr",
     "output_type": "stream",
     "text": [
      "Solving adaptive DLRA:  71%|███████   | 706/1000 [00:24<00:11, 26.13it/s]"
     ]
    },
    {
     "name": "stdout",
     "output_type": "stream",
     "text": [
      "Rank has changed from 10 to 8 at t = 0.7010000000000001\n",
      "Rank has changed from 8 to 10 at t = 0.7020000000000001\n",
      "Rank has changed from 10 to 11 at t = 0.7030000000000001\n",
      "Rank has changed from 11 to 9 at t = 0.704\n",
      "Rank has changed from 9 to 10 at t = 0.705\n"
     ]
    },
    {
     "name": "stderr",
     "output_type": "stream",
     "text": [
      "Solving adaptive DLRA:  71%|███████   | 712/1000 [00:24<00:11, 26.08it/s]"
     ]
    },
    {
     "name": "stdout",
     "output_type": "stream",
     "text": [
      "Rank has changed from 10 to 9 at t = 0.709\n",
      "Rank has changed from 9 to 10 at t = 0.71\n",
      "Rank has changed from 10 to 11 at t = 0.712\n",
      "Rank has changed from 11 to 10 at t = 0.713\n"
     ]
    },
    {
     "name": "stderr",
     "output_type": "stream",
     "text": [
      "Solving adaptive DLRA:  72%|███████▏  | 718/1000 [00:25<00:11, 25.00it/s]"
     ]
    },
    {
     "name": "stdout",
     "output_type": "stream",
     "text": [
      "Rank has changed from 10 to 9 at t = 0.716\n",
      "Rank has changed from 9 to 10 at t = 0.717\n",
      "Rank has changed from 10 to 11 at t = 0.718\n",
      "Rank has changed from 11 to 10 at t = 0.719\n"
     ]
    },
    {
     "name": "stderr",
     "output_type": "stream",
     "text": [
      "Solving adaptive DLRA:  72%|███████▏  | 724/1000 [00:25<00:10, 25.34it/s]"
     ]
    },
    {
     "name": "stdout",
     "output_type": "stream",
     "text": [
      "Rank has changed from 10 to 11 at t = 0.721\n",
      "Rank has changed from 11 to 9 at t = 0.722\n",
      "Rank has changed from 9 to 10 at t = 0.723\n"
     ]
    },
    {
     "name": "stderr",
     "output_type": "stream",
     "text": [
      "Solving adaptive DLRA:  74%|███████▎  | 736/1000 [00:25<00:10, 25.78it/s]"
     ]
    },
    {
     "name": "stdout",
     "output_type": "stream",
     "text": [
      "Rank has changed from 10 to 9 at t = 0.731\n",
      "Rank has changed from 9 to 10 at t = 0.733\n",
      "Rank has changed from 10 to 11 at t = 0.736\n"
     ]
    },
    {
     "name": "stderr",
     "output_type": "stream",
     "text": [
      "Solving adaptive DLRA:  74%|███████▍  | 739/1000 [00:26<00:10, 25.21it/s]"
     ]
    },
    {
     "name": "stdout",
     "output_type": "stream",
     "text": [
      "Rank has changed from 11 to 10 at t = 0.737\n",
      "Rank has changed from 10 to 9 at t = 0.738\n",
      "Rank has changed from 9 to 11 at t = 0.739\n",
      "Rank has changed from 11 to 10 at t = 0.74\n"
     ]
    },
    {
     "name": "stderr",
     "output_type": "stream",
     "text": [
      "Solving adaptive DLRA:  75%|███████▍  | 748/1000 [00:26<00:09, 25.90it/s]"
     ]
    },
    {
     "name": "stdout",
     "output_type": "stream",
     "text": [
      "Rank has changed from 10 to 11 at t = 0.743\n",
      "Rank has changed from 11 to 9 at t = 0.744\n",
      "Rank has changed from 9 to 10 at t = 0.745\n",
      "Rank has changed from 10 to 9 at t = 0.746\n",
      "Rank has changed from 9 to 10 at t = 0.747\n"
     ]
    },
    {
     "name": "stderr",
     "output_type": "stream",
     "text": [
      "Solving adaptive DLRA:  75%|███████▌  | 754/1000 [00:26<00:09, 26.09it/s]"
     ]
    },
    {
     "name": "stdout",
     "output_type": "stream",
     "text": [
      "Rank has changed from 10 to 9 at t = 0.749\n",
      "Rank has changed from 9 to 10 at t = 0.75\n",
      "Rank has changed from 10 to 11 at t = 0.752\n",
      "Rank has changed from 11 to 10 at t = 0.753\n"
     ]
    },
    {
     "name": "stderr",
     "output_type": "stream",
     "text": [
      "Solving adaptive DLRA:  76%|███████▌  | 760/1000 [00:26<00:09, 25.48it/s]"
     ]
    },
    {
     "name": "stdout",
     "output_type": "stream",
     "text": [
      "Rank has changed from 10 to 11 at t = 0.755\n",
      "Rank has changed from 11 to 10 at t = 0.757\n"
     ]
    },
    {
     "name": "stderr",
     "output_type": "stream",
     "text": [
      "Solving adaptive DLRA:  77%|███████▋  | 766/1000 [00:27<00:09, 25.28it/s]"
     ]
    },
    {
     "name": "stdout",
     "output_type": "stream",
     "text": [
      "Rank has changed from 10 to 11 at t = 0.761\n",
      "Rank has changed from 11 to 10 at t = 0.763\n"
     ]
    },
    {
     "name": "stderr",
     "output_type": "stream",
     "text": [
      "Solving adaptive DLRA:  77%|███████▋  | 772/1000 [00:27<00:09, 25.08it/s]"
     ]
    },
    {
     "name": "stdout",
     "output_type": "stream",
     "text": [
      "Rank has changed from 10 to 9 at t = 0.769\n",
      "Rank has changed from 9 to 10 at t = 0.77\n",
      "Rank has changed from 10 to 9 at t = 0.772\n",
      "Rank has changed from 9 to 10 at t = 0.773\n",
      "Rank has changed from 10 to 11 at t = 0.774\n"
     ]
    },
    {
     "name": "stderr",
     "output_type": "stream",
     "text": [
      "Solving adaptive DLRA:  78%|███████▊  | 781/1000 [00:27<00:08, 25.76it/s]"
     ]
    },
    {
     "name": "stdout",
     "output_type": "stream",
     "text": [
      "Rank has changed from 11 to 10 at t = 0.776\n",
      "Rank has changed from 10 to 9 at t = 0.777\n",
      "Rank has changed from 9 to 10 at t = 0.778\n",
      "Rank has changed from 10 to 9 at t = 0.78\n"
     ]
    },
    {
     "name": "stderr",
     "output_type": "stream",
     "text": [
      "Solving adaptive DLRA:  79%|███████▊  | 787/1000 [00:27<00:07, 27.65it/s]"
     ]
    },
    {
     "name": "stdout",
     "output_type": "stream",
     "text": [
      "Rank has changed from 9 to 8 at t = 0.782\n",
      "Rank has changed from 8 to 9 at t = 0.783\n",
      "Rank has changed from 9 to 10 at t = 0.784\n",
      "Rank has changed from 10 to 9 at t = 0.786\n",
      "Rank has changed from 9 to 8 at t = 0.787\n"
     ]
    },
    {
     "name": "stderr",
     "output_type": "stream",
     "text": [
      "Solving adaptive DLRA:  80%|███████▉  | 795/1000 [00:28<00:06, 29.99it/s]"
     ]
    },
    {
     "name": "stdout",
     "output_type": "stream",
     "text": [
      "Rank has changed from 8 to 10 at t = 0.789\n",
      "Rank has changed from 10 to 9 at t = 0.79\n",
      "Rank has changed from 9 to 10 at t = 0.795\n"
     ]
    },
    {
     "name": "stderr",
     "output_type": "stream",
     "text": [
      "Solving adaptive DLRA:  80%|████████  | 802/1000 [00:28<00:06, 31.56it/s]"
     ]
    },
    {
     "name": "stdout",
     "output_type": "stream",
     "text": [
      "Rank has changed from 10 to 9 at t = 0.796\n",
      "Rank has changed from 9 to 8 at t = 0.797\n",
      "Rank has changed from 8 to 9 at t = 0.798\n",
      "Rank has changed from 9 to 8 at t = 0.799\n"
     ]
    },
    {
     "name": "stderr",
     "output_type": "stream",
     "text": [
      "Solving adaptive DLRA:  81%|████████  | 810/1000 [00:28<00:05, 34.62it/s]"
     ]
    },
    {
     "name": "stdout",
     "output_type": "stream",
     "text": [
      "Rank has changed from 8 to 9 at t = 0.803\n",
      "Rank has changed from 9 to 7 at t = 0.804\n",
      "Rank has changed from 7 to 9 at t = 0.805\n",
      "Rank has changed from 9 to 8 at t = 0.806\n",
      "Rank has changed from 8 to 7 at t = 0.808\n",
      "Rank has changed from 7 to 8 at t = 0.809\n"
     ]
    },
    {
     "name": "stderr",
     "output_type": "stream",
     "text": [
      "Solving adaptive DLRA:  82%|████████▏ | 818/1000 [00:28<00:05, 36.29it/s]"
     ]
    },
    {
     "name": "stdout",
     "output_type": "stream",
     "text": [
      "Rank has changed from 8 to 7 at t = 0.8130000000000001\n",
      "Rank has changed from 7 to 9 at t = 0.8140000000000001\n",
      "Rank has changed from 9 to 7 at t = 0.8150000000000001\n",
      "Rank has changed from 7 to 8 at t = 0.8160000000000001\n",
      "Rank has changed from 8 to 7 at t = 0.8180000000000001\n",
      "Rank has changed from 7 to 9 at t = 0.8190000000000001\n",
      "Rank has changed from 9 to 8 at t = 0.8200000000000001\n"
     ]
    },
    {
     "name": "stderr",
     "output_type": "stream",
     "text": [
      "Solving adaptive DLRA:  83%|████████▎ | 826/1000 [00:28<00:04, 35.20it/s]"
     ]
    },
    {
     "name": "stdout",
     "output_type": "stream",
     "text": [
      "Rank has changed from 8 to 9 at t = 0.8220000000000001\n",
      "Rank has changed from 9 to 8 at t = 0.8230000000000001\n",
      "Rank has changed from 8 to 9 at t = 0.8240000000000001\n",
      "Rank has changed from 9 to 8 at t = 0.8250000000000001\n",
      "Rank has changed from 8 to 7 at t = 0.8270000000000001\n",
      "Rank has changed from 7 to 8 at t = 0.8280000000000001\n",
      "Rank has changed from 8 to 9 at t = 0.8290000000000001\n"
     ]
    },
    {
     "name": "stderr",
     "output_type": "stream",
     "text": [
      "Solving adaptive DLRA:  83%|████████▎ | 834/1000 [00:29<00:04, 35.74it/s]"
     ]
    },
    {
     "name": "stdout",
     "output_type": "stream",
     "text": [
      "Rank has changed from 9 to 8 at t = 0.8300000000000001\n",
      "Rank has changed from 8 to 10 at t = 0.833\n",
      "Rank has changed from 10 to 8 at t = 0.834\n",
      "Rank has changed from 8 to 9 at t = 0.836\n",
      "Rank has changed from 9 to 7 at t = 0.837\n"
     ]
    },
    {
     "name": "stderr",
     "output_type": "stream",
     "text": [
      "Solving adaptive DLRA:  84%|████████▍ | 842/1000 [00:29<00:04, 36.50it/s]"
     ]
    },
    {
     "name": "stdout",
     "output_type": "stream",
     "text": [
      "Rank has changed from 7 to 8 at t = 0.838\n",
      "Rank has changed from 8 to 7 at t = 0.839\n",
      "Rank has changed from 7 to 8 at t = 0.84\n",
      "Rank has changed from 8 to 7 at t = 0.841\n",
      "Rank has changed from 7 to 8 at t = 0.842\n",
      "Rank has changed from 8 to 7 at t = 0.843\n",
      "Rank has changed from 7 to 9 at t = 0.844\n"
     ]
    },
    {
     "name": "stderr",
     "output_type": "stream",
     "text": [
      "Solving adaptive DLRA:  85%|████████▌ | 850/1000 [00:29<00:04, 36.68it/s]"
     ]
    },
    {
     "name": "stdout",
     "output_type": "stream",
     "text": [
      "Rank has changed from 9 to 8 at t = 0.846\n",
      "Rank has changed from 8 to 7 at t = 0.847\n",
      "Rank has changed from 7 to 8 at t = 0.848\n",
      "Rank has changed from 8 to 9 at t = 0.849\n",
      "Rank has changed from 9 to 8 at t = 0.85\n",
      "Rank has changed from 8 to 9 at t = 0.851\n",
      "Rank has changed from 9 to 8 at t = 0.853\n"
     ]
    },
    {
     "name": "stderr",
     "output_type": "stream",
     "text": [
      "Solving adaptive DLRA:  87%|████████▋ | 866/1000 [00:30<00:03, 37.78it/s]"
     ]
    },
    {
     "name": "stdout",
     "output_type": "stream",
     "text": [
      "Rank has changed from 8 to 9 at t = 0.861\n",
      "Rank has changed from 9 to 8 at t = 0.862\n",
      "Rank has changed from 8 to 7 at t = 0.863\n",
      "Rank has changed from 7 to 8 at t = 0.864\n",
      "Rank has changed from 8 to 9 at t = 0.866\n",
      "Rank has changed from 9 to 8 at t = 0.867\n",
      "Rank has changed from 8 to 7 at t = 0.868\n"
     ]
    },
    {
     "name": "stderr",
     "output_type": "stream",
     "text": [
      "Solving adaptive DLRA:  87%|████████▋ | 874/1000 [00:30<00:03, 36.71it/s]"
     ]
    },
    {
     "name": "stdout",
     "output_type": "stream",
     "text": [
      "Rank has changed from 7 to 9 at t = 0.869\n",
      "Rank has changed from 9 to 8 at t = 0.87\n",
      "Rank has changed from 8 to 9 at t = 0.871\n",
      "Rank has changed from 9 to 8 at t = 0.872\n",
      "Rank has changed from 8 to 10 at t = 0.874\n",
      "Rank has changed from 10 to 7 at t = 0.875\n",
      "Rank has changed from 7 to 8 at t = 0.876\n"
     ]
    },
    {
     "name": "stderr",
     "output_type": "stream",
     "text": [
      "Solving adaptive DLRA:  88%|████████▊ | 882/1000 [00:30<00:03, 35.46it/s]"
     ]
    },
    {
     "name": "stdout",
     "output_type": "stream",
     "text": [
      "Rank has changed from 8 to 7 at t = 0.877\n",
      "Rank has changed from 7 to 8 at t = 0.878\n",
      "Rank has changed from 8 to 9 at t = 0.881\n",
      "Rank has changed from 9 to 8 at t = 0.882\n"
     ]
    },
    {
     "name": "stderr",
     "output_type": "stream",
     "text": [
      "Solving adaptive DLRA:  89%|████████▉ | 890/1000 [00:30<00:03, 35.69it/s]"
     ]
    },
    {
     "name": "stdout",
     "output_type": "stream",
     "text": [
      "Rank has changed from 8 to 9 at t = 0.885\n",
      "Rank has changed from 9 to 8 at t = 0.889\n",
      "Rank has changed from 8 to 9 at t = 0.891\n"
     ]
    },
    {
     "name": "stderr",
     "output_type": "stream",
     "text": [
      "Solving adaptive DLRA:  90%|████████▉ | 898/1000 [00:30<00:02, 35.19it/s]"
     ]
    },
    {
     "name": "stdout",
     "output_type": "stream",
     "text": [
      "Rank has changed from 9 to 8 at t = 0.894\n",
      "Rank has changed from 8 to 9 at t = 0.895\n",
      "Rank has changed from 9 to 7 at t = 0.897\n",
      "Rank has changed from 7 to 9 at t = 0.898\n",
      "Rank has changed from 9 to 8 at t = 0.899\n",
      "Rank has changed from 8 to 9 at t = 0.9\n"
     ]
    },
    {
     "name": "stderr",
     "output_type": "stream",
     "text": [
      "Solving adaptive DLRA:  91%|█████████ | 906/1000 [00:31<00:02, 35.75it/s]"
     ]
    },
    {
     "name": "stdout",
     "output_type": "stream",
     "text": [
      "Rank has changed from 9 to 8 at t = 0.902\n",
      "Rank has changed from 8 to 9 at t = 0.905\n",
      "Rank has changed from 9 to 8 at t = 0.906\n"
     ]
    },
    {
     "name": "stderr",
     "output_type": "stream",
     "text": [
      "Solving adaptive DLRA:  92%|█████████▏| 915/1000 [00:31<00:02, 36.43it/s]"
     ]
    },
    {
     "name": "stdout",
     "output_type": "stream",
     "text": [
      "Rank has changed from 8 to 9 at t = 0.911\n",
      "Rank has changed from 9 to 7 at t = 0.913\n",
      "Rank has changed from 7 to 9 at t = 0.914\n",
      "Rank has changed from 9 to 8 at t = 0.915\n",
      "Rank has changed from 8 to 7 at t = 0.917\n",
      "Rank has changed from 7 to 8 at t = 0.918\n"
     ]
    },
    {
     "name": "stderr",
     "output_type": "stream",
     "text": [
      "Solving adaptive DLRA:  93%|█████████▎| 927/1000 [00:31<00:01, 36.82it/s]"
     ]
    },
    {
     "name": "stdout",
     "output_type": "stream",
     "text": [
      "Rank has changed from 8 to 9 at t = 0.92\n",
      "Rank has changed from 9 to 7 at t = 0.922\n",
      "Rank has changed from 7 to 8 at t = 0.923\n",
      "Rank has changed from 8 to 9 at t = 0.926\n",
      "Rank has changed from 9 to 8 at t = 0.927\n"
     ]
    },
    {
     "name": "stderr",
     "output_type": "stream",
     "text": [
      "Solving adaptive DLRA:  94%|█████████▎| 935/1000 [00:31<00:01, 37.13it/s]"
     ]
    },
    {
     "name": "stdout",
     "output_type": "stream",
     "text": [
      "Rank has changed from 8 to 9 at t = 0.929\n",
      "Rank has changed from 9 to 8 at t = 0.93\n",
      "Rank has changed from 8 to 7 at t = 0.932\n",
      "Rank has changed from 7 to 8 at t = 0.933\n"
     ]
    },
    {
     "name": "stderr",
     "output_type": "stream",
     "text": [
      "Solving adaptive DLRA:  94%|█████████▍| 943/1000 [00:32<00:01, 35.62it/s]"
     ]
    },
    {
     "name": "stdout",
     "output_type": "stream",
     "text": [
      "Rank has changed from 8 to 9 at t = 0.9380000000000001\n",
      "Rank has changed from 9 to 8 at t = 0.9390000000000001\n",
      "Rank has changed from 8 to 9 at t = 0.9410000000000001\n"
     ]
    },
    {
     "name": "stderr",
     "output_type": "stream",
     "text": [
      "Solving adaptive DLRA:  95%|█████████▌| 951/1000 [00:32<00:01, 36.91it/s]"
     ]
    },
    {
     "name": "stdout",
     "output_type": "stream",
     "text": [
      "Rank has changed from 9 to 8 at t = 0.9450000000000001\n",
      "Rank has changed from 8 to 7 at t = 0.9480000000000001\n",
      "Rank has changed from 7 to 8 at t = 0.9490000000000001\n",
      "Rank has changed from 8 to 7 at t = 0.9500000000000001\n",
      "Rank has changed from 7 to 8 at t = 0.9510000000000001\n",
      "Rank has changed from 8 to 7 at t = 0.9520000000000001\n"
     ]
    },
    {
     "name": "stderr",
     "output_type": "stream",
     "text": [
      "Solving adaptive DLRA:  96%|█████████▌| 959/1000 [00:32<00:01, 37.39it/s]"
     ]
    },
    {
     "name": "stdout",
     "output_type": "stream",
     "text": [
      "Rank has changed from 7 to 8 at t = 0.9530000000000001\n",
      "Rank has changed from 8 to 7 at t = 0.9550000000000001\n",
      "Rank has changed from 7 to 9 at t = 0.9560000000000001\n",
      "Rank has changed from 9 to 8 at t = 0.9570000000000001\n",
      "Rank has changed from 8 to 7 at t = 0.9590000000000001\n"
     ]
    },
    {
     "name": "stderr",
     "output_type": "stream",
     "text": [
      "Solving adaptive DLRA:  97%|█████████▋| 969/1000 [00:32<00:00, 40.20it/s]"
     ]
    },
    {
     "name": "stdout",
     "output_type": "stream",
     "text": [
      "Rank has changed from 7 to 8 at t = 0.961\n",
      "Rank has changed from 8 to 6 at t = 0.962\n",
      "Rank has changed from 6 to 7 at t = 0.964\n",
      "Rank has changed from 7 to 6 at t = 0.967\n",
      "Rank has changed from 6 to 7 at t = 0.968\n"
     ]
    },
    {
     "name": "stderr",
     "output_type": "stream",
     "text": [
      "Solving adaptive DLRA:  97%|█████████▋| 974/1000 [00:32<00:00, 41.47it/s]"
     ]
    },
    {
     "name": "stdout",
     "output_type": "stream",
     "text": [
      "Rank has changed from 7 to 6 at t = 0.97\n",
      "Rank has changed from 6 to 7 at t = 0.971\n",
      "Rank has changed from 7 to 6 at t = 0.973\n",
      "Rank has changed from 6 to 7 at t = 0.975\n",
      "Rank has changed from 7 to 6 at t = 0.976\n",
      "Rank has changed from 6 to 7 at t = 0.977\n"
     ]
    },
    {
     "name": "stderr",
     "output_type": "stream",
     "text": [
      "Solving adaptive DLRA:  98%|█████████▊| 984/1000 [00:33<00:00, 42.99it/s]"
     ]
    },
    {
     "name": "stdout",
     "output_type": "stream",
     "text": [
      "Rank has changed from 7 to 6 at t = 0.979\n",
      "Rank has changed from 6 to 5 at t = 0.98\n",
      "Rank has changed from 5 to 6 at t = 0.981\n",
      "Rank has changed from 6 to 7 at t = 0.983\n",
      "Rank has changed from 7 to 6 at t = 0.985\n",
      "Rank has changed from 6 to 5 at t = 0.987\n",
      "Rank has changed from 5 to 6 at t = 0.988\n"
     ]
    },
    {
     "name": "stderr",
     "output_type": "stream",
     "text": [
      "Solving adaptive DLRA: 100%|█████████▉| 999/1000 [00:33<00:00, 45.99it/s]"
     ]
    },
    {
     "name": "stdout",
     "output_type": "stream",
     "text": [
      "Rank has changed from 6 to 7 at t = 0.99\n",
      "Rank has changed from 7 to 6 at t = 0.991\n",
      "Rank has changed from 6 to 5 at t = 0.997\n",
      "Rank has changed from 5 to 6 at t = 0.998\n"
     ]
    },
    {
     "name": "stderr",
     "output_type": "stream",
     "text": [
      "Solving adaptive DLRA: 100%|██████████| 1000/1000 [00:33<00:00, 29.81it/s]\n"
     ]
    },
    {
     "name": "stdout",
     "output_type": "stream",
     "text": [
      "Rank has changed from 6 to 7 at t = 1.0\n",
      "----------------------------------------\n",
      "Adaptive PERK \n",
      "-- 1 substep(s) \n",
      "-- 2 stages \n",
      "-- Strict order conditions: True \n",
      "-- extended Krylov space and 1 iteration(s) \n",
      "-- Largest matrix shape: (8*rank, 8*rank) \n",
      "-- Relative tolerance = 1e-08 \n",
      "-- Absolute tolerance = None\n"
     ]
    },
    {
     "name": "stderr",
     "output_type": "stream",
     "text": [
      "Solving adaptive DLRA:   0%|          | 3/1000 [00:00<00:43, 23.06it/s]"
     ]
    },
    {
     "name": "stdout",
     "output_type": "stream",
     "text": [
      "Rank has changed from 11 to 10 at t = 0.001\n",
      "Rank has changed from 10 to 11 at t = 0.002\n",
      "Rank has changed from 11 to 12 at t = 0.004\n",
      "Rank has changed from 12 to 11 at t = 0.005\n"
     ]
    },
    {
     "name": "stderr",
     "output_type": "stream",
     "text": [
      "Solving adaptive DLRA:   1%|          | 9/1000 [00:00<00:43, 22.94it/s]"
     ]
    },
    {
     "name": "stdout",
     "output_type": "stream",
     "text": [
      "Rank has changed from 11 to 10 at t = 0.009000000000000001\n"
     ]
    },
    {
     "name": "stderr",
     "output_type": "stream",
     "text": [
      "Solving adaptive DLRA:   1%|          | 12/1000 [00:00<00:42, 23.52it/s]"
     ]
    },
    {
     "name": "stdout",
     "output_type": "stream",
     "text": [
      "Rank has changed from 10 to 11 at t = 0.01\n",
      "Rank has changed from 11 to 12 at t = 0.011\n",
      "Rank has changed from 12 to 11 at t = 0.012\n",
      "Rank has changed from 11 to 10 at t = 0.013000000000000001\n",
      "Rank has changed from 10 to 11 at t = 0.014\n"
     ]
    },
    {
     "name": "stderr",
     "output_type": "stream",
     "text": [
      "Solving adaptive DLRA:   2%|▏         | 18/1000 [00:00<00:41, 23.68it/s]"
     ]
    },
    {
     "name": "stdout",
     "output_type": "stream",
     "text": [
      "Rank has changed from 11 to 12 at t = 0.015\n",
      "Rank has changed from 12 to 10 at t = 0.017\n",
      "Rank has changed from 10 to 11 at t = 0.018000000000000002\n",
      "Rank has changed from 11 to 10 at t = 0.019\n"
     ]
    },
    {
     "name": "stderr",
     "output_type": "stream",
     "text": [
      "Solving adaptive DLRA:   2%|▏         | 24/1000 [00:00<00:38, 25.11it/s]"
     ]
    },
    {
     "name": "stdout",
     "output_type": "stream",
     "text": [
      "Rank has changed from 10 to 11 at t = 0.02\n",
      "Rank has changed from 11 to 9 at t = 0.021\n",
      "Rank has changed from 9 to 10 at t = 0.022\n",
      "Rank has changed from 10 to 9 at t = 0.024\n",
      "Rank has changed from 9 to 10 at t = 0.025\n"
     ]
    },
    {
     "name": "stderr",
     "output_type": "stream",
     "text": [
      "Solving adaptive DLRA:   3%|▎         | 30/1000 [00:01<00:37, 26.19it/s]"
     ]
    },
    {
     "name": "stdout",
     "output_type": "stream",
     "text": [
      "Rank has changed from 10 to 11 at t = 0.027\n",
      "Rank has changed from 11 to 10 at t = 0.028\n",
      "Rank has changed from 10 to 9 at t = 0.03\n",
      "Rank has changed from 9 to 10 at t = 0.032\n"
     ]
    },
    {
     "name": "stderr",
     "output_type": "stream",
     "text": [
      "Solving adaptive DLRA:   4%|▎         | 36/1000 [00:01<00:35, 27.37it/s]"
     ]
    },
    {
     "name": "stdout",
     "output_type": "stream",
     "text": [
      "Rank has changed from 10 to 9 at t = 0.033\n",
      "Rank has changed from 9 to 10 at t = 0.034\n",
      "Rank has changed from 10 to 11 at t = 0.036000000000000004\n",
      "Rank has changed from 11 to 9 at t = 0.037\n"
     ]
    },
    {
     "name": "stderr",
     "output_type": "stream",
     "text": [
      "Solving adaptive DLRA:   4%|▍         | 45/1000 [00:01<00:33, 28.55it/s]"
     ]
    },
    {
     "name": "stdout",
     "output_type": "stream",
     "text": [
      "Rank has changed from 9 to 10 at t = 0.04\n",
      "Rank has changed from 10 to 9 at t = 0.042\n",
      "Rank has changed from 9 to 10 at t = 0.043000000000000003\n",
      "Rank has changed from 10 to 9 at t = 0.044\n",
      "Rank has changed from 9 to 10 at t = 0.045\n"
     ]
    },
    {
     "name": "stderr",
     "output_type": "stream",
     "text": [
      "Solving adaptive DLRA:   5%|▌         | 53/1000 [00:01<00:31, 29.69it/s]"
     ]
    },
    {
     "name": "stdout",
     "output_type": "stream",
     "text": [
      "Rank has changed from 10 to 9 at t = 0.048\n",
      "Rank has changed from 9 to 10 at t = 0.049\n",
      "Rank has changed from 10 to 9 at t = 0.051000000000000004\n",
      "Rank has changed from 9 to 10 at t = 0.052000000000000005\n",
      "Rank has changed from 10 to 9 at t = 0.053\n"
     ]
    },
    {
     "name": "stderr",
     "output_type": "stream",
     "text": [
      "Solving adaptive DLRA:   6%|▌         | 60/1000 [00:02<00:31, 29.90it/s]"
     ]
    },
    {
     "name": "stdout",
     "output_type": "stream",
     "text": [
      "Rank has changed from 9 to 8 at t = 0.055\n",
      "Rank has changed from 8 to 10 at t = 0.056\n",
      "Rank has changed from 10 to 9 at t = 0.058\n"
     ]
    },
    {
     "name": "stderr",
     "output_type": "stream",
     "text": [
      "Solving adaptive DLRA:   6%|▋         | 64/1000 [00:02<00:30, 30.59it/s]"
     ]
    },
    {
     "name": "stdout",
     "output_type": "stream",
     "text": [
      "Rank has changed from 9 to 10 at t = 0.062\n",
      "Rank has changed from 10 to 9 at t = 0.063\n",
      "Rank has changed from 9 to 10 at t = 0.064\n",
      "Rank has changed from 10 to 9 at t = 0.066\n",
      "Rank has changed from 9 to 10 at t = 0.067\n"
     ]
    },
    {
     "name": "stderr",
     "output_type": "stream",
     "text": [
      "Solving adaptive DLRA:   7%|▋         | 72/1000 [00:02<00:30, 30.81it/s]"
     ]
    },
    {
     "name": "stdout",
     "output_type": "stream",
     "text": [
      "Rank has changed from 10 to 8 at t = 0.069\n",
      "Rank has changed from 8 to 9 at t = 0.07200000000000001\n",
      "Rank has changed from 9 to 10 at t = 0.073\n",
      "Rank has changed from 10 to 9 at t = 0.074\n",
      "Rank has changed from 9 to 10 at t = 0.075\n"
     ]
    },
    {
     "name": "stderr",
     "output_type": "stream",
     "text": [
      "Solving adaptive DLRA:   8%|▊         | 80/1000 [00:02<00:30, 30.48it/s]"
     ]
    },
    {
     "name": "stdout",
     "output_type": "stream",
     "text": [
      "Rank has changed from 10 to 9 at t = 0.076\n",
      "Rank has changed from 9 to 10 at t = 0.077\n",
      "Rank has changed from 10 to 8 at t = 0.078\n",
      "Rank has changed from 8 to 10 at t = 0.079\n",
      "Rank has changed from 10 to 9 at t = 0.081\n"
     ]
    },
    {
     "name": "stderr",
     "output_type": "stream",
     "text": [
      "Solving adaptive DLRA:   9%|▉         | 88/1000 [00:03<00:31, 29.13it/s]"
     ]
    },
    {
     "name": "stdout",
     "output_type": "stream",
     "text": [
      "Rank has changed from 9 to 10 at t = 0.083\n",
      "Rank has changed from 10 to 9 at t = 0.085\n",
      "Rank has changed from 9 to 10 at t = 0.08700000000000001\n",
      "Rank has changed from 10 to 9 at t = 0.088\n"
     ]
    },
    {
     "name": "stderr",
     "output_type": "stream",
     "text": [
      "Solving adaptive DLRA:  10%|▉         | 95/1000 [00:03<00:30, 29.54it/s]"
     ]
    },
    {
     "name": "stdout",
     "output_type": "stream",
     "text": [
      "Rank has changed from 9 to 10 at t = 0.09\n",
      "Rank has changed from 10 to 9 at t = 0.091\n",
      "Rank has changed from 9 to 10 at t = 0.092\n",
      "Rank has changed from 10 to 9 at t = 0.093\n",
      "Rank has changed from 9 to 10 at t = 0.094\n"
     ]
    },
    {
     "name": "stderr",
     "output_type": "stream",
     "text": [
      "Solving adaptive DLRA:  10%|█         | 102/1000 [00:03<00:29, 30.00it/s]"
     ]
    },
    {
     "name": "stdout",
     "output_type": "stream",
     "text": [
      "Rank has changed from 10 to 9 at t = 0.097\n",
      "Rank has changed from 9 to 10 at t = 0.1\n",
      "Rank has changed from 10 to 9 at t = 0.101\n",
      "Rank has changed from 9 to 11 at t = 0.10200000000000001\n",
      "Rank has changed from 11 to 10 at t = 0.10300000000000001\n"
     ]
    },
    {
     "name": "stderr",
     "output_type": "stream",
     "text": [
      "Solving adaptive DLRA:  11%|█         | 108/1000 [00:03<00:30, 29.52it/s]"
     ]
    },
    {
     "name": "stdout",
     "output_type": "stream",
     "text": [
      "Rank has changed from 10 to 9 at t = 0.10400000000000001\n",
      "Rank has changed from 9 to 10 at t = 0.105\n",
      "Rank has changed from 10 to 9 at t = 0.109\n"
     ]
    },
    {
     "name": "stderr",
     "output_type": "stream",
     "text": [
      "Solving adaptive DLRA:  12%|█▏        | 115/1000 [00:04<00:29, 29.83it/s]"
     ]
    },
    {
     "name": "stdout",
     "output_type": "stream",
     "text": [
      "Rank has changed from 9 to 10 at t = 0.11\n",
      "Rank has changed from 10 to 9 at t = 0.112\n",
      "Rank has changed from 9 to 10 at t = 0.113\n",
      "Rank has changed from 10 to 9 at t = 0.114\n",
      "Rank has changed from 9 to 10 at t = 0.115\n"
     ]
    },
    {
     "name": "stderr",
     "output_type": "stream",
     "text": [
      "Solving adaptive DLRA:  12%|█▏        | 121/1000 [00:04<00:30, 29.23it/s]"
     ]
    },
    {
     "name": "stdout",
     "output_type": "stream",
     "text": [
      "Rank has changed from 10 to 9 at t = 0.116\n",
      "Rank has changed from 9 to 11 at t = 0.11800000000000001\n",
      "Rank has changed from 11 to 9 at t = 0.11900000000000001\n",
      "Rank has changed from 9 to 10 at t = 0.12\n",
      "Rank has changed from 10 to 9 at t = 0.121\n"
     ]
    },
    {
     "name": "stderr",
     "output_type": "stream",
     "text": [
      "Solving adaptive DLRA:  13%|█▎        | 129/1000 [00:04<00:27, 31.82it/s]"
     ]
    },
    {
     "name": "stdout",
     "output_type": "stream",
     "text": [
      "Rank has changed from 9 to 8 at t = 0.123\n",
      "Rank has changed from 8 to 9 at t = 0.124\n",
      "Rank has changed from 9 to 8 at t = 0.126\n",
      "Rank has changed from 8 to 9 at t = 0.127\n",
      "Rank has changed from 9 to 8 at t = 0.128\n",
      "Rank has changed from 8 to 10 at t = 0.129\n"
     ]
    },
    {
     "name": "stderr",
     "output_type": "stream",
     "text": [
      "Solving adaptive DLRA:  13%|█▎        | 133/1000 [00:04<00:28, 30.45it/s]"
     ]
    },
    {
     "name": "stdout",
     "output_type": "stream",
     "text": [
      "Rank has changed from 10 to 11 at t = 0.13\n",
      "Rank has changed from 11 to 10 at t = 0.131\n",
      "Rank has changed from 10 to 9 at t = 0.132\n",
      "Rank has changed from 9 to 8 at t = 0.133\n",
      "Rank has changed from 8 to 9 at t = 0.134\n"
     ]
    },
    {
     "name": "stderr",
     "output_type": "stream",
     "text": [
      "Solving adaptive DLRA:  14%|█▍        | 141/1000 [00:04<00:27, 31.47it/s]"
     ]
    },
    {
     "name": "stdout",
     "output_type": "stream",
     "text": [
      "Rank has changed from 9 to 10 at t = 0.138\n",
      "Rank has changed from 10 to 9 at t = 0.139\n",
      "Rank has changed from 9 to 10 at t = 0.14200000000000002\n",
      "Rank has changed from 10 to 9 at t = 0.14300000000000002\n",
      "Rank has changed from 9 to 10 at t = 0.14400000000000002\n"
     ]
    },
    {
     "name": "stderr",
     "output_type": "stream",
     "text": [
      "Solving adaptive DLRA:  15%|█▌        | 153/1000 [00:05<00:26, 31.45it/s]"
     ]
    },
    {
     "name": "stdout",
     "output_type": "stream",
     "text": [
      "Rank has changed from 10 to 9 at t = 0.149\n",
      "Rank has changed from 9 to 10 at t = 0.154\n",
      "Rank has changed from 10 to 9 at t = 0.155\n"
     ]
    },
    {
     "name": "stderr",
     "output_type": "stream",
     "text": [
      "Solving adaptive DLRA:  16%|█▌        | 161/1000 [00:05<00:26, 31.86it/s]"
     ]
    },
    {
     "name": "stdout",
     "output_type": "stream",
     "text": [
      "Rank has changed from 9 to 8 at t = 0.156\n",
      "Rank has changed from 8 to 10 at t = 0.157\n",
      "Rank has changed from 10 to 9 at t = 0.159\n",
      "Rank has changed from 9 to 8 at t = 0.16\n",
      "Rank has changed from 8 to 9 at t = 0.161\n",
      "Rank has changed from 9 to 10 at t = 0.162\n"
     ]
    },
    {
     "name": "stderr",
     "output_type": "stream",
     "text": [
      "Solving adaptive DLRA:  17%|█▋        | 169/1000 [00:05<00:26, 31.76it/s]"
     ]
    },
    {
     "name": "stdout",
     "output_type": "stream",
     "text": [
      "Rank has changed from 10 to 9 at t = 0.163\n",
      "Rank has changed from 9 to 10 at t = 0.166\n",
      "Rank has changed from 10 to 9 at t = 0.167\n",
      "Rank has changed from 9 to 10 at t = 0.169\n"
     ]
    },
    {
     "name": "stderr",
     "output_type": "stream",
     "text": [
      "Solving adaptive DLRA:  17%|█▋        | 173/1000 [00:05<00:26, 31.26it/s]"
     ]
    },
    {
     "name": "stdout",
     "output_type": "stream",
     "text": [
      "Rank has changed from 10 to 8 at t = 0.171\n",
      "Rank has changed from 8 to 9 at t = 0.17200000000000001\n",
      "Rank has changed from 9 to 10 at t = 0.17300000000000001\n",
      "Rank has changed from 10 to 11 at t = 0.17500000000000002\n",
      "Rank has changed from 11 to 10 at t = 0.176\n",
      "Rank has changed from 10 to 9 at t = 0.177\n"
     ]
    },
    {
     "name": "stderr",
     "output_type": "stream",
     "text": [
      "Solving adaptive DLRA:  18%|█▊        | 185/1000 [00:06<00:26, 30.86it/s]"
     ]
    },
    {
     "name": "stdout",
     "output_type": "stream",
     "text": [
      "Rank has changed from 9 to 11 at t = 0.179\n",
      "Rank has changed from 11 to 9 at t = 0.18\n",
      "Rank has changed from 9 to 8 at t = 0.182\n",
      "Rank has changed from 8 to 10 at t = 0.183\n",
      "Rank has changed from 10 to 9 at t = 0.184\n"
     ]
    },
    {
     "name": "stderr",
     "output_type": "stream",
     "text": [
      "Solving adaptive DLRA:  19%|█▉        | 193/1000 [00:06<00:27, 29.87it/s]"
     ]
    },
    {
     "name": "stdout",
     "output_type": "stream",
     "text": [
      "Rank has changed from 9 to 10 at t = 0.188\n",
      "Rank has changed from 10 to 9 at t = 0.189\n",
      "Rank has changed from 9 to 10 at t = 0.19\n",
      "Rank has changed from 10 to 9 at t = 0.193\n"
     ]
    },
    {
     "name": "stderr",
     "output_type": "stream",
     "text": [
      "Solving adaptive DLRA:  20%|██        | 201/1000 [00:06<00:25, 30.97it/s]"
     ]
    },
    {
     "name": "stdout",
     "output_type": "stream",
     "text": [
      "Rank has changed from 9 to 8 at t = 0.199\n",
      "Rank has changed from 8 to 10 at t = 0.2\n",
      "Rank has changed from 10 to 18 at t = 0.201\n",
      "Rank has changed from 18 to 20 at t = 0.202\n"
     ]
    },
    {
     "name": "stderr",
     "output_type": "stream",
     "text": [
      "Solving adaptive DLRA:  20%|██        | 205/1000 [00:07<00:37, 21.26it/s]"
     ]
    },
    {
     "name": "stdout",
     "output_type": "stream",
     "text": [
      "Rank has changed from 20 to 21 at t = 0.20400000000000001\n",
      "Rank has changed from 21 to 22 at t = 0.20500000000000002\n"
     ]
    },
    {
     "name": "stderr",
     "output_type": "stream",
     "text": [
      "Solving adaptive DLRA:  21%|██        | 208/1000 [00:07<00:44, 17.79it/s]"
     ]
    },
    {
     "name": "stdout",
     "output_type": "stream",
     "text": [
      "Rank has changed from 22 to 21 at t = 0.20700000000000002\n",
      "Rank has changed from 21 to 20 at t = 0.20800000000000002\n",
      "Rank has changed from 20 to 21 at t = 0.209\n"
     ]
    },
    {
     "name": "stderr",
     "output_type": "stream",
     "text": [
      "Solving adaptive DLRA:  21%|██        | 211/1000 [00:07<00:49, 15.81it/s]"
     ]
    },
    {
     "name": "stdout",
     "output_type": "stream",
     "text": [
      "Rank has changed from 21 to 20 at t = 0.21\n",
      "Rank has changed from 20 to 21 at t = 0.212\n"
     ]
    },
    {
     "name": "stderr",
     "output_type": "stream",
     "text": [
      "Solving adaptive DLRA:  22%|██▏       | 217/1000 [00:08<00:57, 13.65it/s]"
     ]
    },
    {
     "name": "stdout",
     "output_type": "stream",
     "text": [
      "Rank has changed from 21 to 20 at t = 0.215\n",
      "Rank has changed from 20 to 21 at t = 0.217\n"
     ]
    },
    {
     "name": "stderr",
     "output_type": "stream",
     "text": [
      "Solving adaptive DLRA:  22%|██▏       | 219/1000 [00:08<00:59, 13.16it/s]"
     ]
    },
    {
     "name": "stdout",
     "output_type": "stream",
     "text": [
      "Rank has changed from 21 to 20 at t = 0.218\n"
     ]
    },
    {
     "name": "stderr",
     "output_type": "stream",
     "text": [
      "Solving adaptive DLRA:  22%|██▎       | 225/1000 [00:08<01:02, 12.42it/s]"
     ]
    },
    {
     "name": "stdout",
     "output_type": "stream",
     "text": [
      "Rank has changed from 20 to 21 at t = 0.223\n"
     ]
    },
    {
     "name": "stderr",
     "output_type": "stream",
     "text": [
      "Solving adaptive DLRA:  23%|██▎       | 227/1000 [00:08<01:02, 12.28it/s]"
     ]
    },
    {
     "name": "stdout",
     "output_type": "stream",
     "text": [
      "Rank has changed from 21 to 22 at t = 0.226\n",
      "Rank has changed from 22 to 21 at t = 0.227\n"
     ]
    },
    {
     "name": "stderr",
     "output_type": "stream",
     "text": [
      "Solving adaptive DLRA:  23%|██▎       | 231/1000 [00:09<01:03, 12.02it/s]"
     ]
    },
    {
     "name": "stdout",
     "output_type": "stream",
     "text": [
      "Rank has changed from 21 to 22 at t = 0.229\n",
      "Rank has changed from 22 to 21 at t = 0.23\n"
     ]
    },
    {
     "name": "stderr",
     "output_type": "stream",
     "text": [
      "Solving adaptive DLRA:  24%|██▎       | 235/1000 [00:09<01:03, 11.99it/s]"
     ]
    },
    {
     "name": "stdout",
     "output_type": "stream",
     "text": [
      "Rank has changed from 21 to 22 at t = 0.233\n",
      "Rank has changed from 22 to 21 at t = 0.234\n"
     ]
    },
    {
     "name": "stderr",
     "output_type": "stream",
     "text": [
      "Solving adaptive DLRA:  24%|██▎       | 237/1000 [00:09<01:03, 12.01it/s]"
     ]
    },
    {
     "name": "stdout",
     "output_type": "stream",
     "text": [
      "Rank has changed from 21 to 22 at t = 0.23600000000000002\n"
     ]
    },
    {
     "name": "stderr",
     "output_type": "stream",
     "text": [
      "Solving adaptive DLRA:  24%|██▍       | 241/1000 [00:10<01:03, 11.97it/s]"
     ]
    },
    {
     "name": "stdout",
     "output_type": "stream",
     "text": [
      "Rank has changed from 22 to 23 at t = 0.23900000000000002\n",
      "Rank has changed from 23 to 22 at t = 0.24\n"
     ]
    },
    {
     "name": "stderr",
     "output_type": "stream",
     "text": [
      "Solving adaptive DLRA:  24%|██▍       | 243/1000 [00:10<01:04, 11.69it/s]"
     ]
    },
    {
     "name": "stdout",
     "output_type": "stream",
     "text": [
      "Rank has changed from 22 to 24 at t = 0.242\n",
      "Rank has changed from 24 to 23 at t = 0.243\n",
      "Rank has changed from 23 to 22 at t = 0.244\n"
     ]
    },
    {
     "name": "stderr",
     "output_type": "stream",
     "text": [
      "Solving adaptive DLRA:  25%|██▍       | 247/1000 [00:10<01:04, 11.69it/s]"
     ]
    },
    {
     "name": "stdout",
     "output_type": "stream",
     "text": [
      "Rank has changed from 22 to 23 at t = 0.245\n",
      "Rank has changed from 23 to 22 at t = 0.246\n"
     ]
    },
    {
     "name": "stderr",
     "output_type": "stream",
     "text": [
      "Solving adaptive DLRA:  25%|██▌       | 251/1000 [00:11<01:04, 11.70it/s]"
     ]
    },
    {
     "name": "stdout",
     "output_type": "stream",
     "text": [
      "Rank has changed from 22 to 23 at t = 0.25\n",
      "Rank has changed from 23 to 22 at t = 0.251\n",
      "Rank has changed from 22 to 23 at t = 0.252\n"
     ]
    },
    {
     "name": "stderr",
     "output_type": "stream",
     "text": [
      "Solving adaptive DLRA:  26%|██▌       | 255/1000 [00:11<01:03, 11.69it/s]"
     ]
    },
    {
     "name": "stdout",
     "output_type": "stream",
     "text": [
      "Rank has changed from 23 to 22 at t = 0.253\n",
      "Rank has changed from 22 to 23 at t = 0.254\n"
     ]
    },
    {
     "name": "stderr",
     "output_type": "stream",
     "text": [
      "Solving adaptive DLRA:  26%|██▌       | 257/1000 [00:11<01:03, 11.72it/s]"
     ]
    },
    {
     "name": "stdout",
     "output_type": "stream",
     "text": [
      "Rank has changed from 23 to 22 at t = 0.256\n"
     ]
    },
    {
     "name": "stderr",
     "output_type": "stream",
     "text": [
      "Solving adaptive DLRA:  26%|██▋       | 263/1000 [00:12<01:02, 11.87it/s]"
     ]
    },
    {
     "name": "stdout",
     "output_type": "stream",
     "text": [
      "Rank has changed from 22 to 23 at t = 0.262\n",
      "Rank has changed from 23 to 24 at t = 0.264\n"
     ]
    },
    {
     "name": "stderr",
     "output_type": "stream",
     "text": [
      "Solving adaptive DLRA:  27%|██▋       | 267/1000 [00:12<01:02, 11.67it/s]"
     ]
    },
    {
     "name": "stdout",
     "output_type": "stream",
     "text": [
      "Rank has changed from 24 to 22 at t = 0.265\n"
     ]
    },
    {
     "name": "stderr",
     "output_type": "stream",
     "text": [
      "Solving adaptive DLRA:  27%|██▋       | 269/1000 [00:12<01:03, 11.56it/s]"
     ]
    },
    {
     "name": "stdout",
     "output_type": "stream",
     "text": [
      "Rank has changed from 22 to 23 at t = 0.268\n",
      "Rank has changed from 23 to 22 at t = 0.269\n"
     ]
    },
    {
     "name": "stderr",
     "output_type": "stream",
     "text": [
      "Solving adaptive DLRA:  28%|██▊       | 279/1000 [00:13<01:00, 11.98it/s]"
     ]
    },
    {
     "name": "stdout",
     "output_type": "stream",
     "text": [
      "Rank has changed from 22 to 23 at t = 0.278\n",
      "Rank has changed from 23 to 21 at t = 0.279\n"
     ]
    },
    {
     "name": "stderr",
     "output_type": "stream",
     "text": [
      "Solving adaptive DLRA:  28%|██▊       | 285/1000 [00:13<00:59, 11.94it/s]"
     ]
    },
    {
     "name": "stdout",
     "output_type": "stream",
     "text": [
      "Rank has changed from 21 to 23 at t = 0.28300000000000003\n",
      "Rank has changed from 23 to 22 at t = 0.28400000000000003\n"
     ]
    },
    {
     "name": "stderr",
     "output_type": "stream",
     "text": [
      "Solving adaptive DLRA:  29%|██▊       | 287/1000 [00:14<00:59, 11.89it/s]"
     ]
    },
    {
     "name": "stdout",
     "output_type": "stream",
     "text": [
      "Rank has changed from 22 to 23 at t = 0.28600000000000003\n",
      "Rank has changed from 23 to 22 at t = 0.28700000000000003\n"
     ]
    },
    {
     "name": "stderr",
     "output_type": "stream",
     "text": [
      "Solving adaptive DLRA:  29%|██▉       | 291/1000 [00:14<01:00, 11.75it/s]"
     ]
    },
    {
     "name": "stdout",
     "output_type": "stream",
     "text": [
      "Rank has changed from 22 to 23 at t = 0.289\n",
      "Rank has changed from 23 to 22 at t = 0.291\n"
     ]
    },
    {
     "name": "stderr",
     "output_type": "stream",
     "text": [
      "Solving adaptive DLRA:  30%|██▉       | 295/1000 [00:14<01:00, 11.75it/s]"
     ]
    },
    {
     "name": "stdout",
     "output_type": "stream",
     "text": [
      "Rank has changed from 22 to 23 at t = 0.293\n",
      "Rank has changed from 23 to 22 at t = 0.294\n",
      "Rank has changed from 22 to 21 at t = 0.295\n"
     ]
    },
    {
     "name": "stderr",
     "output_type": "stream",
     "text": [
      "Solving adaptive DLRA:  30%|██▉       | 297/1000 [00:14<00:59, 11.83it/s]"
     ]
    },
    {
     "name": "stdout",
     "output_type": "stream",
     "text": [
      "Rank has changed from 21 to 22 at t = 0.296\n",
      "Rank has changed from 22 to 21 at t = 0.297\n"
     ]
    },
    {
     "name": "stderr",
     "output_type": "stream",
     "text": [
      "Solving adaptive DLRA:  30%|███       | 301/1000 [00:15<00:59, 11.77it/s]"
     ]
    },
    {
     "name": "stdout",
     "output_type": "stream",
     "text": [
      "Rank has changed from 21 to 22 at t = 0.299\n"
     ]
    },
    {
     "name": "stderr",
     "output_type": "stream",
     "text": [
      "Solving adaptive DLRA:  30%|███       | 303/1000 [00:15<00:59, 11.70it/s]"
     ]
    },
    {
     "name": "stdout",
     "output_type": "stream",
     "text": [
      "Rank has changed from 22 to 21 at t = 0.302\n"
     ]
    },
    {
     "name": "stderr",
     "output_type": "stream",
     "text": [
      "Solving adaptive DLRA:  31%|███       | 307/1000 [00:15<00:59, 11.70it/s]"
     ]
    },
    {
     "name": "stdout",
     "output_type": "stream",
     "text": [
      "Rank has changed from 21 to 22 at t = 0.305\n",
      "Rank has changed from 22 to 23 at t = 0.307\n"
     ]
    },
    {
     "name": "stderr",
     "output_type": "stream",
     "text": [
      "Solving adaptive DLRA:  31%|███       | 309/1000 [00:15<00:59, 11.71it/s]"
     ]
    },
    {
     "name": "stdout",
     "output_type": "stream",
     "text": [
      "Rank has changed from 23 to 22 at t = 0.308\n",
      "Rank has changed from 22 to 23 at t = 0.309\n",
      "Rank has changed from 23 to 22 at t = 0.31\n"
     ]
    },
    {
     "name": "stderr",
     "output_type": "stream",
     "text": [
      "Solving adaptive DLRA:  31%|███▏      | 313/1000 [00:16<00:58, 11.73it/s]"
     ]
    },
    {
     "name": "stdout",
     "output_type": "stream",
     "text": [
      "Rank has changed from 22 to 23 at t = 0.312\n",
      "Rank has changed from 23 to 22 at t = 0.314\n"
     ]
    },
    {
     "name": "stderr",
     "output_type": "stream",
     "text": [
      "Solving adaptive DLRA:  32%|███▏      | 319/1000 [00:16<00:58, 11.70it/s]"
     ]
    },
    {
     "name": "stdout",
     "output_type": "stream",
     "text": [
      "Rank has changed from 22 to 23 at t = 0.318\n",
      "Rank has changed from 23 to 22 at t = 0.319\n"
     ]
    },
    {
     "name": "stderr",
     "output_type": "stream",
     "text": [
      "Solving adaptive DLRA:  32%|███▏      | 323/1000 [00:17<00:57, 11.72it/s]"
     ]
    },
    {
     "name": "stdout",
     "output_type": "stream",
     "text": [
      "Rank has changed from 22 to 23 at t = 0.321\n",
      "Rank has changed from 23 to 22 at t = 0.322\n",
      "Rank has changed from 22 to 23 at t = 0.323\n"
     ]
    },
    {
     "name": "stderr",
     "output_type": "stream",
     "text": [
      "Solving adaptive DLRA:  32%|███▎      | 325/1000 [00:17<00:58, 11.64it/s]"
     ]
    },
    {
     "name": "stdout",
     "output_type": "stream",
     "text": [
      "Rank has changed from 23 to 22 at t = 0.324\n"
     ]
    },
    {
     "name": "stderr",
     "output_type": "stream",
     "text": [
      "Solving adaptive DLRA:  33%|███▎      | 329/1000 [00:17<00:57, 11.66it/s]"
     ]
    },
    {
     "name": "stdout",
     "output_type": "stream",
     "text": [
      "Rank has changed from 22 to 23 at t = 0.328\n",
      "Rank has changed from 23 to 22 at t = 0.329\n",
      "Rank has changed from 22 to 21 at t = 0.33\n"
     ]
    },
    {
     "name": "stderr",
     "output_type": "stream",
     "text": [
      "Solving adaptive DLRA:  33%|███▎      | 333/1000 [00:18<00:56, 11.71it/s]"
     ]
    },
    {
     "name": "stdout",
     "output_type": "stream",
     "text": [
      "Rank has changed from 21 to 22 at t = 0.331\n"
     ]
    },
    {
     "name": "stderr",
     "output_type": "stream",
     "text": [
      "Solving adaptive DLRA:  34%|███▎      | 335/1000 [00:18<00:56, 11.68it/s]"
     ]
    },
    {
     "name": "stdout",
     "output_type": "stream",
     "text": [
      "Rank has changed from 22 to 23 at t = 0.334\n",
      "Rank has changed from 23 to 22 at t = 0.335\n"
     ]
    },
    {
     "name": "stderr",
     "output_type": "stream",
     "text": [
      "Solving adaptive DLRA:  34%|███▍      | 339/1000 [00:18<00:57, 11.47it/s]"
     ]
    },
    {
     "name": "stdout",
     "output_type": "stream",
     "text": [
      "Rank has changed from 22 to 24 at t = 0.337\n",
      "Rank has changed from 24 to 22 at t = 0.338\n"
     ]
    },
    {
     "name": "stderr",
     "output_type": "stream",
     "text": [
      "Solving adaptive DLRA:  34%|███▍      | 341/1000 [00:18<00:57, 11.53it/s]"
     ]
    },
    {
     "name": "stdout",
     "output_type": "stream",
     "text": [
      "Rank has changed from 22 to 23 at t = 0.34\n",
      "Rank has changed from 23 to 22 at t = 0.341\n",
      "Rank has changed from 22 to 23 at t = 0.342\n"
     ]
    },
    {
     "name": "stderr",
     "output_type": "stream",
     "text": [
      "Solving adaptive DLRA:  34%|███▍      | 345/1000 [00:19<00:56, 11.54it/s]"
     ]
    },
    {
     "name": "stdout",
     "output_type": "stream",
     "text": [
      "Rank has changed from 23 to 22 at t = 0.34400000000000003\n"
     ]
    },
    {
     "name": "stderr",
     "output_type": "stream",
     "text": [
      "Solving adaptive DLRA:  35%|███▍      | 349/1000 [00:19<00:55, 11.65it/s]"
     ]
    },
    {
     "name": "stdout",
     "output_type": "stream",
     "text": [
      "Rank has changed from 22 to 23 at t = 0.34800000000000003\n",
      "Rank has changed from 23 to 22 at t = 0.34900000000000003\n"
     ]
    },
    {
     "name": "stderr",
     "output_type": "stream",
     "text": [
      "Solving adaptive DLRA:  35%|███▌      | 353/1000 [00:19<00:55, 11.68it/s]"
     ]
    },
    {
     "name": "stdout",
     "output_type": "stream",
     "text": [
      "Rank has changed from 22 to 24 at t = 0.35100000000000003\n",
      "Rank has changed from 24 to 22 at t = 0.352\n"
     ]
    },
    {
     "name": "stderr",
     "output_type": "stream",
     "text": [
      "Solving adaptive DLRA:  36%|███▌      | 355/1000 [00:19<00:55, 11.66it/s]"
     ]
    },
    {
     "name": "stdout",
     "output_type": "stream",
     "text": [
      "Rank has changed from 22 to 23 at t = 0.354\n",
      "Rank has changed from 23 to 22 at t = 0.355\n"
     ]
    },
    {
     "name": "stderr",
     "output_type": "stream",
     "text": [
      "Solving adaptive DLRA:  36%|███▌      | 359/1000 [00:20<00:54, 11.75it/s]"
     ]
    },
    {
     "name": "stdout",
     "output_type": "stream",
     "text": [
      "Rank has changed from 22 to 23 at t = 0.357\n",
      "Rank has changed from 23 to 22 at t = 0.358\n",
      "Rank has changed from 22 to 21 at t = 0.359\n"
     ]
    },
    {
     "name": "stderr",
     "output_type": "stream",
     "text": [
      "Solving adaptive DLRA:  36%|███▌      | 361/1000 [00:20<00:55, 11.45it/s]"
     ]
    },
    {
     "name": "stdout",
     "output_type": "stream",
     "text": [
      "Rank has changed from 21 to 23 at t = 0.36\n",
      "Rank has changed from 23 to 21 at t = 0.361\n"
     ]
    },
    {
     "name": "stderr",
     "output_type": "stream",
     "text": [
      "Solving adaptive DLRA:  36%|███▋      | 365/1000 [00:20<00:54, 11.56it/s]"
     ]
    },
    {
     "name": "stdout",
     "output_type": "stream",
     "text": [
      "Rank has changed from 21 to 22 at t = 0.363\n",
      "Rank has changed from 22 to 21 at t = 0.364\n"
     ]
    },
    {
     "name": "stderr",
     "output_type": "stream",
     "text": [
      "Solving adaptive DLRA:  37%|███▋      | 367/1000 [00:20<00:54, 11.57it/s]"
     ]
    },
    {
     "name": "stdout",
     "output_type": "stream",
     "text": [
      "Rank has changed from 21 to 23 at t = 0.366\n",
      "Rank has changed from 23 to 21 at t = 0.367\n"
     ]
    },
    {
     "name": "stderr",
     "output_type": "stream",
     "text": [
      "Solving adaptive DLRA:  37%|███▋      | 371/1000 [00:21<00:54, 11.63it/s]"
     ]
    },
    {
     "name": "stdout",
     "output_type": "stream",
     "text": [
      "Rank has changed from 21 to 22 at t = 0.369\n"
     ]
    },
    {
     "name": "stderr",
     "output_type": "stream",
     "text": [
      "Solving adaptive DLRA:  38%|███▊      | 377/1000 [00:21<00:52, 11.79it/s]"
     ]
    },
    {
     "name": "stdout",
     "output_type": "stream",
     "text": [
      "Rank has changed from 22 to 23 at t = 0.376\n",
      "Rank has changed from 23 to 22 at t = 0.377\n"
     ]
    },
    {
     "name": "stderr",
     "output_type": "stream",
     "text": [
      "Solving adaptive DLRA:  38%|███▊      | 381/1000 [00:22<00:52, 11.78it/s]"
     ]
    },
    {
     "name": "stdout",
     "output_type": "stream",
     "text": [
      "Rank has changed from 22 to 23 at t = 0.379\n",
      "Rank has changed from 23 to 22 at t = 0.38\n"
     ]
    },
    {
     "name": "stderr",
     "output_type": "stream",
     "text": [
      "Solving adaptive DLRA:  38%|███▊      | 383/1000 [00:22<00:53, 11.63it/s]"
     ]
    },
    {
     "name": "stdout",
     "output_type": "stream",
     "text": [
      "Rank has changed from 22 to 23 at t = 0.382\n",
      "Rank has changed from 23 to 22 at t = 0.383\n",
      "Rank has changed from 22 to 23 at t = 0.384\n"
     ]
    },
    {
     "name": "stderr",
     "output_type": "stream",
     "text": [
      "Solving adaptive DLRA:  39%|███▊      | 387/1000 [00:22<00:52, 11.69it/s]"
     ]
    },
    {
     "name": "stdout",
     "output_type": "stream",
     "text": [
      "Rank has changed from 23 to 22 at t = 0.385\n"
     ]
    },
    {
     "name": "stderr",
     "output_type": "stream",
     "text": [
      "Solving adaptive DLRA:  39%|███▉      | 389/1000 [00:22<00:51, 11.77it/s]"
     ]
    },
    {
     "name": "stdout",
     "output_type": "stream",
     "text": [
      "Rank has changed from 22 to 21 at t = 0.388\n",
      "Rank has changed from 21 to 22 at t = 0.389\n"
     ]
    },
    {
     "name": "stderr",
     "output_type": "stream",
     "text": [
      "Solving adaptive DLRA:  39%|███▉      | 393/1000 [00:23<00:52, 11.53it/s]"
     ]
    },
    {
     "name": "stdout",
     "output_type": "stream",
     "text": [
      "Rank has changed from 22 to 23 at t = 0.391\n",
      "Rank has changed from 23 to 22 at t = 0.392\n"
     ]
    },
    {
     "name": "stderr",
     "output_type": "stream",
     "text": [
      "Solving adaptive DLRA:  40%|███▉      | 397/1000 [00:23<00:51, 11.63it/s]"
     ]
    },
    {
     "name": "stdout",
     "output_type": "stream",
     "text": [
      "Rank has changed from 22 to 23 at t = 0.395\n",
      "Rank has changed from 23 to 22 at t = 0.396\n",
      "Rank has changed from 22 to 23 at t = 0.397\n"
     ]
    },
    {
     "name": "stderr",
     "output_type": "stream",
     "text": [
      "Solving adaptive DLRA:  40%|████      | 401/1000 [00:23<00:51, 11.72it/s]"
     ]
    },
    {
     "name": "stdout",
     "output_type": "stream",
     "text": [
      "Rank has changed from 23 to 22 at t = 0.399\n",
      "Rank has changed from 22 to 17 at t = 0.401\n"
     ]
    },
    {
     "name": "stderr",
     "output_type": "stream",
     "text": [
      "Solving adaptive DLRA:  40%|████      | 403/1000 [00:24<00:49, 12.00it/s]"
     ]
    },
    {
     "name": "stdout",
     "output_type": "stream",
     "text": [
      "Rank has changed from 17 to 15 at t = 0.402\n",
      "Rank has changed from 15 to 16 at t = 0.403\n",
      "Rank has changed from 16 to 15 at t = 0.404\n"
     ]
    },
    {
     "name": "stderr",
     "output_type": "stream",
     "text": [
      "Solving adaptive DLRA:  41%|████      | 409/1000 [00:24<00:41, 14.18it/s]"
     ]
    },
    {
     "name": "stdout",
     "output_type": "stream",
     "text": [
      "Rank has changed from 15 to 14 at t = 0.40700000000000003\n",
      "Rank has changed from 14 to 15 at t = 0.40800000000000003\n",
      "Rank has changed from 15 to 14 at t = 0.40900000000000003\n",
      "Rank has changed from 14 to 15 at t = 0.41000000000000003\n"
     ]
    },
    {
     "name": "stderr",
     "output_type": "stream",
     "text": [
      "Solving adaptive DLRA:  41%|████▏     | 413/1000 [00:24<00:38, 15.15it/s]"
     ]
    },
    {
     "name": "stdout",
     "output_type": "stream",
     "text": [
      "Rank has changed from 15 to 14 at t = 0.41100000000000003\n",
      "Rank has changed from 14 to 13 at t = 0.41300000000000003\n",
      "Rank has changed from 13 to 14 at t = 0.41400000000000003\n"
     ]
    },
    {
     "name": "stderr",
     "output_type": "stream",
     "text": [
      "Solving adaptive DLRA:  42%|████▏     | 419/1000 [00:24<00:35, 16.41it/s]"
     ]
    },
    {
     "name": "stdout",
     "output_type": "stream",
     "text": [
      "Rank has changed from 14 to 13 at t = 0.417\n",
      "Rank has changed from 13 to 15 at t = 0.419\n",
      "Rank has changed from 15 to 13 at t = 0.42\n"
     ]
    },
    {
     "name": "stderr",
     "output_type": "stream",
     "text": [
      "Solving adaptive DLRA:  42%|████▏     | 423/1000 [00:25<00:35, 16.45it/s]"
     ]
    },
    {
     "name": "stdout",
     "output_type": "stream",
     "text": [
      "Rank has changed from 13 to 14 at t = 0.421\n",
      "Rank has changed from 14 to 13 at t = 0.422\n",
      "Rank has changed from 13 to 14 at t = 0.423\n",
      "Rank has changed from 14 to 12 at t = 0.424\n"
     ]
    },
    {
     "name": "stderr",
     "output_type": "stream",
     "text": [
      "Solving adaptive DLRA:  43%|████▎     | 427/1000 [00:25<00:34, 16.62it/s]"
     ]
    },
    {
     "name": "stdout",
     "output_type": "stream",
     "text": [
      "Rank has changed from 12 to 13 at t = 0.425\n"
     ]
    },
    {
     "name": "stderr",
     "output_type": "stream",
     "text": [
      "Solving adaptive DLRA:  43%|████▎     | 431/1000 [00:25<00:36, 15.69it/s]"
     ]
    },
    {
     "name": "stdout",
     "output_type": "stream",
     "text": [
      "Rank has changed from 13 to 14 at t = 0.429\n",
      "Rank has changed from 14 to 13 at t = 0.43\n"
     ]
    },
    {
     "name": "stderr",
     "output_type": "stream",
     "text": [
      "Solving adaptive DLRA:  44%|████▎     | 435/1000 [00:25<00:35, 16.10it/s]"
     ]
    },
    {
     "name": "stdout",
     "output_type": "stream",
     "text": [
      "Rank has changed from 13 to 14 at t = 0.432\n",
      "Rank has changed from 14 to 13 at t = 0.434\n"
     ]
    },
    {
     "name": "stderr",
     "output_type": "stream",
     "text": [
      "Solving adaptive DLRA:  44%|████▍     | 439/1000 [00:26<00:34, 16.03it/s]"
     ]
    },
    {
     "name": "stdout",
     "output_type": "stream",
     "text": [
      "Rank has changed from 13 to 15 at t = 0.437\n",
      "Rank has changed from 15 to 14 at t = 0.438\n",
      "Rank has changed from 14 to 13 at t = 0.439\n"
     ]
    },
    {
     "name": "stderr",
     "output_type": "stream",
     "text": [
      "Solving adaptive DLRA:  44%|████▍     | 443/1000 [00:26<00:36, 15.42it/s]"
     ]
    },
    {
     "name": "stdout",
     "output_type": "stream",
     "text": [
      "Rank has changed from 13 to 14 at t = 0.441\n",
      "Rank has changed from 14 to 15 at t = 0.442\n",
      "Rank has changed from 15 to 13 at t = 0.443\n"
     ]
    },
    {
     "name": "stderr",
     "output_type": "stream",
     "text": [
      "Solving adaptive DLRA:  45%|████▍     | 447/1000 [00:26<00:35, 15.71it/s]"
     ]
    },
    {
     "name": "stdout",
     "output_type": "stream",
     "text": [
      "Rank has changed from 13 to 14 at t = 0.444\n",
      "Rank has changed from 14 to 13 at t = 0.445\n",
      "Rank has changed from 13 to 14 at t = 0.447\n"
     ]
    },
    {
     "name": "stderr",
     "output_type": "stream",
     "text": [
      "Solving adaptive DLRA:  45%|████▌     | 451/1000 [00:27<00:35, 15.50it/s]"
     ]
    },
    {
     "name": "stdout",
     "output_type": "stream",
     "text": [
      "Rank has changed from 14 to 15 at t = 0.448\n",
      "Rank has changed from 15 to 13 at t = 0.449\n",
      "Rank has changed from 13 to 12 at t = 0.451\n"
     ]
    },
    {
     "name": "stderr",
     "output_type": "stream",
     "text": [
      "Solving adaptive DLRA:  46%|████▌     | 455/1000 [00:27<00:33, 16.35it/s]"
     ]
    },
    {
     "name": "stdout",
     "output_type": "stream",
     "text": [
      "Rank has changed from 12 to 13 at t = 0.453\n",
      "Rank has changed from 13 to 11 at t = 0.455\n",
      "Rank has changed from 11 to 12 at t = 0.456\n"
     ]
    },
    {
     "name": "stderr",
     "output_type": "stream",
     "text": [
      "Solving adaptive DLRA:  46%|████▌     | 459/1000 [00:27<00:31, 16.93it/s]"
     ]
    },
    {
     "name": "stdout",
     "output_type": "stream",
     "text": [
      "Rank has changed from 12 to 13 at t = 0.457\n",
      "Rank has changed from 13 to 12 at t = 0.458\n",
      "Rank has changed from 12 to 13 at t = 0.459\n"
     ]
    },
    {
     "name": "stderr",
     "output_type": "stream",
     "text": [
      "Solving adaptive DLRA:  46%|████▋     | 463/1000 [00:27<00:31, 16.99it/s]"
     ]
    },
    {
     "name": "stdout",
     "output_type": "stream",
     "text": [
      "Rank has changed from 13 to 12 at t = 0.461\n",
      "Rank has changed from 12 to 13 at t = 0.462\n",
      "Rank has changed from 13 to 14 at t = 0.463\n",
      "Rank has changed from 14 to 13 at t = 0.464\n"
     ]
    },
    {
     "name": "stderr",
     "output_type": "stream",
     "text": [
      "Solving adaptive DLRA:  47%|████▋     | 467/1000 [00:27<00:31, 17.16it/s]"
     ]
    },
    {
     "name": "stdout",
     "output_type": "stream",
     "text": [
      "Rank has changed from 13 to 12 at t = 0.465\n",
      "Rank has changed from 12 to 14 at t = 0.467\n",
      "Rank has changed from 14 to 12 at t = 0.468\n"
     ]
    },
    {
     "name": "stderr",
     "output_type": "stream",
     "text": [
      "Solving adaptive DLRA:  47%|████▋     | 471/1000 [00:28<00:30, 17.26it/s]"
     ]
    },
    {
     "name": "stdout",
     "output_type": "stream",
     "text": [
      "Rank has changed from 12 to 13 at t = 0.46900000000000003\n",
      "Rank has changed from 13 to 14 at t = 0.47100000000000003\n",
      "Rank has changed from 14 to 12 at t = 0.47200000000000003\n"
     ]
    },
    {
     "name": "stderr",
     "output_type": "stream",
     "text": [
      "Solving adaptive DLRA:  48%|████▊     | 475/1000 [00:28<00:32, 16.16it/s]"
     ]
    },
    {
     "name": "stdout",
     "output_type": "stream",
     "text": [
      "Rank has changed from 12 to 13 at t = 0.47300000000000003\n",
      "Rank has changed from 13 to 12 at t = 0.47400000000000003\n",
      "Rank has changed from 12 to 13 at t = 0.47500000000000003\n"
     ]
    },
    {
     "name": "stderr",
     "output_type": "stream",
     "text": [
      "Solving adaptive DLRA:  48%|████▊     | 479/1000 [00:28<00:30, 16.86it/s]"
     ]
    },
    {
     "name": "stdout",
     "output_type": "stream",
     "text": [
      "Rank has changed from 13 to 12 at t = 0.47700000000000004\n",
      "Rank has changed from 12 to 13 at t = 0.47800000000000004\n",
      "Rank has changed from 13 to 14 at t = 0.47900000000000004\n"
     ]
    },
    {
     "name": "stderr",
     "output_type": "stream",
     "text": [
      "Solving adaptive DLRA:  48%|████▊     | 483/1000 [00:28<00:30, 17.08it/s]"
     ]
    },
    {
     "name": "stdout",
     "output_type": "stream",
     "text": [
      "Rank has changed from 14 to 13 at t = 0.481\n",
      "Rank has changed from 13 to 12 at t = 0.483\n",
      "Rank has changed from 12 to 14 at t = 0.484\n"
     ]
    },
    {
     "name": "stderr",
     "output_type": "stream",
     "text": [
      "Solving adaptive DLRA:  49%|████▊     | 487/1000 [00:29<00:29, 17.11it/s]"
     ]
    },
    {
     "name": "stdout",
     "output_type": "stream",
     "text": [
      "Rank has changed from 14 to 12 at t = 0.485\n",
      "Rank has changed from 12 to 14 at t = 0.486\n",
      "Rank has changed from 14 to 11 at t = 0.487\n",
      "Rank has changed from 11 to 12 at t = 0.488\n"
     ]
    },
    {
     "name": "stderr",
     "output_type": "stream",
     "text": [
      "Solving adaptive DLRA:  49%|████▉     | 491/1000 [00:29<00:29, 17.37it/s]"
     ]
    },
    {
     "name": "stdout",
     "output_type": "stream",
     "text": [
      "Rank has changed from 12 to 13 at t = 0.489\n",
      "Rank has changed from 13 to 12 at t = 0.49\n",
      "Rank has changed from 12 to 13 at t = 0.491\n"
     ]
    },
    {
     "name": "stderr",
     "output_type": "stream",
     "text": [
      "Solving adaptive DLRA:  50%|████▉     | 495/1000 [00:29<00:29, 17.22it/s]"
     ]
    },
    {
     "name": "stdout",
     "output_type": "stream",
     "text": [
      "Rank has changed from 13 to 14 at t = 0.493\n",
      "Rank has changed from 14 to 13 at t = 0.494\n",
      "Rank has changed from 13 to 12 at t = 0.495\n"
     ]
    },
    {
     "name": "stderr",
     "output_type": "stream",
     "text": [
      "Solving adaptive DLRA:  50%|████▉     | 499/1000 [00:29<00:29, 17.25it/s]"
     ]
    },
    {
     "name": "stdout",
     "output_type": "stream",
     "text": [
      "Rank has changed from 12 to 13 at t = 0.497\n",
      "Rank has changed from 13 to 12 at t = 0.498\n",
      "Rank has changed from 12 to 13 at t = 0.499\n",
      "Rank has changed from 13 to 12 at t = 0.5\n"
     ]
    },
    {
     "name": "stderr",
     "output_type": "stream",
     "text": [
      "Solving adaptive DLRA:  50%|█████     | 503/1000 [00:30<00:28, 17.26it/s]"
     ]
    },
    {
     "name": "stdout",
     "output_type": "stream",
     "text": [
      "Rank has changed from 12 to 13 at t = 0.501\n",
      "Rank has changed from 13 to 12 at t = 0.504\n"
     ]
    },
    {
     "name": "stderr",
     "output_type": "stream",
     "text": [
      "Solving adaptive DLRA:  51%|█████     | 507/1000 [00:30<00:28, 17.32it/s]"
     ]
    },
    {
     "name": "stdout",
     "output_type": "stream",
     "text": [
      "Rank has changed from 12 to 13 at t = 0.505\n",
      "Rank has changed from 13 to 12 at t = 0.507\n"
     ]
    },
    {
     "name": "stderr",
     "output_type": "stream",
     "text": [
      "Solving adaptive DLRA:  51%|█████     | 511/1000 [00:30<00:28, 16.92it/s]"
     ]
    },
    {
     "name": "stdout",
     "output_type": "stream",
     "text": [
      "Rank has changed from 12 to 13 at t = 0.509\n",
      "Rank has changed from 13 to 12 at t = 0.51\n",
      "Rank has changed from 12 to 13 at t = 0.511\n",
      "Rank has changed from 13 to 14 at t = 0.512\n"
     ]
    },
    {
     "name": "stderr",
     "output_type": "stream",
     "text": [
      "Solving adaptive DLRA:  52%|█████▏    | 515/1000 [00:30<00:28, 16.95it/s]"
     ]
    },
    {
     "name": "stdout",
     "output_type": "stream",
     "text": [
      "Rank has changed from 14 to 13 at t = 0.513\n",
      "Rank has changed from 13 to 14 at t = 0.515\n",
      "Rank has changed from 14 to 12 at t = 0.516\n"
     ]
    },
    {
     "name": "stderr",
     "output_type": "stream",
     "text": [
      "Solving adaptive DLRA:  52%|█████▏    | 519/1000 [00:30<00:28, 17.08it/s]"
     ]
    },
    {
     "name": "stdout",
     "output_type": "stream",
     "text": [
      "Rank has changed from 12 to 13 at t = 0.517\n"
     ]
    },
    {
     "name": "stderr",
     "output_type": "stream",
     "text": [
      "Solving adaptive DLRA:  52%|█████▎    | 525/1000 [00:31<00:28, 16.58it/s]"
     ]
    },
    {
     "name": "stdout",
     "output_type": "stream",
     "text": [
      "Rank has changed from 13 to 14 at t = 0.522\n",
      "Rank has changed from 14 to 13 at t = 0.523\n",
      "Rank has changed from 13 to 12 at t = 0.525\n"
     ]
    },
    {
     "name": "stderr",
     "output_type": "stream",
     "text": [
      "Solving adaptive DLRA:  53%|█████▎    | 529/1000 [00:31<00:27, 17.40it/s]"
     ]
    },
    {
     "name": "stdout",
     "output_type": "stream",
     "text": [
      "Rank has changed from 12 to 13 at t = 0.526\n",
      "Rank has changed from 13 to 12 at t = 0.527\n"
     ]
    },
    {
     "name": "stderr",
     "output_type": "stream",
     "text": [
      "Solving adaptive DLRA:  53%|█████▎    | 533/1000 [00:31<00:29, 15.70it/s]"
     ]
    },
    {
     "name": "stdout",
     "output_type": "stream",
     "text": [
      "Rank has changed from 12 to 14 at t = 0.532\n",
      "Rank has changed from 14 to 13 at t = 0.533\n"
     ]
    },
    {
     "name": "stderr",
     "output_type": "stream",
     "text": [
      "Solving adaptive DLRA:  54%|█████▎    | 537/1000 [00:32<00:29, 15.67it/s]"
     ]
    },
    {
     "name": "stdout",
     "output_type": "stream",
     "text": [
      "Rank has changed from 13 to 12 at t = 0.535\n",
      "Rank has changed from 12 to 13 at t = 0.536\n",
      "Rank has changed from 13 to 12 at t = 0.538\n"
     ]
    },
    {
     "name": "stderr",
     "output_type": "stream",
     "text": [
      "Solving adaptive DLRA:  54%|█████▍    | 541/1000 [00:32<00:26, 17.02it/s]"
     ]
    },
    {
     "name": "stdout",
     "output_type": "stream",
     "text": [
      "Rank has changed from 12 to 13 at t = 0.539\n",
      "Rank has changed from 13 to 14 at t = 0.541\n",
      "Rank has changed from 14 to 13 at t = 0.542\n"
     ]
    },
    {
     "name": "stderr",
     "output_type": "stream",
     "text": [
      "Solving adaptive DLRA:  55%|█████▍    | 545/1000 [00:32<00:29, 15.56it/s]"
     ]
    },
    {
     "name": "stdout",
     "output_type": "stream",
     "text": [
      "Rank has changed from 13 to 14 at t = 0.544\n",
      "Rank has changed from 14 to 13 at t = 0.545\n",
      "Rank has changed from 13 to 12 at t = 0.546\n"
     ]
    },
    {
     "name": "stderr",
     "output_type": "stream",
     "text": [
      "Solving adaptive DLRA:  55%|█████▌    | 551/1000 [00:32<00:26, 16.94it/s]"
     ]
    },
    {
     "name": "stdout",
     "output_type": "stream",
     "text": [
      "Rank has changed from 12 to 14 at t = 0.548\n",
      "Rank has changed from 14 to 13 at t = 0.549\n"
     ]
    },
    {
     "name": "stderr",
     "output_type": "stream",
     "text": [
      "Solving adaptive DLRA:  56%|█████▌    | 555/1000 [00:33<00:26, 16.87it/s]"
     ]
    },
    {
     "name": "stdout",
     "output_type": "stream",
     "text": [
      "Rank has changed from 13 to 14 at t = 0.552\n",
      "Rank has changed from 14 to 12 at t = 0.553\n",
      "Rank has changed from 12 to 13 at t = 0.554\n",
      "Rank has changed from 13 to 14 at t = 0.555\n"
     ]
    },
    {
     "name": "stderr",
     "output_type": "stream",
     "text": [
      "Solving adaptive DLRA:  56%|█████▌    | 559/1000 [00:33<00:26, 16.70it/s]"
     ]
    },
    {
     "name": "stdout",
     "output_type": "stream",
     "text": [
      "Rank has changed from 14 to 12 at t = 0.556\n",
      "Rank has changed from 12 to 13 at t = 0.557\n",
      "Rank has changed from 13 to 12 at t = 0.558\n",
      "Rank has changed from 12 to 14 at t = 0.559\n"
     ]
    },
    {
     "name": "stderr",
     "output_type": "stream",
     "text": [
      "Solving adaptive DLRA:  56%|█████▋    | 563/1000 [00:33<00:25, 17.26it/s]"
     ]
    },
    {
     "name": "stdout",
     "output_type": "stream",
     "text": [
      "Rank has changed from 14 to 13 at t = 0.561\n"
     ]
    },
    {
     "name": "stderr",
     "output_type": "stream",
     "text": [
      "Solving adaptive DLRA:  57%|█████▋    | 571/1000 [00:34<00:24, 17.76it/s]"
     ]
    },
    {
     "name": "stdout",
     "output_type": "stream",
     "text": [
      "Rank has changed from 13 to 12 at t = 0.5680000000000001\n",
      "Rank has changed from 12 to 14 at t = 0.5690000000000001\n",
      "Rank has changed from 14 to 12 at t = 0.5700000000000001\n",
      "Rank has changed from 12 to 13 at t = 0.5710000000000001\n"
     ]
    },
    {
     "name": "stderr",
     "output_type": "stream",
     "text": [
      "Solving adaptive DLRA:  58%|█████▊    | 577/1000 [00:34<00:23, 17.87it/s]"
     ]
    },
    {
     "name": "stdout",
     "output_type": "stream",
     "text": [
      "Rank has changed from 13 to 14 at t = 0.5750000000000001\n",
      "Rank has changed from 14 to 13 at t = 0.5760000000000001\n",
      "Rank has changed from 13 to 12 at t = 0.577\n",
      "Rank has changed from 12 to 13 at t = 0.578\n"
     ]
    },
    {
     "name": "stderr",
     "output_type": "stream",
     "text": [
      "Solving adaptive DLRA:  58%|█████▊    | 581/1000 [00:34<00:23, 17.70it/s]"
     ]
    },
    {
     "name": "stdout",
     "output_type": "stream",
     "text": [
      "Rank has changed from 13 to 12 at t = 0.579\n",
      "Rank has changed from 12 to 13 at t = 0.58\n"
     ]
    },
    {
     "name": "stderr",
     "output_type": "stream",
     "text": [
      "Solving adaptive DLRA:  59%|█████▉    | 591/1000 [00:35<00:22, 18.12it/s]"
     ]
    },
    {
     "name": "stdout",
     "output_type": "stream",
     "text": [
      "Rank has changed from 13 to 12 at t = 0.589\n",
      "Rank has changed from 12 to 13 at t = 0.59\n",
      "Rank has changed from 13 to 12 at t = 0.591\n",
      "Rank has changed from 12 to 13 at t = 0.592\n"
     ]
    },
    {
     "name": "stderr",
     "output_type": "stream",
     "text": [
      "Solving adaptive DLRA:  60%|█████▉    | 599/1000 [00:35<00:21, 18.82it/s]"
     ]
    },
    {
     "name": "stdout",
     "output_type": "stream",
     "text": [
      "Rank has changed from 13 to 12 at t = 0.596\n",
      "Rank has changed from 12 to 13 at t = 0.597\n"
     ]
    },
    {
     "name": "stderr",
     "output_type": "stream",
     "text": [
      "Solving adaptive DLRA:  60%|██████    | 601/1000 [00:35<00:21, 18.42it/s]"
     ]
    },
    {
     "name": "stdout",
     "output_type": "stream",
     "text": [
      "Rank has changed from 13 to 14 at t = 0.6\n",
      "Rank has changed from 14 to 19 at t = 0.601\n",
      "Rank has changed from 19 to 20 at t = 0.602\n"
     ]
    },
    {
     "name": "stderr",
     "output_type": "stream",
     "text": [
      "Solving adaptive DLRA:  60%|██████    | 605/1000 [00:36<00:27, 14.36it/s]"
     ]
    },
    {
     "name": "stdout",
     "output_type": "stream",
     "text": [
      "Rank has changed from 20 to 21 at t = 0.603\n",
      "Rank has changed from 21 to 20 at t = 0.604\n",
      "Rank has changed from 20 to 22 at t = 0.605\n"
     ]
    },
    {
     "name": "stderr",
     "output_type": "stream",
     "text": [
      "Solving adaptive DLRA:  61%|██████    | 607/1000 [00:36<00:28, 13.57it/s]"
     ]
    },
    {
     "name": "stdout",
     "output_type": "stream",
     "text": [
      "Rank has changed from 22 to 21 at t = 0.606\n"
     ]
    },
    {
     "name": "stderr",
     "output_type": "stream",
     "text": [
      "Solving adaptive DLRA:  61%|██████    | 611/1000 [00:36<00:30, 12.75it/s]"
     ]
    },
    {
     "name": "stdout",
     "output_type": "stream",
     "text": [
      "Rank has changed from 21 to 22 at t = 0.609\n"
     ]
    },
    {
     "name": "stderr",
     "output_type": "stream",
     "text": [
      "Solving adaptive DLRA:  61%|██████▏   | 613/1000 [00:36<00:30, 12.49it/s]"
     ]
    },
    {
     "name": "stdout",
     "output_type": "stream",
     "text": [
      "Rank has changed from 22 to 21 at t = 0.612\n",
      "Rank has changed from 21 to 22 at t = 0.613\n",
      "Rank has changed from 22 to 21 at t = 0.614\n"
     ]
    },
    {
     "name": "stderr",
     "output_type": "stream",
     "text": [
      "Solving adaptive DLRA:  62%|██████▏   | 617/1000 [00:37<00:31, 12.26it/s]"
     ]
    },
    {
     "name": "stdout",
     "output_type": "stream",
     "text": [
      "Rank has changed from 21 to 22 at t = 0.615\n"
     ]
    },
    {
     "name": "stderr",
     "output_type": "stream",
     "text": [
      "Solving adaptive DLRA:  62%|██████▎   | 625/1000 [00:37<00:30, 12.20it/s]"
     ]
    },
    {
     "name": "stdout",
     "output_type": "stream",
     "text": [
      "Rank has changed from 22 to 21 at t = 0.624\n",
      "Rank has changed from 21 to 20 at t = 0.626\n"
     ]
    },
    {
     "name": "stderr",
     "output_type": "stream",
     "text": [
      "Solving adaptive DLRA:  63%|██████▎   | 629/1000 [00:38<00:30, 12.12it/s]"
     ]
    },
    {
     "name": "stdout",
     "output_type": "stream",
     "text": [
      "Rank has changed from 20 to 21 at t = 0.627\n",
      "Rank has changed from 21 to 22 at t = 0.628\n",
      "Rank has changed from 22 to 21 at t = 0.629\n"
     ]
    },
    {
     "name": "stderr",
     "output_type": "stream",
     "text": [
      "Solving adaptive DLRA:  63%|██████▎   | 631/1000 [00:38<00:30, 11.95it/s]"
     ]
    },
    {
     "name": "stdout",
     "output_type": "stream",
     "text": [
      "Rank has changed from 21 to 22 at t = 0.63\n"
     ]
    },
    {
     "name": "stderr",
     "output_type": "stream",
     "text": [
      "Solving adaptive DLRA:  64%|██████▎   | 637/1000 [00:38<00:30, 12.06it/s]"
     ]
    },
    {
     "name": "stdout",
     "output_type": "stream",
     "text": [
      "Rank has changed from 22 to 21 at t = 0.635\n",
      "Rank has changed from 21 to 23 at t = 0.636\n",
      "Rank has changed from 23 to 21 at t = 0.637\n"
     ]
    },
    {
     "name": "stderr",
     "output_type": "stream",
     "text": [
      "Solving adaptive DLRA:  64%|██████▍   | 641/1000 [00:39<00:29, 12.01it/s]"
     ]
    },
    {
     "name": "stdout",
     "output_type": "stream",
     "text": [
      "Rank has changed from 21 to 23 at t = 0.639\n",
      "Rank has changed from 23 to 22 at t = 0.64\n"
     ]
    },
    {
     "name": "stderr",
     "output_type": "stream",
     "text": [
      "Solving adaptive DLRA:  64%|██████▍   | 645/1000 [00:39<00:29, 12.03it/s]"
     ]
    },
    {
     "name": "stdout",
     "output_type": "stream",
     "text": [
      "Rank has changed from 22 to 21 at t = 0.644\n",
      "Rank has changed from 21 to 22 at t = 0.645\n"
     ]
    },
    {
     "name": "stderr",
     "output_type": "stream",
     "text": [
      "Solving adaptive DLRA:  65%|██████▍   | 649/1000 [00:39<00:29, 12.03it/s]"
     ]
    },
    {
     "name": "stdout",
     "output_type": "stream",
     "text": [
      "Rank has changed from 22 to 21 at t = 0.648\n"
     ]
    },
    {
     "name": "stderr",
     "output_type": "stream",
     "text": [
      "Solving adaptive DLRA:  65%|██████▌   | 653/1000 [00:40<00:29, 11.93it/s]"
     ]
    },
    {
     "name": "stdout",
     "output_type": "stream",
     "text": [
      "Rank has changed from 21 to 22 at t = 0.651\n",
      "Rank has changed from 22 to 21 at t = 0.652\n",
      "Rank has changed from 21 to 22 at t = 0.653\n"
     ]
    },
    {
     "name": "stderr",
     "output_type": "stream",
     "text": [
      "Solving adaptive DLRA:  66%|██████▌   | 657/1000 [00:40<00:28, 11.97it/s]"
     ]
    },
    {
     "name": "stdout",
     "output_type": "stream",
     "text": [
      "Rank has changed from 22 to 21 at t = 0.656\n",
      "Rank has changed from 21 to 22 at t = 0.657\n",
      "Rank has changed from 22 to 21 at t = 0.658\n"
     ]
    },
    {
     "name": "stderr",
     "output_type": "stream",
     "text": [
      "Solving adaptive DLRA:  66%|██████▌   | 661/1000 [00:40<00:28, 11.82it/s]"
     ]
    },
    {
     "name": "stdout",
     "output_type": "stream",
     "text": [
      "Rank has changed from 21 to 22 at t = 0.66\n",
      "Rank has changed from 22 to 21 at t = 0.661\n",
      "Rank has changed from 21 to 22 at t = 0.662\n"
     ]
    },
    {
     "name": "stderr",
     "output_type": "stream",
     "text": [
      "Solving adaptive DLRA:  66%|██████▋   | 665/1000 [00:41<00:29, 11.52it/s]"
     ]
    },
    {
     "name": "stdout",
     "output_type": "stream",
     "text": [
      "Rank has changed from 22 to 21 at t = 0.663\n",
      "Rank has changed from 21 to 22 at t = 0.665\n"
     ]
    },
    {
     "name": "stderr",
     "output_type": "stream",
     "text": [
      "Solving adaptive DLRA:  67%|██████▋   | 669/1000 [00:41<00:29, 11.41it/s]"
     ]
    },
    {
     "name": "stdout",
     "output_type": "stream",
     "text": [
      "Rank has changed from 22 to 21 at t = 0.668\n",
      "Rank has changed from 21 to 22 at t = 0.67\n"
     ]
    },
    {
     "name": "stderr",
     "output_type": "stream",
     "text": [
      "Solving adaptive DLRA:  67%|██████▋   | 673/1000 [00:41<00:28, 11.31it/s]"
     ]
    },
    {
     "name": "stdout",
     "output_type": "stream",
     "text": [
      "Rank has changed from 22 to 21 at t = 0.671\n",
      "Rank has changed from 21 to 22 at t = 0.672\n",
      "Rank has changed from 22 to 23 at t = 0.673\n"
     ]
    },
    {
     "name": "stderr",
     "output_type": "stream",
     "text": [
      "Solving adaptive DLRA:  68%|██████▊   | 675/1000 [00:41<00:28, 11.46it/s]"
     ]
    },
    {
     "name": "stdout",
     "output_type": "stream",
     "text": [
      "Rank has changed from 23 to 21 at t = 0.674\n",
      "Rank has changed from 21 to 22 at t = 0.676\n"
     ]
    },
    {
     "name": "stderr",
     "output_type": "stream",
     "text": [
      "Solving adaptive DLRA:  68%|██████▊   | 679/1000 [00:42<00:27, 11.69it/s]"
     ]
    },
    {
     "name": "stdout",
     "output_type": "stream",
     "text": [
      "Rank has changed from 22 to 21 at t = 0.677\n",
      "Rank has changed from 21 to 23 at t = 0.678\n",
      "Rank has changed from 23 to 21 at t = 0.679\n"
     ]
    },
    {
     "name": "stderr",
     "output_type": "stream",
     "text": [
      "Solving adaptive DLRA:  68%|██████▊   | 681/1000 [00:42<00:27, 11.70it/s]"
     ]
    },
    {
     "name": "stdout",
     "output_type": "stream",
     "text": [
      "Rank has changed from 21 to 22 at t = 0.68\n",
      "Rank has changed from 22 to 21 at t = 0.681\n",
      "Rank has changed from 21 to 22 at t = 0.682\n"
     ]
    },
    {
     "name": "stderr",
     "output_type": "stream",
     "text": [
      "Solving adaptive DLRA:  68%|██████▊   | 685/1000 [00:42<00:26, 11.94it/s]"
     ]
    },
    {
     "name": "stdout",
     "output_type": "stream",
     "text": [
      "Rank has changed from 22 to 21 at t = 0.684\n",
      "Rank has changed from 21 to 22 at t = 0.686\n"
     ]
    },
    {
     "name": "stderr",
     "output_type": "stream",
     "text": [
      "Solving adaptive DLRA:  69%|██████▉   | 689/1000 [00:43<00:26, 11.75it/s]"
     ]
    },
    {
     "name": "stdout",
     "output_type": "stream",
     "text": [
      "Rank has changed from 22 to 21 at t = 0.6880000000000001\n",
      "Rank has changed from 21 to 22 at t = 0.6890000000000001\n"
     ]
    },
    {
     "name": "stderr",
     "output_type": "stream",
     "text": [
      "Solving adaptive DLRA:  70%|██████▉   | 695/1000 [00:43<00:25, 11.93it/s]"
     ]
    },
    {
     "name": "stdout",
     "output_type": "stream",
     "text": [
      "Rank has changed from 22 to 21 at t = 0.6930000000000001\n",
      "Rank has changed from 21 to 22 at t = 0.6940000000000001\n"
     ]
    },
    {
     "name": "stderr",
     "output_type": "stream",
     "text": [
      "Solving adaptive DLRA:  70%|███████   | 701/1000 [00:44<00:24, 12.02it/s]"
     ]
    },
    {
     "name": "stdout",
     "output_type": "stream",
     "text": [
      "Rank has changed from 22 to 21 at t = 0.7000000000000001\n",
      "Rank has changed from 21 to 22 at t = 0.7010000000000001\n"
     ]
    },
    {
     "name": "stderr",
     "output_type": "stream",
     "text": [
      "Solving adaptive DLRA:  70%|███████   | 705/1000 [00:44<00:24, 12.06it/s]"
     ]
    },
    {
     "name": "stdout",
     "output_type": "stream",
     "text": [
      "Rank has changed from 22 to 23 at t = 0.704\n",
      "Rank has changed from 23 to 22 at t = 0.706\n"
     ]
    },
    {
     "name": "stderr",
     "output_type": "stream",
     "text": [
      "Solving adaptive DLRA:  71%|███████   | 711/1000 [00:44<00:23, 12.11it/s]"
     ]
    },
    {
     "name": "stdout",
     "output_type": "stream",
     "text": [
      "Rank has changed from 22 to 23 at t = 0.71\n",
      "Rank has changed from 23 to 22 at t = 0.711\n",
      "Rank has changed from 22 to 23 at t = 0.712\n"
     ]
    },
    {
     "name": "stderr",
     "output_type": "stream",
     "text": [
      "Solving adaptive DLRA:  72%|███████▏  | 715/1000 [00:45<00:23, 12.06it/s]"
     ]
    },
    {
     "name": "stdout",
     "output_type": "stream",
     "text": [
      "Rank has changed from 23 to 22 at t = 0.713\n",
      "Rank has changed from 22 to 23 at t = 0.715\n"
     ]
    },
    {
     "name": "stderr",
     "output_type": "stream",
     "text": [
      "Solving adaptive DLRA:  72%|███████▏  | 717/1000 [00:45<00:23, 11.91it/s]"
     ]
    },
    {
     "name": "stdout",
     "output_type": "stream",
     "text": [
      "Rank has changed from 23 to 22 at t = 0.716\n",
      "Rank has changed from 22 to 23 at t = 0.718\n"
     ]
    },
    {
     "name": "stderr",
     "output_type": "stream",
     "text": [
      "Solving adaptive DLRA:  72%|███████▏  | 721/1000 [00:45<00:23, 11.95it/s]"
     ]
    },
    {
     "name": "stdout",
     "output_type": "stream",
     "text": [
      "Rank has changed from 23 to 22 at t = 0.719\n",
      "Rank has changed from 22 to 23 at t = 0.721\n"
     ]
    },
    {
     "name": "stderr",
     "output_type": "stream",
     "text": [
      "Solving adaptive DLRA:  72%|███████▏  | 723/1000 [00:45<00:23, 11.95it/s]"
     ]
    },
    {
     "name": "stdout",
     "output_type": "stream",
     "text": [
      "Rank has changed from 23 to 22 at t = 0.722\n",
      "Rank has changed from 22 to 23 at t = 0.723\n"
     ]
    },
    {
     "name": "stderr",
     "output_type": "stream",
     "text": [
      "Solving adaptive DLRA:  73%|███████▎  | 727/1000 [00:46<00:22, 11.97it/s]"
     ]
    },
    {
     "name": "stdout",
     "output_type": "stream",
     "text": [
      "Rank has changed from 23 to 22 at t = 0.725\n",
      "Rank has changed from 22 to 23 at t = 0.726\n",
      "Rank has changed from 23 to 22 at t = 0.727\n"
     ]
    },
    {
     "name": "stderr",
     "output_type": "stream",
     "text": [
      "Solving adaptive DLRA:  73%|███████▎  | 729/1000 [00:46<00:22, 12.01it/s]"
     ]
    },
    {
     "name": "stdout",
     "output_type": "stream",
     "text": [
      "Rank has changed from 22 to 23 at t = 0.728\n",
      "Rank has changed from 23 to 22 at t = 0.729\n"
     ]
    },
    {
     "name": "stderr",
     "output_type": "stream",
     "text": [
      "Solving adaptive DLRA:  73%|███████▎  | 733/1000 [00:46<00:22, 12.12it/s]"
     ]
    },
    {
     "name": "stdout",
     "output_type": "stream",
     "text": [
      "Rank has changed from 22 to 21 at t = 0.732\n",
      "Rank has changed from 21 to 22 at t = 0.733\n"
     ]
    },
    {
     "name": "stderr",
     "output_type": "stream",
     "text": [
      "Solving adaptive DLRA:  74%|███████▎  | 737/1000 [00:47<00:21, 12.11it/s]"
     ]
    },
    {
     "name": "stdout",
     "output_type": "stream",
     "text": [
      "Rank has changed from 22 to 21 at t = 0.735\n",
      "Rank has changed from 21 to 22 at t = 0.737\n"
     ]
    },
    {
     "name": "stderr",
     "output_type": "stream",
     "text": [
      "Solving adaptive DLRA:  74%|███████▍  | 739/1000 [00:47<00:21, 11.93it/s]"
     ]
    },
    {
     "name": "stdout",
     "output_type": "stream",
     "text": [
      "Rank has changed from 22 to 21 at t = 0.738\n",
      "Rank has changed from 21 to 22 at t = 0.739\n",
      "Rank has changed from 22 to 21 at t = 0.74\n"
     ]
    },
    {
     "name": "stderr",
     "output_type": "stream",
     "text": [
      "Solving adaptive DLRA:  74%|███████▍  | 745/1000 [00:47<00:21, 12.07it/s]"
     ]
    },
    {
     "name": "stdout",
     "output_type": "stream",
     "text": [
      "Rank has changed from 21 to 22 at t = 0.744\n",
      "Rank has changed from 22 to 21 at t = 0.746\n"
     ]
    },
    {
     "name": "stderr",
     "output_type": "stream",
     "text": [
      "Solving adaptive DLRA:  75%|███████▍  | 749/1000 [00:48<00:20, 12.04it/s]"
     ]
    },
    {
     "name": "stdout",
     "output_type": "stream",
     "text": [
      "Rank has changed from 21 to 22 at t = 0.747\n",
      "Rank has changed from 22 to 21 at t = 0.748\n"
     ]
    },
    {
     "name": "stderr",
     "output_type": "stream",
     "text": [
      "Solving adaptive DLRA:  75%|███████▌  | 753/1000 [00:48<00:20, 12.10it/s]"
     ]
    },
    {
     "name": "stdout",
     "output_type": "stream",
     "text": [
      "Rank has changed from 21 to 22 at t = 0.751\n",
      "Rank has changed from 22 to 21 at t = 0.752\n"
     ]
    },
    {
     "name": "stderr",
     "output_type": "stream",
     "text": [
      "Solving adaptive DLRA:  76%|███████▌  | 755/1000 [00:48<00:20, 12.05it/s]"
     ]
    },
    {
     "name": "stdout",
     "output_type": "stream",
     "text": [
      "Rank has changed from 21 to 22 at t = 0.754\n",
      "Rank has changed from 22 to 23 at t = 0.756\n"
     ]
    },
    {
     "name": "stderr",
     "output_type": "stream",
     "text": [
      "Solving adaptive DLRA:  76%|███████▌  | 759/1000 [00:48<00:19, 12.10it/s]"
     ]
    },
    {
     "name": "stdout",
     "output_type": "stream",
     "text": [
      "Rank has changed from 23 to 22 at t = 0.757\n",
      "Rank has changed from 22 to 23 at t = 0.758\n"
     ]
    },
    {
     "name": "stderr",
     "output_type": "stream",
     "text": [
      "Solving adaptive DLRA:  76%|███████▌  | 761/1000 [00:49<00:19, 12.01it/s]"
     ]
    },
    {
     "name": "stdout",
     "output_type": "stream",
     "text": [
      "Rank has changed from 23 to 22 at t = 0.76\n",
      "Rank has changed from 22 to 24 at t = 0.762\n"
     ]
    },
    {
     "name": "stderr",
     "output_type": "stream",
     "text": [
      "Solving adaptive DLRA:  76%|███████▋  | 765/1000 [00:49<00:19, 11.92it/s]"
     ]
    },
    {
     "name": "stdout",
     "output_type": "stream",
     "text": [
      "Rank has changed from 24 to 22 at t = 0.763\n",
      "Rank has changed from 22 to 24 at t = 0.765\n"
     ]
    },
    {
     "name": "stderr",
     "output_type": "stream",
     "text": [
      "Solving adaptive DLRA:  77%|███████▋  | 767/1000 [00:49<00:19, 11.90it/s]"
     ]
    },
    {
     "name": "stdout",
     "output_type": "stream",
     "text": [
      "Rank has changed from 24 to 22 at t = 0.766\n",
      "Rank has changed from 22 to 23 at t = 0.767\n",
      "Rank has changed from 23 to 22 at t = 0.768\n"
     ]
    },
    {
     "name": "stderr",
     "output_type": "stream",
     "text": [
      "Solving adaptive DLRA:  77%|███████▋  | 773/1000 [00:50<00:18, 12.14it/s]"
     ]
    },
    {
     "name": "stdout",
     "output_type": "stream",
     "text": [
      "Rank has changed from 22 to 21 at t = 0.772\n",
      "Rank has changed from 21 to 22 at t = 0.773\n",
      "Rank has changed from 22 to 23 at t = 0.774\n"
     ]
    },
    {
     "name": "stderr",
     "output_type": "stream",
     "text": [
      "Solving adaptive DLRA:  78%|███████▊  | 777/1000 [00:50<00:18, 12.11it/s]"
     ]
    },
    {
     "name": "stdout",
     "output_type": "stream",
     "text": [
      "Rank has changed from 23 to 22 at t = 0.775\n",
      "Rank has changed from 22 to 21 at t = 0.776\n"
     ]
    },
    {
     "name": "stderr",
     "output_type": "stream",
     "text": [
      "Solving adaptive DLRA:  78%|███████▊  | 781/1000 [00:50<00:18, 12.16it/s]"
     ]
    },
    {
     "name": "stdout",
     "output_type": "stream",
     "text": [
      "Rank has changed from 21 to 20 at t = 0.78\n",
      "Rank has changed from 20 to 21 at t = 0.782\n"
     ]
    },
    {
     "name": "stderr",
     "output_type": "stream",
     "text": [
      "Solving adaptive DLRA:  78%|███████▊  | 785/1000 [00:51<00:17, 12.23it/s]"
     ]
    },
    {
     "name": "stdout",
     "output_type": "stream",
     "text": [
      "Rank has changed from 21 to 20 at t = 0.784\n",
      "Rank has changed from 20 to 22 at t = 0.786\n"
     ]
    },
    {
     "name": "stderr",
     "output_type": "stream",
     "text": [
      "Solving adaptive DLRA:  79%|███████▉  | 789/1000 [00:51<00:17, 12.22it/s]"
     ]
    },
    {
     "name": "stdout",
     "output_type": "stream",
     "text": [
      "Rank has changed from 22 to 21 at t = 0.787\n"
     ]
    },
    {
     "name": "stderr",
     "output_type": "stream",
     "text": [
      "Solving adaptive DLRA:  80%|███████▉  | 795/1000 [00:51<00:16, 12.06it/s]"
     ]
    },
    {
     "name": "stdout",
     "output_type": "stream",
     "text": [
      "Rank has changed from 21 to 20 at t = 0.793\n",
      "Rank has changed from 20 to 21 at t = 0.794\n"
     ]
    },
    {
     "name": "stderr",
     "output_type": "stream",
     "text": [
      "Solving adaptive DLRA:  80%|███████▉  | 797/1000 [00:52<00:16, 12.10it/s]"
     ]
    },
    {
     "name": "stdout",
     "output_type": "stream",
     "text": [
      "Rank has changed from 21 to 22 at t = 0.796\n",
      "Rank has changed from 22 to 21 at t = 0.797\n",
      "Rank has changed from 21 to 20 at t = 0.798\n"
     ]
    },
    {
     "name": "stderr",
     "output_type": "stream",
     "text": [
      "Solving adaptive DLRA:  80%|████████  | 804/1000 [00:52<00:12, 15.36it/s]"
     ]
    },
    {
     "name": "stdout",
     "output_type": "stream",
     "text": [
      "Rank has changed from 20 to 18 at t = 0.8\n",
      "Rank has changed from 18 to 12 at t = 0.801\n",
      "Rank has changed from 12 to 11 at t = 0.802\n",
      "Rank has changed from 11 to 12 at t = 0.803\n",
      "Rank has changed from 12 to 9 at t = 0.804\n"
     ]
    },
    {
     "name": "stderr",
     "output_type": "stream",
     "text": [
      "Solving adaptive DLRA:  81%|████████  | 810/1000 [00:52<00:09, 20.81it/s]"
     ]
    },
    {
     "name": "stdout",
     "output_type": "stream",
     "text": [
      "Rank has changed from 9 to 10 at t = 0.806\n",
      "Rank has changed from 10 to 11 at t = 0.807\n",
      "Rank has changed from 11 to 10 at t = 0.808\n",
      "Rank has changed from 10 to 9 at t = 0.81\n"
     ]
    },
    {
     "name": "stderr",
     "output_type": "stream",
     "text": [
      "Solving adaptive DLRA:  82%|████████▏ | 817/1000 [00:52<00:07, 24.85it/s]"
     ]
    },
    {
     "name": "stdout",
     "output_type": "stream",
     "text": [
      "Rank has changed from 9 to 10 at t = 0.8130000000000001\n",
      "Rank has changed from 10 to 9 at t = 0.8140000000000001\n",
      "Rank has changed from 9 to 10 at t = 0.8150000000000001\n"
     ]
    },
    {
     "name": "stderr",
     "output_type": "stream",
     "text": [
      "Solving adaptive DLRA:  82%|████████▏ | 824/1000 [00:53<00:06, 27.69it/s]"
     ]
    },
    {
     "name": "stdout",
     "output_type": "stream",
     "text": [
      "Rank has changed from 10 to 11 at t = 0.8200000000000001\n",
      "Rank has changed from 11 to 10 at t = 0.8210000000000001\n",
      "Rank has changed from 10 to 9 at t = 0.8220000000000001\n",
      "Rank has changed from 9 to 10 at t = 0.8240000000000001\n",
      "Rank has changed from 10 to 9 at t = 0.8250000000000001\n",
      "Rank has changed from 9 to 11 at t = 0.8260000000000001\n"
     ]
    },
    {
     "name": "stderr",
     "output_type": "stream",
     "text": [
      "Solving adaptive DLRA:  83%|████████▎ | 831/1000 [00:53<00:05, 29.18it/s]"
     ]
    },
    {
     "name": "stdout",
     "output_type": "stream",
     "text": [
      "Rank has changed from 11 to 9 at t = 0.8270000000000001\n",
      "Rank has changed from 9 to 10 at t = 0.8280000000000001\n",
      "Rank has changed from 10 to 9 at t = 0.8290000000000001\n",
      "Rank has changed from 9 to 10 at t = 0.8320000000000001\n"
     ]
    },
    {
     "name": "stderr",
     "output_type": "stream",
     "text": [
      "Solving adaptive DLRA:  84%|████████▎ | 837/1000 [00:53<00:05, 28.95it/s]"
     ]
    },
    {
     "name": "stdout",
     "output_type": "stream",
     "text": [
      "Rank has changed from 10 to 9 at t = 0.834\n",
      "Rank has changed from 9 to 10 at t = 0.837\n",
      "Rank has changed from 10 to 9 at t = 0.838\n"
     ]
    },
    {
     "name": "stderr",
     "output_type": "stream",
     "text": [
      "Solving adaptive DLRA:  84%|████████▍ | 844/1000 [00:53<00:05, 28.58it/s]"
     ]
    },
    {
     "name": "stdout",
     "output_type": "stream",
     "text": [
      "Rank has changed from 9 to 10 at t = 0.84\n"
     ]
    },
    {
     "name": "stderr",
     "output_type": "stream",
     "text": [
      "Solving adaptive DLRA:  85%|████████▌ | 851/1000 [00:54<00:05, 29.79it/s]"
     ]
    },
    {
     "name": "stdout",
     "output_type": "stream",
     "text": [
      "Rank has changed from 10 to 9 at t = 0.848\n",
      "Rank has changed from 9 to 10 at t = 0.85\n",
      "Rank has changed from 10 to 9 at t = 0.852\n"
     ]
    },
    {
     "name": "stderr",
     "output_type": "stream",
     "text": [
      "Solving adaptive DLRA:  86%|████████▌ | 859/1000 [00:54<00:04, 30.88it/s]"
     ]
    },
    {
     "name": "stdout",
     "output_type": "stream",
     "text": [
      "Rank has changed from 9 to 10 at t = 0.856\n",
      "Rank has changed from 10 to 9 at t = 0.857\n",
      "Rank has changed from 9 to 10 at t = 0.861\n",
      "Rank has changed from 10 to 9 at t = 0.862\n"
     ]
    },
    {
     "name": "stderr",
     "output_type": "stream",
     "text": [
      "Solving adaptive DLRA:  87%|████████▋ | 867/1000 [00:54<00:04, 31.58it/s]"
     ]
    },
    {
     "name": "stdout",
     "output_type": "stream",
     "text": [
      "Rank has changed from 9 to 10 at t = 0.863\n",
      "Rank has changed from 10 to 8 at t = 0.864\n",
      "Rank has changed from 8 to 9 at t = 0.865\n",
      "Rank has changed from 9 to 10 at t = 0.866\n",
      "Rank has changed from 10 to 9 at t = 0.867\n",
      "Rank has changed from 9 to 10 at t = 0.869\n"
     ]
    },
    {
     "name": "stderr",
     "output_type": "stream",
     "text": [
      "Solving adaptive DLRA:  88%|████████▊ | 875/1000 [00:54<00:03, 31.66it/s]"
     ]
    },
    {
     "name": "stdout",
     "output_type": "stream",
     "text": [
      "Rank has changed from 10 to 9 at t = 0.872\n",
      "Rank has changed from 9 to 10 at t = 0.874\n",
      "Rank has changed from 10 to 8 at t = 0.877\n",
      "Rank has changed from 8 to 9 at t = 0.878\n"
     ]
    },
    {
     "name": "stderr",
     "output_type": "stream",
     "text": [
      "Solving adaptive DLRA:  88%|████████▊ | 883/1000 [00:55<00:03, 31.43it/s]"
     ]
    },
    {
     "name": "stdout",
     "output_type": "stream",
     "text": [
      "Rank has changed from 9 to 10 at t = 0.879\n",
      "Rank has changed from 10 to 9 at t = 0.88\n",
      "Rank has changed from 9 to 10 at t = 0.881\n",
      "Rank has changed from 10 to 9 at t = 0.882\n",
      "Rank has changed from 9 to 8 at t = 0.884\n",
      "Rank has changed from 8 to 10 at t = 0.885\n"
     ]
    },
    {
     "name": "stderr",
     "output_type": "stream",
     "text": [
      "Solving adaptive DLRA:  89%|████████▉ | 891/1000 [00:55<00:03, 30.86it/s]"
     ]
    },
    {
     "name": "stdout",
     "output_type": "stream",
     "text": [
      "Rank has changed from 10 to 9 at t = 0.887\n",
      "Rank has changed from 9 to 10 at t = 0.889\n",
      "Rank has changed from 10 to 9 at t = 0.89\n",
      "Rank has changed from 9 to 10 at t = 0.892\n"
     ]
    },
    {
     "name": "stderr",
     "output_type": "stream",
     "text": [
      "Solving adaptive DLRA:  90%|████████▉ | 899/1000 [00:55<00:03, 31.11it/s]"
     ]
    },
    {
     "name": "stdout",
     "output_type": "stream",
     "text": [
      "Rank has changed from 10 to 9 at t = 0.894\n",
      "Rank has changed from 9 to 8 at t = 0.895\n",
      "Rank has changed from 8 to 10 at t = 0.896\n",
      "Rank has changed from 10 to 9 at t = 0.897\n",
      "Rank has changed from 9 to 10 at t = 0.898\n",
      "Rank has changed from 10 to 9 at t = 0.9\n"
     ]
    },
    {
     "name": "stderr",
     "output_type": "stream",
     "text": [
      "Solving adaptive DLRA:  91%|█████████ | 907/1000 [00:55<00:02, 31.26it/s]"
     ]
    },
    {
     "name": "stdout",
     "output_type": "stream",
     "text": [
      "Rank has changed from 9 to 10 at t = 0.903\n",
      "Rank has changed from 10 to 9 at t = 0.904\n",
      "Rank has changed from 9 to 8 at t = 0.905\n",
      "Rank has changed from 8 to 10 at t = 0.906\n",
      "Rank has changed from 10 to 9 at t = 0.908\n",
      "Rank has changed from 9 to 11 at t = 0.909\n"
     ]
    },
    {
     "name": "stderr",
     "output_type": "stream",
     "text": [
      "Solving adaptive DLRA:  92%|█████████▏| 915/1000 [00:56<00:02, 32.39it/s]"
     ]
    },
    {
     "name": "stdout",
     "output_type": "stream",
     "text": [
      "Rank has changed from 11 to 10 at t = 0.91\n",
      "Rank has changed from 10 to 9 at t = 0.911\n",
      "Rank has changed from 9 to 8 at t = 0.913\n",
      "Rank has changed from 8 to 9 at t = 0.915\n"
     ]
    },
    {
     "name": "stderr",
     "output_type": "stream",
     "text": [
      "Solving adaptive DLRA:  92%|█████████▏| 919/1000 [00:56<00:02, 32.25it/s]"
     ]
    },
    {
     "name": "stdout",
     "output_type": "stream",
     "text": [
      "Rank has changed from 9 to 10 at t = 0.917\n",
      "Rank has changed from 10 to 9 at t = 0.918\n",
      "Rank has changed from 9 to 10 at t = 0.919\n",
      "Rank has changed from 10 to 11 at t = 0.921\n",
      "Rank has changed from 11 to 10 at t = 0.922\n"
     ]
    },
    {
     "name": "stderr",
     "output_type": "stream",
     "text": [
      "Solving adaptive DLRA:  93%|█████████▎| 927/1000 [00:56<00:02, 31.28it/s]"
     ]
    },
    {
     "name": "stdout",
     "output_type": "stream",
     "text": [
      "Rank has changed from 10 to 7 at t = 0.923\n",
      "Rank has changed from 7 to 8 at t = 0.924\n",
      "Rank has changed from 8 to 9 at t = 0.925\n",
      "Rank has changed from 9 to 10 at t = 0.926\n",
      "Rank has changed from 10 to 11 at t = 0.927\n",
      "Rank has changed from 11 to 9 at t = 0.928\n"
     ]
    },
    {
     "name": "stderr",
     "output_type": "stream",
     "text": [
      "Solving adaptive DLRA:  94%|█████████▎| 935/1000 [00:56<00:02, 30.86it/s]"
     ]
    },
    {
     "name": "stdout",
     "output_type": "stream",
     "text": [
      "Rank has changed from 9 to 11 at t = 0.931\n",
      "Rank has changed from 11 to 10 at t = 0.932\n",
      "Rank has changed from 10 to 9 at t = 0.933\n",
      "Rank has changed from 9 to 8 at t = 0.936\n",
      "Rank has changed from 8 to 9 at t = 0.937\n"
     ]
    },
    {
     "name": "stderr",
     "output_type": "stream",
     "text": [
      "Solving adaptive DLRA:  94%|█████████▍| 943/1000 [00:57<00:01, 31.54it/s]"
     ]
    },
    {
     "name": "stdout",
     "output_type": "stream",
     "text": [
      "Rank has changed from 9 to 10 at t = 0.9400000000000001\n",
      "Rank has changed from 10 to 9 at t = 0.9410000000000001\n",
      "Rank has changed from 9 to 11 at t = 0.9430000000000001\n",
      "Rank has changed from 11 to 8 at t = 0.9440000000000001\n",
      "Rank has changed from 8 to 9 at t = 0.9450000000000001\n"
     ]
    },
    {
     "name": "stderr",
     "output_type": "stream",
     "text": [
      "Solving adaptive DLRA:  95%|█████████▌| 951/1000 [00:57<00:01, 30.26it/s]"
     ]
    },
    {
     "name": "stdout",
     "output_type": "stream",
     "text": [
      "Rank has changed from 9 to 10 at t = 0.9470000000000001\n",
      "Rank has changed from 10 to 9 at t = 0.9480000000000001\n"
     ]
    },
    {
     "name": "stderr",
     "output_type": "stream",
     "text": [
      "Solving adaptive DLRA:  96%|█████████▌| 955/1000 [00:57<00:01, 29.61it/s]"
     ]
    },
    {
     "name": "stdout",
     "output_type": "stream",
     "text": [
      "Rank has changed from 9 to 10 at t = 0.9530000000000001\n",
      "Rank has changed from 10 to 9 at t = 0.9550000000000001\n",
      "Rank has changed from 9 to 10 at t = 0.9570000000000001\n"
     ]
    },
    {
     "name": "stderr",
     "output_type": "stream",
     "text": [
      "Solving adaptive DLRA:  96%|█████████▋| 965/1000 [00:57<00:01, 29.17it/s]"
     ]
    },
    {
     "name": "stdout",
     "output_type": "stream",
     "text": [
      "Rank has changed from 10 to 9 at t = 0.961\n"
     ]
    },
    {
     "name": "stderr",
     "output_type": "stream",
     "text": [
      "Solving adaptive DLRA:  97%|█████████▋| 972/1000 [00:58<00:00, 29.87it/s]"
     ]
    },
    {
     "name": "stdout",
     "output_type": "stream",
     "text": [
      "Rank has changed from 9 to 10 at t = 0.969\n",
      "Rank has changed from 10 to 11 at t = 0.97\n",
      "Rank has changed from 11 to 9 at t = 0.971\n",
      "Rank has changed from 9 to 10 at t = 0.972\n",
      "Rank has changed from 10 to 11 at t = 0.973\n",
      "Rank has changed from 11 to 9 at t = 0.974\n",
      "Rank has changed from 9 to 10 at t = 0.975\n"
     ]
    },
    {
     "name": "stderr",
     "output_type": "stream",
     "text": [
      "Solving adaptive DLRA:  98%|█████████▊| 980/1000 [00:58<00:00, 30.53it/s]"
     ]
    },
    {
     "name": "stdout",
     "output_type": "stream",
     "text": [
      "Rank has changed from 10 to 8 at t = 0.976\n",
      "Rank has changed from 8 to 9 at t = 0.977\n",
      "Rank has changed from 9 to 10 at t = 0.978\n",
      "Rank has changed from 10 to 8 at t = 0.98\n",
      "Rank has changed from 8 to 10 at t = 0.981\n",
      "Rank has changed from 10 to 9 at t = 0.982\n"
     ]
    },
    {
     "name": "stderr",
     "output_type": "stream",
     "text": [
      "Solving adaptive DLRA:  99%|█████████▉| 992/1000 [00:58<00:00, 31.53it/s]"
     ]
    },
    {
     "name": "stdout",
     "output_type": "stream",
     "text": [
      "Rank has changed from 9 to 10 at t = 0.986\n",
      "Rank has changed from 10 to 9 at t = 0.988\n",
      "Rank has changed from 9 to 11 at t = 0.989\n",
      "Rank has changed from 11 to 9 at t = 0.99\n",
      "Rank has changed from 9 to 10 at t = 0.991\n"
     ]
    },
    {
     "name": "stderr",
     "output_type": "stream",
     "text": [
      "Solving adaptive DLRA: 100%|██████████| 1000/1000 [00:58<00:00, 16.97it/s]\n"
     ]
    },
    {
     "name": "stdout",
     "output_type": "stream",
     "text": [
      "Rank has changed from 10 to 9 at t = 0.994\n",
      "Rank has changed from 9 to 8 at t = 0.995\n",
      "Rank has changed from 8 to 9 at t = 0.997\n",
      "Rank has changed from 9 to 10 at t = 0.998\n",
      "----------------------------------------\n",
      "Adaptive PERK \n",
      "-- 1 substep(s) \n",
      "-- 2 stages \n",
      "-- Strict order conditions: True \n",
      "-- extended Krylov space and 1 iteration(s) \n",
      "-- Largest matrix shape: (8*rank, 8*rank) \n",
      "-- Relative tolerance = 1e-11 \n",
      "-- Absolute tolerance = None\n"
     ]
    },
    {
     "name": "stderr",
     "output_type": "stream",
     "text": [
      "Solving adaptive DLRA:   0%|          | 3/1000 [00:00<00:43, 23.18it/s]"
     ]
    },
    {
     "name": "stdout",
     "output_type": "stream",
     "text": [
      "Rank has changed from 14 to 13 at t = 0.001\n"
     ]
    },
    {
     "name": "stderr",
     "output_type": "stream",
     "text": [
      "Solving adaptive DLRA:   1%|          | 9/1000 [00:00<00:43, 22.79it/s]"
     ]
    },
    {
     "name": "stdout",
     "output_type": "stream",
     "text": [
      "Rank has changed from 13 to 12 at t = 0.006\n",
      "Rank has changed from 12 to 14 at t = 0.007\n",
      "Rank has changed from 14 to 13 at t = 0.008\n"
     ]
    },
    {
     "name": "stderr",
     "output_type": "stream",
     "text": [
      "Solving adaptive DLRA:   2%|▏         | 15/1000 [00:00<00:42, 23.15it/s]"
     ]
    },
    {
     "name": "stdout",
     "output_type": "stream",
     "text": [
      "Rank has changed from 13 to 12 at t = 0.011\n"
     ]
    },
    {
     "name": "stderr",
     "output_type": "stream",
     "text": [
      "Solving adaptive DLRA:   2%|▏         | 18/1000 [00:00<00:42, 23.16it/s]"
     ]
    },
    {
     "name": "stdout",
     "output_type": "stream",
     "text": [
      "Rank has changed from 12 to 13 at t = 0.016\n",
      "Rank has changed from 13 to 12 at t = 0.017\n",
      "Rank has changed from 12 to 13 at t = 0.019\n",
      "Rank has changed from 13 to 12 at t = 0.02\n"
     ]
    },
    {
     "name": "stderr",
     "output_type": "stream",
     "text": [
      "Solving adaptive DLRA:   2%|▏         | 24/1000 [00:01<00:42, 22.99it/s]"
     ]
    },
    {
     "name": "stdout",
     "output_type": "stream",
     "text": [
      "Rank has changed from 12 to 13 at t = 0.021\n",
      "Rank has changed from 13 to 12 at t = 0.022\n"
     ]
    },
    {
     "name": "stderr",
     "output_type": "stream",
     "text": [
      "Solving adaptive DLRA:   3%|▎         | 30/1000 [00:01<00:41, 23.18it/s]"
     ]
    },
    {
     "name": "stdout",
     "output_type": "stream",
     "text": [
      "Rank has changed from 12 to 11 at t = 0.028\n",
      "Rank has changed from 11 to 12 at t = 0.029\n",
      "Rank has changed from 12 to 13 at t = 0.031\n",
      "Rank has changed from 13 to 11 at t = 0.032\n"
     ]
    },
    {
     "name": "stderr",
     "output_type": "stream",
     "text": [
      "Solving adaptive DLRA:   4%|▎         | 36/1000 [00:01<00:41, 23.08it/s]"
     ]
    },
    {
     "name": "stdout",
     "output_type": "stream",
     "text": [
      "Rank has changed from 11 to 12 at t = 0.033\n",
      "Rank has changed from 12 to 11 at t = 0.036000000000000004\n",
      "Rank has changed from 11 to 13 at t = 0.037\n"
     ]
    },
    {
     "name": "stderr",
     "output_type": "stream",
     "text": [
      "Solving adaptive DLRA:   4%|▍         | 42/1000 [00:01<00:42, 22.34it/s]"
     ]
    },
    {
     "name": "stdout",
     "output_type": "stream",
     "text": [
      "Rank has changed from 13 to 11 at t = 0.038\n",
      "Rank has changed from 11 to 12 at t = 0.039\n",
      "Rank has changed from 12 to 13 at t = 0.04\n",
      "Rank has changed from 13 to 12 at t = 0.041\n"
     ]
    },
    {
     "name": "stderr",
     "output_type": "stream",
     "text": [
      "Solving adaptive DLRA:   5%|▍         | 48/1000 [00:02<00:40, 23.56it/s]"
     ]
    },
    {
     "name": "stdout",
     "output_type": "stream",
     "text": [
      "Rank has changed from 12 to 11 at t = 0.043000000000000003\n",
      "Rank has changed from 11 to 10 at t = 0.045\n",
      "Rank has changed from 10 to 11 at t = 0.046\n",
      "Rank has changed from 11 to 12 at t = 0.047\n",
      "Rank has changed from 12 to 11 at t = 0.048\n"
     ]
    },
    {
     "name": "stderr",
     "output_type": "stream",
     "text": [
      "Solving adaptive DLRA:   5%|▌         | 54/1000 [00:02<00:39, 24.14it/s]"
     ]
    },
    {
     "name": "stdout",
     "output_type": "stream",
     "text": [
      "Rank has changed from 11 to 12 at t = 0.05\n",
      "Rank has changed from 12 to 11 at t = 0.053\n"
     ]
    },
    {
     "name": "stderr",
     "output_type": "stream",
     "text": [
      "Solving adaptive DLRA:   6%|▌         | 60/1000 [00:02<00:39, 23.99it/s]"
     ]
    },
    {
     "name": "stdout",
     "output_type": "stream",
     "text": [
      "Rank has changed from 11 to 12 at t = 0.056\n",
      "Rank has changed from 12 to 11 at t = 0.057\n",
      "Rank has changed from 11 to 12 at t = 0.059000000000000004\n"
     ]
    },
    {
     "name": "stderr",
     "output_type": "stream",
     "text": [
      "Solving adaptive DLRA:   7%|▋         | 66/1000 [00:02<00:39, 23.93it/s]"
     ]
    },
    {
     "name": "stdout",
     "output_type": "stream",
     "text": [
      "Rank has changed from 12 to 11 at t = 0.064\n",
      "Rank has changed from 11 to 12 at t = 0.066\n",
      "Rank has changed from 12 to 11 at t = 0.067\n"
     ]
    },
    {
     "name": "stderr",
     "output_type": "stream",
     "text": [
      "Solving adaptive DLRA:   7%|▋         | 72/1000 [00:03<00:39, 23.65it/s]"
     ]
    },
    {
     "name": "stdout",
     "output_type": "stream",
     "text": [
      "Rank has changed from 11 to 12 at t = 0.069\n",
      "Rank has changed from 12 to 11 at t = 0.07100000000000001\n",
      "Rank has changed from 11 to 13 at t = 0.07200000000000001\n",
      "Rank has changed from 13 to 11 at t = 0.073\n"
     ]
    },
    {
     "name": "stderr",
     "output_type": "stream",
     "text": [
      "Solving adaptive DLRA:   8%|▊         | 78/1000 [00:03<00:38, 23.64it/s]"
     ]
    },
    {
     "name": "stdout",
     "output_type": "stream",
     "text": [
      "Rank has changed from 11 to 12 at t = 0.074\n",
      "Rank has changed from 12 to 11 at t = 0.076\n",
      "Rank has changed from 11 to 12 at t = 0.078\n"
     ]
    },
    {
     "name": "stderr",
     "output_type": "stream",
     "text": [
      "Solving adaptive DLRA:   8%|▊         | 84/1000 [00:03<00:39, 23.32it/s]"
     ]
    },
    {
     "name": "stdout",
     "output_type": "stream",
     "text": [
      "Rank has changed from 12 to 11 at t = 0.081\n",
      "Rank has changed from 11 to 12 at t = 0.082\n",
      "Rank has changed from 12 to 11 at t = 0.083\n"
     ]
    },
    {
     "name": "stderr",
     "output_type": "stream",
     "text": [
      "Solving adaptive DLRA:   9%|▉         | 90/1000 [00:03<00:37, 24.34it/s]"
     ]
    },
    {
     "name": "stdout",
     "output_type": "stream",
     "text": [
      "Rank has changed from 11 to 10 at t = 0.08700000000000001\n",
      "Rank has changed from 10 to 12 at t = 0.089\n",
      "Rank has changed from 12 to 10 at t = 0.09\n",
      "Rank has changed from 10 to 11 at t = 0.091\n"
     ]
    },
    {
     "name": "stderr",
     "output_type": "stream",
     "text": [
      "Solving adaptive DLRA:  10%|▉         | 99/1000 [00:04<00:37, 24.05it/s]"
     ]
    },
    {
     "name": "stdout",
     "output_type": "stream",
     "text": [
      "Rank has changed from 11 to 10 at t = 0.097\n",
      "Rank has changed from 10 to 11 at t = 0.098\n",
      "Rank has changed from 11 to 10 at t = 0.1\n",
      "Rank has changed from 10 to 11 at t = 0.10200000000000001\n"
     ]
    },
    {
     "name": "stderr",
     "output_type": "stream",
     "text": [
      "Solving adaptive DLRA:  11%|█         | 108/1000 [00:04<00:37, 23.97it/s]"
     ]
    },
    {
     "name": "stdout",
     "output_type": "stream",
     "text": [
      "Rank has changed from 11 to 12 at t = 0.10400000000000001\n",
      "Rank has changed from 12 to 10 at t = 0.105\n",
      "Rank has changed from 10 to 12 at t = 0.106\n",
      "Rank has changed from 12 to 11 at t = 0.107\n"
     ]
    },
    {
     "name": "stderr",
     "output_type": "stream",
     "text": [
      "Solving adaptive DLRA:  11%|█         | 111/1000 [00:04<00:37, 23.55it/s]"
     ]
    },
    {
     "name": "stdout",
     "output_type": "stream",
     "text": [
      "Rank has changed from 11 to 12 at t = 0.109\n",
      "Rank has changed from 12 to 11 at t = 0.11\n",
      "Rank has changed from 11 to 13 at t = 0.113\n"
     ]
    },
    {
     "name": "stderr",
     "output_type": "stream",
     "text": [
      "Solving adaptive DLRA:  12%|█▏        | 117/1000 [00:04<00:37, 23.60it/s]"
     ]
    },
    {
     "name": "stdout",
     "output_type": "stream",
     "text": [
      "Rank has changed from 13 to 11 at t = 0.114\n",
      "Rank has changed from 11 to 10 at t = 0.115\n",
      "Rank has changed from 10 to 11 at t = 0.116\n"
     ]
    },
    {
     "name": "stderr",
     "output_type": "stream",
     "text": [
      "Solving adaptive DLRA:  12%|█▏        | 123/1000 [00:05<00:36, 23.81it/s]"
     ]
    },
    {
     "name": "stdout",
     "output_type": "stream",
     "text": [
      "Rank has changed from 11 to 12 at t = 0.11900000000000001\n",
      "Rank has changed from 12 to 11 at t = 0.12\n"
     ]
    },
    {
     "name": "stderr",
     "output_type": "stream",
     "text": [
      "Solving adaptive DLRA:  13%|█▎        | 129/1000 [00:05<00:38, 22.89it/s]"
     ]
    },
    {
     "name": "stdout",
     "output_type": "stream",
     "text": [
      "Rank has changed from 11 to 12 at t = 0.126\n",
      "Rank has changed from 12 to 10 at t = 0.129\n",
      "Rank has changed from 10 to 11 at t = 0.13\n"
     ]
    },
    {
     "name": "stderr",
     "output_type": "stream",
     "text": [
      "Solving adaptive DLRA:  14%|█▍        | 138/1000 [00:05<00:35, 24.28it/s]"
     ]
    },
    {
     "name": "stdout",
     "output_type": "stream",
     "text": [
      "Rank has changed from 11 to 10 at t = 0.133\n",
      "Rank has changed from 10 to 11 at t = 0.135\n",
      "Rank has changed from 11 to 9 at t = 0.138\n"
     ]
    },
    {
     "name": "stderr",
     "output_type": "stream",
     "text": [
      "Solving adaptive DLRA:  14%|█▍        | 144/1000 [00:06<00:33, 25.23it/s]"
     ]
    },
    {
     "name": "stdout",
     "output_type": "stream",
     "text": [
      "Rank has changed from 9 to 11 at t = 0.139\n",
      "Rank has changed from 11 to 10 at t = 0.14\n",
      "Rank has changed from 10 to 12 at t = 0.14100000000000001\n",
      "Rank has changed from 12 to 11 at t = 0.14200000000000002\n",
      "Rank has changed from 11 to 10 at t = 0.14400000000000002\n"
     ]
    },
    {
     "name": "stderr",
     "output_type": "stream",
     "text": [
      "Solving adaptive DLRA:  15%|█▌        | 150/1000 [00:06<00:33, 25.20it/s]"
     ]
    },
    {
     "name": "stdout",
     "output_type": "stream",
     "text": [
      "Rank has changed from 10 to 11 at t = 0.145\n"
     ]
    },
    {
     "name": "stderr",
     "output_type": "stream",
     "text": [
      "Solving adaptive DLRA:  16%|█▌        | 156/1000 [00:06<00:33, 25.33it/s]"
     ]
    },
    {
     "name": "stdout",
     "output_type": "stream",
     "text": [
      "Rank has changed from 11 to 10 at t = 0.151\n",
      "Rank has changed from 10 to 11 at t = 0.152\n",
      "Rank has changed from 11 to 10 at t = 0.154\n",
      "Rank has changed from 10 to 11 at t = 0.155\n"
     ]
    },
    {
     "name": "stderr",
     "output_type": "stream",
     "text": [
      "Solving adaptive DLRA:  16%|█▌        | 162/1000 [00:06<00:34, 24.60it/s]"
     ]
    },
    {
     "name": "stdout",
     "output_type": "stream",
     "text": [
      "Rank has changed from 11 to 12 at t = 0.16\n",
      "Rank has changed from 12 to 11 at t = 0.161\n"
     ]
    },
    {
     "name": "stderr",
     "output_type": "stream",
     "text": [
      "Solving adaptive DLRA:  17%|█▋        | 171/1000 [00:07<00:33, 24.88it/s]"
     ]
    },
    {
     "name": "stdout",
     "output_type": "stream",
     "text": [
      "Rank has changed from 11 to 10 at t = 0.167\n",
      "Rank has changed from 10 to 11 at t = 0.168\n",
      "Rank has changed from 11 to 12 at t = 0.17200000000000001\n"
     ]
    },
    {
     "name": "stderr",
     "output_type": "stream",
     "text": [
      "Solving adaptive DLRA:  18%|█▊        | 177/1000 [00:07<00:33, 24.30it/s]"
     ]
    },
    {
     "name": "stdout",
     "output_type": "stream",
     "text": [
      "Rank has changed from 12 to 11 at t = 0.17300000000000001\n",
      "Rank has changed from 11 to 12 at t = 0.176\n",
      "Rank has changed from 12 to 10 at t = 0.177\n"
     ]
    },
    {
     "name": "stderr",
     "output_type": "stream",
     "text": [
      "Solving adaptive DLRA:  18%|█▊        | 180/1000 [00:07<00:33, 24.26it/s]"
     ]
    },
    {
     "name": "stdout",
     "output_type": "stream",
     "text": [
      "Rank has changed from 10 to 12 at t = 0.178\n",
      "Rank has changed from 12 to 11 at t = 0.179\n"
     ]
    },
    {
     "name": "stderr",
     "output_type": "stream",
     "text": [
      "Solving adaptive DLRA:  19%|█▉        | 189/1000 [00:07<00:33, 23.90it/s]"
     ]
    },
    {
     "name": "stdout",
     "output_type": "stream",
     "text": [
      "Rank has changed from 11 to 12 at t = 0.185\n",
      "Rank has changed from 12 to 11 at t = 0.186\n",
      "Rank has changed from 11 to 12 at t = 0.189\n"
     ]
    },
    {
     "name": "stderr",
     "output_type": "stream",
     "text": [
      "Solving adaptive DLRA:  20%|█▉        | 195/1000 [00:08<00:33, 23.79it/s]"
     ]
    },
    {
     "name": "stdout",
     "output_type": "stream",
     "text": [
      "Rank has changed from 12 to 11 at t = 0.191\n",
      "Rank has changed from 11 to 12 at t = 0.192\n",
      "Rank has changed from 12 to 10 at t = 0.193\n",
      "Rank has changed from 10 to 11 at t = 0.194\n",
      "Rank has changed from 11 to 10 at t = 0.195\n"
     ]
    },
    {
     "name": "stderr",
     "output_type": "stream",
     "text": [
      "Solving adaptive DLRA:  20%|██        | 201/1000 [00:08<00:34, 23.17it/s]"
     ]
    },
    {
     "name": "stdout",
     "output_type": "stream",
     "text": [
      "Rank has changed from 10 to 11 at t = 0.197\n",
      "Rank has changed from 11 to 12 at t = 0.2\n",
      "Rank has changed from 12 to 39 at t = 0.201\n"
     ]
    },
    {
     "name": "stderr",
     "output_type": "stream",
     "text": [
      "Solving adaptive DLRA:  21%|██        | 212/1000 [00:09<01:11, 11.01it/s]"
     ]
    },
    {
     "name": "stdout",
     "output_type": "stream",
     "text": [
      "Rank has changed from 39 to 40 at t = 0.212\n"
     ]
    },
    {
     "name": "stderr",
     "output_type": "stream",
     "text": [
      "Solving adaptive DLRA:  40%|████      | 403/1000 [00:29<00:55, 10.78it/s]"
     ]
    },
    {
     "name": "stdout",
     "output_type": "stream",
     "text": [
      "Rank has changed from 40 to 24 at t = 0.401\n",
      "Rank has changed from 24 to 20 at t = 0.402\n",
      "Rank has changed from 20 to 19 at t = 0.403\n"
     ]
    },
    {
     "name": "stderr",
     "output_type": "stream",
     "text": [
      "Solving adaptive DLRA:  41%|████      | 407/1000 [00:30<00:46, 12.72it/s]"
     ]
    },
    {
     "name": "stdout",
     "output_type": "stream",
     "text": [
      "Rank has changed from 19 to 16 at t = 0.405\n",
      "Rank has changed from 16 to 17 at t = 0.406\n"
     ]
    },
    {
     "name": "stderr",
     "output_type": "stream",
     "text": [
      "Solving adaptive DLRA:  41%|████      | 411/1000 [00:30<00:43, 13.63it/s]"
     ]
    },
    {
     "name": "stdout",
     "output_type": "stream",
     "text": [
      "Rank has changed from 17 to 15 at t = 0.40800000000000003\n",
      "Rank has changed from 15 to 16 at t = 0.40900000000000003\n",
      "Rank has changed from 16 to 14 at t = 0.41000000000000003\n",
      "Rank has changed from 14 to 15 at t = 0.41100000000000003\n"
     ]
    },
    {
     "name": "stderr",
     "output_type": "stream",
     "text": [
      "Solving adaptive DLRA:  42%|████▏     | 419/1000 [00:31<00:37, 15.47it/s]"
     ]
    },
    {
     "name": "stdout",
     "output_type": "stream",
     "text": [
      "Rank has changed from 15 to 14 at t = 0.41600000000000004\n",
      "Rank has changed from 14 to 15 at t = 0.417\n",
      "Rank has changed from 15 to 13 at t = 0.419\n"
     ]
    },
    {
     "name": "stderr",
     "output_type": "stream",
     "text": [
      "Solving adaptive DLRA:  42%|████▏     | 423/1000 [00:31<00:34, 16.63it/s]"
     ]
    },
    {
     "name": "stdout",
     "output_type": "stream",
     "text": [
      "Rank has changed from 13 to 14 at t = 0.42\n",
      "Rank has changed from 14 to 15 at t = 0.422\n",
      "Rank has changed from 15 to 13 at t = 0.423\n"
     ]
    },
    {
     "name": "stderr",
     "output_type": "stream",
     "text": [
      "Solving adaptive DLRA:  43%|████▎     | 427/1000 [00:31<00:33, 17.21it/s]"
     ]
    },
    {
     "name": "stdout",
     "output_type": "stream",
     "text": [
      "Rank has changed from 13 to 14 at t = 0.424\n",
      "Rank has changed from 14 to 15 at t = 0.426\n",
      "Rank has changed from 15 to 13 at t = 0.427\n"
     ]
    },
    {
     "name": "stderr",
     "output_type": "stream",
     "text": [
      "Solving adaptive DLRA:  43%|████▎     | 431/1000 [00:31<00:32, 17.75it/s]"
     ]
    },
    {
     "name": "stdout",
     "output_type": "stream",
     "text": [
      "Rank has changed from 13 to 14 at t = 0.428\n",
      "Rank has changed from 14 to 13 at t = 0.431\n"
     ]
    },
    {
     "name": "stderr",
     "output_type": "stream",
     "text": [
      "Solving adaptive DLRA:  44%|████▎     | 435/1000 [00:31<00:31, 17.93it/s]"
     ]
    },
    {
     "name": "stdout",
     "output_type": "stream",
     "text": [
      "Rank has changed from 13 to 14 at t = 0.433\n",
      "Rank has changed from 14 to 13 at t = 0.436\n"
     ]
    },
    {
     "name": "stderr",
     "output_type": "stream",
     "text": [
      "Solving adaptive DLRA:  44%|████▍     | 441/1000 [00:32<00:31, 17.54it/s]"
     ]
    },
    {
     "name": "stdout",
     "output_type": "stream",
     "text": [
      "Rank has changed from 13 to 14 at t = 0.438\n",
      "Rank has changed from 14 to 13 at t = 0.439\n",
      "Rank has changed from 13 to 14 at t = 0.44\n",
      "Rank has changed from 14 to 12 at t = 0.441\n"
     ]
    },
    {
     "name": "stderr",
     "output_type": "stream",
     "text": [
      "Solving adaptive DLRA:  44%|████▍     | 445/1000 [00:32<00:30, 18.07it/s]"
     ]
    },
    {
     "name": "stdout",
     "output_type": "stream",
     "text": [
      "Rank has changed from 12 to 13 at t = 0.442\n",
      "Rank has changed from 13 to 14 at t = 0.443\n",
      "Rank has changed from 14 to 13 at t = 0.444\n",
      "Rank has changed from 13 to 14 at t = 0.445\n"
     ]
    },
    {
     "name": "stderr",
     "output_type": "stream",
     "text": [
      "Solving adaptive DLRA:  45%|████▍     | 449/1000 [00:32<00:29, 18.44it/s]"
     ]
    },
    {
     "name": "stdout",
     "output_type": "stream",
     "text": [
      "Rank has changed from 14 to 13 at t = 0.447\n",
      "Rank has changed from 13 to 14 at t = 0.449\n"
     ]
    },
    {
     "name": "stderr",
     "output_type": "stream",
     "text": [
      "Solving adaptive DLRA:  46%|████▌     | 457/1000 [00:33<00:29, 18.47it/s]"
     ]
    },
    {
     "name": "stdout",
     "output_type": "stream",
     "text": [
      "Rank has changed from 14 to 13 at t = 0.454\n",
      "Rank has changed from 13 to 14 at t = 0.457\n"
     ]
    },
    {
     "name": "stderr",
     "output_type": "stream",
     "text": [
      "Solving adaptive DLRA:  46%|████▌     | 461/1000 [00:33<00:29, 18.44it/s]"
     ]
    },
    {
     "name": "stdout",
     "output_type": "stream",
     "text": [
      "Rank has changed from 14 to 13 at t = 0.458\n",
      "Rank has changed from 13 to 14 at t = 0.46\n",
      "Rank has changed from 14 to 13 at t = 0.461\n"
     ]
    },
    {
     "name": "stderr",
     "output_type": "stream",
     "text": [
      "Solving adaptive DLRA:  46%|████▋     | 465/1000 [00:33<00:29, 18.25it/s]"
     ]
    },
    {
     "name": "stdout",
     "output_type": "stream",
     "text": [
      "Rank has changed from 13 to 15 at t = 0.462\n",
      "Rank has changed from 15 to 13 at t = 0.463\n",
      "Rank has changed from 13 to 14 at t = 0.464\n",
      "Rank has changed from 14 to 13 at t = 0.465\n"
     ]
    },
    {
     "name": "stderr",
     "output_type": "stream",
     "text": [
      "Solving adaptive DLRA:  48%|████▊     | 475/1000 [00:34<00:29, 17.97it/s]"
     ]
    },
    {
     "name": "stdout",
     "output_type": "stream",
     "text": [
      "Rank has changed from 13 to 14 at t = 0.47200000000000003\n"
     ]
    },
    {
     "name": "stderr",
     "output_type": "stream",
     "text": [
      "Solving adaptive DLRA:  48%|████▊     | 479/1000 [00:34<00:28, 18.28it/s]"
     ]
    },
    {
     "name": "stdout",
     "output_type": "stream",
     "text": [
      "Rank has changed from 14 to 12 at t = 0.47600000000000003\n",
      "Rank has changed from 12 to 14 at t = 0.47700000000000004\n",
      "Rank has changed from 14 to 13 at t = 0.47800000000000004\n",
      "Rank has changed from 13 to 14 at t = 0.47900000000000004\n"
     ]
    },
    {
     "name": "stderr",
     "output_type": "stream",
     "text": [
      "Solving adaptive DLRA:  48%|████▊     | 483/1000 [00:34<00:28, 18.35it/s]"
     ]
    },
    {
     "name": "stdout",
     "output_type": "stream",
     "text": [
      "Rank has changed from 14 to 13 at t = 0.481\n",
      "Rank has changed from 13 to 14 at t = 0.482\n",
      "Rank has changed from 14 to 13 at t = 0.483\n"
     ]
    },
    {
     "name": "stderr",
     "output_type": "stream",
     "text": [
      "Solving adaptive DLRA:  49%|████▊     | 487/1000 [00:34<00:27, 18.35it/s]"
     ]
    },
    {
     "name": "stdout",
     "output_type": "stream",
     "text": [
      "Rank has changed from 13 to 14 at t = 0.485\n",
      "Rank has changed from 14 to 15 at t = 0.487\n",
      "Rank has changed from 15 to 13 at t = 0.488\n"
     ]
    },
    {
     "name": "stderr",
     "output_type": "stream",
     "text": [
      "Solving adaptive DLRA:  49%|████▉     | 493/1000 [00:35<00:27, 18.49it/s]"
     ]
    },
    {
     "name": "stdout",
     "output_type": "stream",
     "text": [
      "Rank has changed from 13 to 12 at t = 0.49\n",
      "Rank has changed from 12 to 13 at t = 0.491\n",
      "Rank has changed from 13 to 14 at t = 0.492\n",
      "Rank has changed from 14 to 13 at t = 0.493\n"
     ]
    },
    {
     "name": "stderr",
     "output_type": "stream",
     "text": [
      "Solving adaptive DLRA:  50%|████▉     | 498/1000 [00:35<00:25, 19.46it/s]"
     ]
    },
    {
     "name": "stdout",
     "output_type": "stream",
     "text": [
      "Rank has changed from 13 to 12 at t = 0.494\n",
      "Rank has changed from 12 to 13 at t = 0.495\n",
      "Rank has changed from 13 to 12 at t = 0.496\n",
      "Rank has changed from 12 to 13 at t = 0.498\n"
     ]
    },
    {
     "name": "stderr",
     "output_type": "stream",
     "text": [
      "Solving adaptive DLRA:  50%|█████     | 505/1000 [00:35<00:24, 19.96it/s]"
     ]
    },
    {
     "name": "stdout",
     "output_type": "stream",
     "text": [
      "Rank has changed from 13 to 11 at t = 0.502\n",
      "Rank has changed from 11 to 12 at t = 0.503\n",
      "Rank has changed from 12 to 11 at t = 0.504\n",
      "Rank has changed from 11 to 14 at t = 0.505\n",
      "Rank has changed from 14 to 12 at t = 0.506\n"
     ]
    },
    {
     "name": "stderr",
     "output_type": "stream",
     "text": [
      "Solving adaptive DLRA:  51%|█████     | 509/1000 [00:35<00:25, 19.29it/s]"
     ]
    },
    {
     "name": "stdout",
     "output_type": "stream",
     "text": [
      "Rank has changed from 12 to 13 at t = 0.507\n",
      "Rank has changed from 13 to 14 at t = 0.508\n",
      "Rank has changed from 14 to 12 at t = 0.509\n",
      "Rank has changed from 12 to 13 at t = 0.51\n"
     ]
    },
    {
     "name": "stderr",
     "output_type": "stream",
     "text": [
      "Solving adaptive DLRA:  51%|█████▏    | 513/1000 [00:36<00:25, 19.09it/s]"
     ]
    },
    {
     "name": "stdout",
     "output_type": "stream",
     "text": [
      "Rank has changed from 13 to 14 at t = 0.511\n",
      "Rank has changed from 14 to 13 at t = 0.512\n",
      "Rank has changed from 13 to 12 at t = 0.513\n",
      "Rank has changed from 12 to 13 at t = 0.514\n"
     ]
    },
    {
     "name": "stderr",
     "output_type": "stream",
     "text": [
      "Solving adaptive DLRA:  52%|█████▏    | 517/1000 [00:36<00:25, 19.20it/s]"
     ]
    },
    {
     "name": "stdout",
     "output_type": "stream",
     "text": [
      "Rank has changed from 13 to 12 at t = 0.515\n",
      "Rank has changed from 12 to 14 at t = 0.516\n",
      "Rank has changed from 14 to 13 at t = 0.517\n"
     ]
    },
    {
     "name": "stderr",
     "output_type": "stream",
     "text": [
      "Solving adaptive DLRA:  52%|█████▏    | 523/1000 [00:36<00:24, 19.08it/s]"
     ]
    },
    {
     "name": "stdout",
     "output_type": "stream",
     "text": [
      "Rank has changed from 13 to 12 at t = 0.52\n",
      "Rank has changed from 12 to 11 at t = 0.521\n",
      "Rank has changed from 11 to 14 at t = 0.522\n",
      "Rank has changed from 14 to 12 at t = 0.523\n"
     ]
    },
    {
     "name": "stderr",
     "output_type": "stream",
     "text": [
      "Solving adaptive DLRA:  53%|█████▎    | 527/1000 [00:36<00:25, 18.83it/s]"
     ]
    },
    {
     "name": "stdout",
     "output_type": "stream",
     "text": [
      "Rank has changed from 12 to 14 at t = 0.524\n",
      "Rank has changed from 14 to 13 at t = 0.525\n",
      "Rank has changed from 13 to 12 at t = 0.526\n"
     ]
    },
    {
     "name": "stderr",
     "output_type": "stream",
     "text": [
      "Solving adaptive DLRA:  53%|█████▎    | 531/1000 [00:37<00:24, 18.95it/s]"
     ]
    },
    {
     "name": "stdout",
     "output_type": "stream",
     "text": [
      "Rank has changed from 12 to 13 at t = 0.528\n",
      "Rank has changed from 13 to 12 at t = 0.529\n",
      "Rank has changed from 12 to 13 at t = 0.53\n"
     ]
    },
    {
     "name": "stderr",
     "output_type": "stream",
     "text": [
      "Solving adaptive DLRA:  54%|█████▎    | 535/1000 [00:37<00:24, 18.93it/s]"
     ]
    },
    {
     "name": "stdout",
     "output_type": "stream",
     "text": [
      "Rank has changed from 13 to 14 at t = 0.532\n",
      "Rank has changed from 14 to 12 at t = 0.534\n",
      "Rank has changed from 12 to 13 at t = 0.535\n"
     ]
    },
    {
     "name": "stderr",
     "output_type": "stream",
     "text": [
      "Solving adaptive DLRA:  54%|█████▍    | 541/1000 [00:37<00:24, 18.97it/s]"
     ]
    },
    {
     "name": "stdout",
     "output_type": "stream",
     "text": [
      "Rank has changed from 13 to 12 at t = 0.538\n",
      "Rank has changed from 12 to 13 at t = 0.539\n",
      "Rank has changed from 13 to 14 at t = 0.54\n",
      "Rank has changed from 14 to 13 at t = 0.541\n"
     ]
    },
    {
     "name": "stderr",
     "output_type": "stream",
     "text": [
      "Solving adaptive DLRA:  55%|█████▍    | 545/1000 [00:37<00:23, 19.12it/s]"
     ]
    },
    {
     "name": "stdout",
     "output_type": "stream",
     "text": [
      "Rank has changed from 13 to 12 at t = 0.543\n",
      "Rank has changed from 12 to 13 at t = 0.545\n"
     ]
    },
    {
     "name": "stderr",
     "output_type": "stream",
     "text": [
      "Solving adaptive DLRA:  55%|█████▌    | 552/1000 [00:38<00:22, 19.65it/s]"
     ]
    },
    {
     "name": "stdout",
     "output_type": "stream",
     "text": [
      "Rank has changed from 13 to 12 at t = 0.548\n",
      "Rank has changed from 12 to 13 at t = 0.549\n",
      "Rank has changed from 13 to 12 at t = 0.55\n",
      "Rank has changed from 12 to 13 at t = 0.552\n"
     ]
    },
    {
     "name": "stderr",
     "output_type": "stream",
     "text": [
      "Solving adaptive DLRA:  56%|█████▌    | 558/1000 [00:38<00:23, 18.75it/s]"
     ]
    },
    {
     "name": "stdout",
     "output_type": "stream",
     "text": [
      "Rank has changed from 13 to 14 at t = 0.555\n",
      "Rank has changed from 14 to 13 at t = 0.556\n",
      "Rank has changed from 13 to 12 at t = 0.558\n"
     ]
    },
    {
     "name": "stderr",
     "output_type": "stream",
     "text": [
      "Solving adaptive DLRA:  56%|█████▌    | 562/1000 [00:38<00:22, 19.15it/s]"
     ]
    },
    {
     "name": "stdout",
     "output_type": "stream",
     "text": [
      "Rank has changed from 12 to 13 at t = 0.559\n",
      "Rank has changed from 13 to 12 at t = 0.56\n",
      "Rank has changed from 12 to 13 at t = 0.561\n",
      "Rank has changed from 13 to 14 at t = 0.562\n"
     ]
    },
    {
     "name": "stderr",
     "output_type": "stream",
     "text": [
      "Solving adaptive DLRA:  57%|█████▋    | 566/1000 [00:38<00:22, 19.25it/s]"
     ]
    },
    {
     "name": "stdout",
     "output_type": "stream",
     "text": [
      "Rank has changed from 14 to 13 at t = 0.5630000000000001\n",
      "Rank has changed from 13 to 12 at t = 0.5650000000000001\n",
      "Rank has changed from 12 to 13 at t = 0.5660000000000001\n"
     ]
    },
    {
     "name": "stderr",
     "output_type": "stream",
     "text": [
      "Solving adaptive DLRA:  57%|█████▋    | 568/1000 [00:38<00:22, 19.16it/s]"
     ]
    },
    {
     "name": "stdout",
     "output_type": "stream",
     "text": [
      "Rank has changed from 13 to 12 at t = 0.5670000000000001\n",
      "Rank has changed from 12 to 14 at t = 0.5700000000000001\n"
     ]
    },
    {
     "name": "stderr",
     "output_type": "stream",
     "text": [
      "Solving adaptive DLRA:  57%|█████▋    | 573/1000 [00:39<00:22, 19.40it/s]"
     ]
    },
    {
     "name": "stdout",
     "output_type": "stream",
     "text": [
      "Rank has changed from 14 to 13 at t = 0.5710000000000001\n",
      "Rank has changed from 13 to 12 at t = 0.5720000000000001\n",
      "Rank has changed from 12 to 13 at t = 0.5730000000000001\n"
     ]
    },
    {
     "name": "stderr",
     "output_type": "stream",
     "text": [
      "Solving adaptive DLRA:  58%|█████▊    | 579/1000 [00:39<00:21, 19.32it/s]"
     ]
    },
    {
     "name": "stdout",
     "output_type": "stream",
     "text": [
      "Rank has changed from 13 to 12 at t = 0.577\n",
      "Rank has changed from 12 to 15 at t = 0.578\n",
      "Rank has changed from 15 to 12 at t = 0.579\n",
      "Rank has changed from 12 to 13 at t = 0.58\n"
     ]
    },
    {
     "name": "stderr",
     "output_type": "stream",
     "text": [
      "Solving adaptive DLRA:  58%|█████▊    | 585/1000 [00:39<00:21, 19.22it/s]"
     ]
    },
    {
     "name": "stdout",
     "output_type": "stream",
     "text": [
      "Rank has changed from 13 to 14 at t = 0.583\n",
      "Rank has changed from 14 to 12 at t = 0.584\n",
      "Rank has changed from 12 to 13 at t = 0.585\n"
     ]
    },
    {
     "name": "stderr",
     "output_type": "stream",
     "text": [
      "Solving adaptive DLRA:  59%|█████▉    | 589/1000 [00:40<00:21, 18.87it/s]"
     ]
    },
    {
     "name": "stdout",
     "output_type": "stream",
     "text": [
      "Rank has changed from 13 to 12 at t = 0.587\n",
      "Rank has changed from 12 to 13 at t = 0.588\n",
      "Rank has changed from 13 to 11 at t = 0.589\n",
      "Rank has changed from 11 to 13 at t = 0.59\n"
     ]
    },
    {
     "name": "stderr",
     "output_type": "stream",
     "text": [
      "Solving adaptive DLRA:  59%|█████▉    | 593/1000 [00:40<00:21, 18.87it/s]"
     ]
    },
    {
     "name": "stdout",
     "output_type": "stream",
     "text": [
      "Rank has changed from 13 to 14 at t = 0.591\n",
      "Rank has changed from 14 to 13 at t = 0.592\n",
      "Rank has changed from 13 to 12 at t = 0.594\n"
     ]
    },
    {
     "name": "stderr",
     "output_type": "stream",
     "text": [
      "Solving adaptive DLRA:  60%|█████▉    | 597/1000 [00:40<00:21, 19.10it/s]"
     ]
    },
    {
     "name": "stdout",
     "output_type": "stream",
     "text": [
      "Rank has changed from 12 to 14 at t = 0.595\n",
      "Rank has changed from 14 to 12 at t = 0.596\n",
      "Rank has changed from 12 to 13 at t = 0.597\n",
      "Rank has changed from 13 to 14 at t = 0.598\n"
     ]
    },
    {
     "name": "stderr",
     "output_type": "stream",
     "text": [
      "Solving adaptive DLRA:  60%|██████    | 601/1000 [00:40<00:21, 18.96it/s]"
     ]
    },
    {
     "name": "stdout",
     "output_type": "stream",
     "text": [
      "Rank has changed from 14 to 13 at t = 0.599\n",
      "Rank has changed from 13 to 35 at t = 0.601\n",
      "Rank has changed from 35 to 36 at t = 0.602\n"
     ]
    },
    {
     "name": "stderr",
     "output_type": "stream",
     "text": [
      "Solving adaptive DLRA:  60%|██████    | 603/1000 [00:40<00:26, 14.92it/s]"
     ]
    },
    {
     "name": "stdout",
     "output_type": "stream",
     "text": [
      "Rank has changed from 36 to 38 at t = 0.603\n"
     ]
    },
    {
     "name": "stderr",
     "output_type": "stream",
     "text": [
      "Solving adaptive DLRA:  61%|██████    | 607/1000 [00:41<00:32, 12.04it/s]"
     ]
    },
    {
     "name": "stdout",
     "output_type": "stream",
     "text": [
      "Rank has changed from 38 to 39 at t = 0.605\n"
     ]
    },
    {
     "name": "stderr",
     "output_type": "stream",
     "text": [
      "Solving adaptive DLRA:  61%|██████▏   | 613/1000 [00:41<00:36, 10.56it/s]"
     ]
    },
    {
     "name": "stdout",
     "output_type": "stream",
     "text": [
      "Rank has changed from 39 to 40 at t = 0.612\n"
     ]
    },
    {
     "name": "stderr",
     "output_type": "stream",
     "text": [
      "Solving adaptive DLRA:  80%|████████  | 802/1000 [01:01<00:18, 10.52it/s]"
     ]
    },
    {
     "name": "stdout",
     "output_type": "stream",
     "text": [
      "Rank has changed from 40 to 38 at t = 0.8\n",
      "Rank has changed from 38 to 22 at t = 0.801\n",
      "Rank has changed from 22 to 18 at t = 0.802\n"
     ]
    },
    {
     "name": "stderr",
     "output_type": "stream",
     "text": [
      "Solving adaptive DLRA:  81%|████████  | 806/1000 [01:01<00:13, 14.19it/s]"
     ]
    },
    {
     "name": "stdout",
     "output_type": "stream",
     "text": [
      "Rank has changed from 18 to 17 at t = 0.803\n",
      "Rank has changed from 17 to 16 at t = 0.804\n",
      "Rank has changed from 16 to 14 at t = 0.805\n",
      "Rank has changed from 14 to 15 at t = 0.806\n"
     ]
    },
    {
     "name": "stderr",
     "output_type": "stream",
     "text": [
      "Solving adaptive DLRA:  81%|████████  | 810/1000 [01:01<00:11, 16.79it/s]"
     ]
    },
    {
     "name": "stdout",
     "output_type": "stream",
     "text": [
      "Rank has changed from 15 to 14 at t = 0.807\n",
      "Rank has changed from 14 to 12 at t = 0.81\n",
      "Rank has changed from 12 to 13 at t = 0.811\n"
     ]
    },
    {
     "name": "stderr",
     "output_type": "stream",
     "text": [
      "Solving adaptive DLRA:  82%|████████▏ | 818/1000 [01:02<00:09, 19.68it/s]"
     ]
    },
    {
     "name": "stdout",
     "output_type": "stream",
     "text": [
      "Rank has changed from 13 to 12 at t = 0.8140000000000001\n"
     ]
    },
    {
     "name": "stderr",
     "output_type": "stream",
     "text": [
      "Solving adaptive DLRA:  82%|████████▏ | 821/1000 [01:02<00:08, 20.48it/s]"
     ]
    },
    {
     "name": "stdout",
     "output_type": "stream",
     "text": [
      "Rank has changed from 12 to 11 at t = 0.8190000000000001\n",
      "Rank has changed from 11 to 13 at t = 0.8200000000000001\n",
      "Rank has changed from 13 to 12 at t = 0.8210000000000001\n",
      "Rank has changed from 12 to 11 at t = 0.8220000000000001\n",
      "Rank has changed from 11 to 13 at t = 0.8230000000000001\n"
     ]
    },
    {
     "name": "stderr",
     "output_type": "stream",
     "text": [
      "Solving adaptive DLRA:  83%|████████▎ | 827/1000 [01:02<00:08, 21.59it/s]"
     ]
    },
    {
     "name": "stdout",
     "output_type": "stream",
     "text": [
      "Rank has changed from 13 to 12 at t = 0.8240000000000001\n",
      "Rank has changed from 12 to 13 at t = 0.8260000000000001\n",
      "Rank has changed from 13 to 12 at t = 0.8270000000000001\n",
      "Rank has changed from 12 to 13 at t = 0.8280000000000001\n"
     ]
    },
    {
     "name": "stderr",
     "output_type": "stream",
     "text": [
      "Solving adaptive DLRA:  83%|████████▎ | 833/1000 [01:02<00:07, 22.31it/s]"
     ]
    },
    {
     "name": "stdout",
     "output_type": "stream",
     "text": [
      "Rank has changed from 13 to 12 at t = 0.8290000000000001\n",
      "Rank has changed from 12 to 11 at t = 0.8300000000000001\n",
      "Rank has changed from 11 to 12 at t = 0.8320000000000001\n"
     ]
    },
    {
     "name": "stderr",
     "output_type": "stream",
     "text": [
      "Solving adaptive DLRA:  84%|████████▍ | 839/1000 [01:02<00:06, 23.24it/s]"
     ]
    },
    {
     "name": "stdout",
     "output_type": "stream",
     "text": [
      "Rank has changed from 12 to 11 at t = 0.836\n",
      "Rank has changed from 11 to 12 at t = 0.838\n",
      "Rank has changed from 12 to 11 at t = 0.84\n"
     ]
    },
    {
     "name": "stderr",
     "output_type": "stream",
     "text": [
      "Solving adaptive DLRA:  84%|████████▍ | 845/1000 [01:03<00:06, 23.00it/s]"
     ]
    },
    {
     "name": "stdout",
     "output_type": "stream",
     "text": [
      "Rank has changed from 11 to 12 at t = 0.841\n",
      "Rank has changed from 12 to 11 at t = 0.842\n",
      "Rank has changed from 11 to 12 at t = 0.843\n",
      "Rank has changed from 12 to 11 at t = 0.844\n"
     ]
    },
    {
     "name": "stderr",
     "output_type": "stream",
     "text": [
      "Solving adaptive DLRA:  85%|████████▍ | 848/1000 [01:03<00:06, 22.59it/s]"
     ]
    },
    {
     "name": "stdout",
     "output_type": "stream",
     "text": [
      "Rank has changed from 11 to 13 at t = 0.846\n",
      "Rank has changed from 13 to 12 at t = 0.847\n",
      "Rank has changed from 12 to 11 at t = 0.848\n",
      "Rank has changed from 11 to 12 at t = 0.849\n"
     ]
    },
    {
     "name": "stderr",
     "output_type": "stream",
     "text": [
      "Solving adaptive DLRA:  85%|████████▌ | 854/1000 [01:03<00:06, 21.51it/s]"
     ]
    },
    {
     "name": "stdout",
     "output_type": "stream",
     "text": [
      "Rank has changed from 12 to 11 at t = 0.851\n",
      "Rank has changed from 11 to 12 at t = 0.852\n",
      "Rank has changed from 12 to 11 at t = 0.855\n"
     ]
    },
    {
     "name": "stderr",
     "output_type": "stream",
     "text": [
      "Solving adaptive DLRA:  86%|████████▌ | 860/1000 [01:03<00:06, 22.27it/s]"
     ]
    },
    {
     "name": "stdout",
     "output_type": "stream",
     "text": [
      "Rank has changed from 11 to 12 at t = 0.857\n",
      "Rank has changed from 12 to 11 at t = 0.859\n",
      "Rank has changed from 11 to 12 at t = 0.861\n"
     ]
    },
    {
     "name": "stderr",
     "output_type": "stream",
     "text": [
      "Solving adaptive DLRA:  87%|████████▋ | 866/1000 [01:04<00:06, 21.89it/s]"
     ]
    },
    {
     "name": "stdout",
     "output_type": "stream",
     "text": [
      "Rank has changed from 12 to 13 at t = 0.864\n",
      "Rank has changed from 13 to 11 at t = 0.865\n",
      "Rank has changed from 11 to 12 at t = 0.866\n"
     ]
    },
    {
     "name": "stderr",
     "output_type": "stream",
     "text": [
      "Solving adaptive DLRA:  87%|████████▋ | 872/1000 [01:04<00:05, 21.88it/s]"
     ]
    },
    {
     "name": "stdout",
     "output_type": "stream",
     "text": [
      "Rank has changed from 12 to 11 at t = 0.87\n",
      "Rank has changed from 11 to 12 at t = 0.871\n",
      "Rank has changed from 12 to 11 at t = 0.872\n",
      "Rank has changed from 11 to 10 at t = 0.873\n",
      "Rank has changed from 10 to 11 at t = 0.874\n"
     ]
    },
    {
     "name": "stderr",
     "output_type": "stream",
     "text": [
      "Solving adaptive DLRA:  88%|████████▊ | 878/1000 [01:04<00:05, 22.25it/s]"
     ]
    },
    {
     "name": "stdout",
     "output_type": "stream",
     "text": [
      "Rank has changed from 11 to 12 at t = 0.876\n",
      "Rank has changed from 12 to 11 at t = 0.878\n",
      "Rank has changed from 11 to 12 at t = 0.88\n"
     ]
    },
    {
     "name": "stderr",
     "output_type": "stream",
     "text": [
      "Solving adaptive DLRA:  88%|████████▊ | 884/1000 [01:04<00:05, 22.62it/s]"
     ]
    },
    {
     "name": "stdout",
     "output_type": "stream",
     "text": [
      "Rank has changed from 12 to 11 at t = 0.881\n",
      "Rank has changed from 11 to 12 at t = 0.882\n",
      "Rank has changed from 12 to 11 at t = 0.884\n",
      "Rank has changed from 11 to 12 at t = 0.885\n"
     ]
    },
    {
     "name": "stderr",
     "output_type": "stream",
     "text": [
      "Solving adaptive DLRA:  89%|████████▉ | 890/1000 [01:05<00:04, 22.42it/s]"
     ]
    },
    {
     "name": "stdout",
     "output_type": "stream",
     "text": [
      "Rank has changed from 12 to 11 at t = 0.886\n",
      "Rank has changed from 11 to 12 at t = 0.888\n",
      "Rank has changed from 12 to 11 at t = 0.889\n"
     ]
    },
    {
     "name": "stderr",
     "output_type": "stream",
     "text": [
      "Solving adaptive DLRA:  90%|████████▉ | 896/1000 [01:05<00:04, 23.27it/s]"
     ]
    },
    {
     "name": "stdout",
     "output_type": "stream",
     "text": [
      "Rank has changed from 11 to 12 at t = 0.892\n",
      "Rank has changed from 12 to 11 at t = 0.893\n",
      "Rank has changed from 11 to 12 at t = 0.895\n",
      "Rank has changed from 12 to 10 at t = 0.896\n"
     ]
    },
    {
     "name": "stderr",
     "output_type": "stream",
     "text": [
      "Solving adaptive DLRA:  90%|█████████ | 902/1000 [01:05<00:04, 24.10it/s]"
     ]
    },
    {
     "name": "stdout",
     "output_type": "stream",
     "text": [
      "Rank has changed from 10 to 11 at t = 0.898\n",
      "Rank has changed from 11 to 12 at t = 0.9\n",
      "Rank has changed from 12 to 11 at t = 0.901\n",
      "Rank has changed from 11 to 10 at t = 0.903\n"
     ]
    },
    {
     "name": "stderr",
     "output_type": "stream",
     "text": [
      "Solving adaptive DLRA:  91%|█████████ | 908/1000 [01:05<00:03, 24.04it/s]"
     ]
    },
    {
     "name": "stdout",
     "output_type": "stream",
     "text": [
      "Rank has changed from 10 to 11 at t = 0.905\n",
      "Rank has changed from 11 to 12 at t = 0.906\n",
      "Rank has changed from 12 to 11 at t = 0.907\n",
      "Rank has changed from 11 to 12 at t = 0.909\n"
     ]
    },
    {
     "name": "stderr",
     "output_type": "stream",
     "text": [
      "Solving adaptive DLRA:  91%|█████████▏| 914/1000 [01:06<00:03, 23.88it/s]"
     ]
    },
    {
     "name": "stdout",
     "output_type": "stream",
     "text": [
      "Rank has changed from 12 to 11 at t = 0.91\n",
      "Rank has changed from 11 to 10 at t = 0.912\n",
      "Rank has changed from 10 to 11 at t = 0.913\n"
     ]
    },
    {
     "name": "stderr",
     "output_type": "stream",
     "text": [
      "Solving adaptive DLRA:  92%|█████████▏| 920/1000 [01:06<00:03, 24.45it/s]"
     ]
    },
    {
     "name": "stdout",
     "output_type": "stream",
     "text": [
      "Rank has changed from 11 to 10 at t = 0.916\n",
      "Rank has changed from 10 to 12 at t = 0.918\n",
      "Rank has changed from 12 to 10 at t = 0.919\n",
      "Rank has changed from 10 to 12 at t = 0.921\n"
     ]
    },
    {
     "name": "stderr",
     "output_type": "stream",
     "text": [
      "Solving adaptive DLRA:  93%|█████████▎| 926/1000 [01:06<00:03, 23.94it/s]"
     ]
    },
    {
     "name": "stdout",
     "output_type": "stream",
     "text": [
      "Rank has changed from 12 to 11 at t = 0.923\n",
      "Rank has changed from 11 to 12 at t = 0.924\n",
      "Rank has changed from 12 to 11 at t = 0.925\n",
      "Rank has changed from 11 to 12 at t = 0.927\n"
     ]
    },
    {
     "name": "stderr",
     "output_type": "stream",
     "text": [
      "Solving adaptive DLRA:  93%|█████████▎| 932/1000 [01:06<00:02, 23.87it/s]"
     ]
    },
    {
     "name": "stdout",
     "output_type": "stream",
     "text": [
      "Rank has changed from 12 to 10 at t = 0.929\n",
      "Rank has changed from 10 to 11 at t = 0.93\n",
      "Rank has changed from 11 to 10 at t = 0.931\n",
      "Rank has changed from 10 to 11 at t = 0.932\n"
     ]
    },
    {
     "name": "stderr",
     "output_type": "stream",
     "text": [
      "Solving adaptive DLRA:  95%|█████████▍| 947/1000 [01:07<00:02, 20.82it/s]"
     ]
    },
    {
     "name": "stdout",
     "output_type": "stream",
     "text": [
      "Rank has changed from 11 to 10 at t = 0.9450000000000001\n",
      "Rank has changed from 10 to 11 at t = 0.9460000000000001\n",
      "Rank has changed from 11 to 12 at t = 0.9470000000000001\n",
      "Rank has changed from 12 to 11 at t = 0.9480000000000001\n"
     ]
    },
    {
     "name": "stderr",
     "output_type": "stream",
     "text": [
      "Solving adaptive DLRA:  95%|█████████▌| 953/1000 [01:07<00:02, 21.17it/s]"
     ]
    },
    {
     "name": "stdout",
     "output_type": "stream",
     "text": [
      "Rank has changed from 11 to 12 at t = 0.9500000000000001\n",
      "Rank has changed from 12 to 10 at t = 0.9510000000000001\n",
      "Rank has changed from 10 to 11 at t = 0.9520000000000001\n",
      "Rank has changed from 11 to 12 at t = 0.9530000000000001\n",
      "Rank has changed from 12 to 11 at t = 0.9540000000000001\n"
     ]
    },
    {
     "name": "stderr",
     "output_type": "stream",
     "text": [
      "Solving adaptive DLRA:  96%|█████████▌| 962/1000 [01:08<00:01, 22.78it/s]"
     ]
    },
    {
     "name": "stdout",
     "output_type": "stream",
     "text": [
      "Rank has changed from 11 to 12 at t = 0.9580000000000001\n",
      "Rank has changed from 12 to 11 at t = 0.96\n",
      "Rank has changed from 11 to 12 at t = 0.962\n"
     ]
    },
    {
     "name": "stderr",
     "output_type": "stream",
     "text": [
      "Solving adaptive DLRA:  96%|█████████▋| 965/1000 [01:08<00:01, 23.21it/s]"
     ]
    },
    {
     "name": "stdout",
     "output_type": "stream",
     "text": [
      "Rank has changed from 12 to 11 at t = 0.963\n",
      "Rank has changed from 11 to 10 at t = 0.966\n",
      "Rank has changed from 10 to 12 at t = 0.967\n"
     ]
    },
    {
     "name": "stderr",
     "output_type": "stream",
     "text": [
      "Solving adaptive DLRA:  97%|█████████▋| 971/1000 [01:08<00:01, 22.41it/s]"
     ]
    },
    {
     "name": "stdout",
     "output_type": "stream",
     "text": [
      "Rank has changed from 12 to 11 at t = 0.968\n",
      "Rank has changed from 11 to 12 at t = 0.971\n"
     ]
    },
    {
     "name": "stderr",
     "output_type": "stream",
     "text": [
      "Solving adaptive DLRA:  98%|█████████▊| 977/1000 [01:09<00:00, 23.72it/s]"
     ]
    },
    {
     "name": "stdout",
     "output_type": "stream",
     "text": [
      "Rank has changed from 12 to 11 at t = 0.973\n",
      "Rank has changed from 11 to 10 at t = 0.974\n",
      "Rank has changed from 10 to 12 at t = 0.976\n",
      "Rank has changed from 12 to 11 at t = 0.978\n"
     ]
    },
    {
     "name": "stderr",
     "output_type": "stream",
     "text": [
      "Solving adaptive DLRA:  98%|█████████▊| 983/1000 [01:09<00:00, 23.87it/s]"
     ]
    },
    {
     "name": "stdout",
     "output_type": "stream",
     "text": [
      "Rank has changed from 11 to 10 at t = 0.979\n",
      "Rank has changed from 10 to 11 at t = 0.98\n",
      "Rank has changed from 11 to 10 at t = 0.981\n",
      "Rank has changed from 10 to 11 at t = 0.982\n",
      "Rank has changed from 11 to 12 at t = 0.983\n"
     ]
    },
    {
     "name": "stderr",
     "output_type": "stream",
     "text": [
      "Solving adaptive DLRA:  99%|█████████▊| 986/1000 [01:09<00:00, 23.84it/s]"
     ]
    },
    {
     "name": "stdout",
     "output_type": "stream",
     "text": [
      "Rank has changed from 12 to 11 at t = 0.984\n",
      "Rank has changed from 11 to 10 at t = 0.988\n"
     ]
    },
    {
     "name": "stderr",
     "output_type": "stream",
     "text": [
      "Solving adaptive DLRA:  99%|█████████▉| 992/1000 [01:09<00:00, 23.00it/s]"
     ]
    },
    {
     "name": "stdout",
     "output_type": "stream",
     "text": [
      "Rank has changed from 10 to 11 at t = 0.989\n"
     ]
    },
    {
     "name": "stderr",
     "output_type": "stream",
     "text": [
      "Solving adaptive DLRA: 100%|█████████▉| 998/1000 [01:09<00:00, 23.57it/s]"
     ]
    },
    {
     "name": "stdout",
     "output_type": "stream",
     "text": [
      "Rank has changed from 11 to 12 at t = 0.995\n",
      "Rank has changed from 12 to 11 at t = 0.996\n",
      "Rank has changed from 11 to 10 at t = 0.998\n",
      "Rank has changed from 10 to 11 at t = 0.999\n"
     ]
    },
    {
     "name": "stderr",
     "output_type": "stream",
     "text": [
      "Solving adaptive DLRA: 100%|██████████| 1000/1000 [01:09<00:00, 14.29it/s]\n"
     ]
    }
   ],
   "source": [
    "# Loop over the tolerances\n",
    "for j, tol in enumerate(tolerances):\n",
    "    # Compute the solution with the current method\n",
    "    Y0 = X0.truncate(rtol = tol)\n",
    "    dlra_solutions[j] = solve_adaptive_dlra(ode, t_span, Y0, adaptive_dlra_solver=dlra_solver, solver_kwargs=method_kwargs, monitor=True, t_eval=ts, rtol=tol, atol=None)\n",
    "\n",
    "# Compute the error over time\n",
    "errors = np.zeros((nb_t_steps, len(tolerances)))\n",
    "for i in range(nb_t_steps):\n",
    "    for j, tol in enumerate(tolerances):\n",
    "        errors[i, j] = np.linalg.norm(Xs_ref[i] - dlra_solutions[j].Xs[i].todense(), 'fro') / np.linalg.norm(Xs_ref[i], 'fro')\n",
    "\n",
    "# Extract the rank over time\n",
    "ranks = np.zeros((nb_t_steps, len(tolerances)))\n",
    "for i in np.arange(0, nb_t_steps):\n",
    "    for j, tol in enumerate(tolerances):\n",
    "        ranks[i, j] = dlra_solutions[j].Xs[i].rank"
   ]
  },
  {
   "cell_type": "markdown",
   "metadata": {},
   "source": [
    "### Plot the results"
   ]
  },
  {
   "cell_type": "code",
   "execution_count": 9,
   "metadata": {},
   "outputs": [
    {
     "data": {
      "image/png": "[encoded data removed]",
      "text/plain": [
       "<Figure size 1000x750 with 1 Axes>"
      ]
     },
     "metadata": {},
     "output_type": "display_data"
    },
    {
     "data": {
      "image/png": "[encoded data removed]",
      "text/plain": [
       "<Figure size 1000x750 with 1 Axes>"
      ]
     },
     "metadata": {},
     "output_type": "display_data"
    }
   ],
   "source": [
    "# Plot the error over time\n",
    "fig1 = plt.figure()\n",
    "colors = ['tab:blue', 'tab:orange', 'tab:green']\n",
    "for i in range(len(tolerances)):\n",
    "    plt.semilogy(ts, errors[:, i], label=f'Tolerance {tolerances[i]}', color=colors[i])\n",
    "    plt.axhline(tolerances[i], linestyle='--', color=colors[i])\n",
    "plt.legend(loc='upper left')\n",
    "plt.xlabel(\"Time\")\n",
    "plt.ylabel(\"Relative error in Frobenius norm\")\n",
    "plt.ylim(1e-12, 1e-1)\n",
    "plt.grid()\n",
    "plt.tight_layout()\n",
    "plt.show()\n",
    "\n",
    "if do_save:\n",
    "    timestamp = datetime.datetime.now().strftime(\"%Y%m%d%H%M%S\")\n",
    "    fig1.savefig(f'figures/lyapunov_adaptive_error_{timestamp}.pdf')\n",
    "\n",
    "# Plot the rank over time\n",
    "fig2 = plt.figure()\n",
    "for i in range(len(tolerances)):\n",
    "    plt.plot(ts, ranks[:, i], label=f'Tolerance {tolerances[i]}', color=colors[i])\n",
    "    \n",
    "plt.legend(loc = 'upper left')\n",
    "plt.ylim(0, 50)\n",
    "plt.grid()\n",
    "plt.xlabel(\"Time\")\n",
    "plt.ylabel(\"Rank\")\n",
    "plt.tight_layout()\n",
    "plt.show()\n",
    "\n",
    "if do_save:\n",
    "    timestamp = datetime.datetime.now().strftime(\"%Y%m%d%H%M%S\")\n",
    "    fig2.savefig(f'figures/lyapunov_adaptive_rank_{timestamp}.pdf')"
   ]
  },
  {
   "cell_type": "markdown",
   "metadata": {},
   "source": []
  }
 ],
 "metadata": {
  "kernelspec": {
   "display_name": "projected-exponential-methods",
   "language": "python",
   "name": "python3"
  },
  "language_info": {
   "codemirror_mode": {
    "name": "ipython",
    "version": 3
   },
   "file_extension": ".py",
   "mimetype": "text/x-python",
   "name": "python",
   "nbconvert_exporter": "python",
   "pygments_lexer": "ipython3",
   "version": "3.11.4"
  },
  "orig_nbformat": 4
 },
 "nbformat": 4,
 "nbformat_minor": 2
}
